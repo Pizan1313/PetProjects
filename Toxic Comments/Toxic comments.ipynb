{
 "cells": [
  {
   "cell_type": "markdown",
   "metadata": {
    "toc": true
   },
   "source": [
    "<h1>Содержание<span class=\"tocSkip\"></span></h1>\n",
    "<div class=\"toc\"><ul class=\"toc-item\"><li><ul class=\"toc-item\"><li><span><a href=\"#Общее-впечатление\" data-toc-modified-id=\"Общее-впечатление-0.1\"><font color=\"orange\">Общее впечатление</font></a></span></li><li><span><a href=\"#Общее-впечатление-(ревью-2)\" data-toc-modified-id=\"Общее-впечатление-(ревью-2)-0.2\"><font color=\"orange\">Общее впечатление (ревью 2)</font></a></span></li></ul></li><li><span><a href=\"#Подготовка\" data-toc-modified-id=\"Подготовка-1\">Подготовка</a></span></li><li><span><a href=\"#Обучение\" data-toc-modified-id=\"Обучение-2\">Обучение</a></span></li><li><span><a href=\"#Тестирование\" data-toc-modified-id=\"Тестирование-3\">Тестирование</a></span><ul class=\"toc-item\"><li><span><a href=\"#Логистическая-регрессия\" data-toc-modified-id=\"Логистическая-регрессия-3.1\">Логистическая регрессия</a></span></li><li><span><a href=\"#Линейный-классификатор-со-стохастическим-градиентным-спуском\" data-toc-modified-id=\"Линейный-классификатор-со-стохастическим-градиентным-спуском-3.2\">Линейный классификатор со стохастическим градиентным спуском</a></span></li></ul></li><li><span><a href=\"#Выводы\" data-toc-modified-id=\"Выводы-4\">Выводы</a></span><ul class=\"toc-item\"><li><span><a href=\"#Финальный-результат:\" data-toc-modified-id=\"Финальный-результат:-4.1\">Финальный результат:</a></span></li></ul></li><li><span><a href=\"#Чек-лист-проверки\" data-toc-modified-id=\"Чек-лист-проверки-5\">Чек-лист проверки</a></span></li></ul></div>"
   ]
  },
  {
   "cell_type": "markdown",
   "metadata": {},
   "source": [
    "# Toxic comments"
   ]
  },
  {
   "cell_type": "markdown",
   "metadata": {},
   "source": [
    "Интернет-магазин запускает новый сервис. Теперь пользователи могут редактировать и дополнять описания товаров, как в вики-сообществах. То есть клиенты предлагают свои правки и комментируют изменения других. Магазину нужен инструмент, который будет искать токсичные комментарии и отправлять их на модерацию. \n",
    "\n",
    "Обучите модель классифицировать комментарии на позитивные и негативные. В вашем распоряжении набор данных с разметкой о токсичности правок.\n",
    "\n",
    "Постройте модель со значением метрики качества *F1* не меньше 0.75. \n",
    "\n",
    "**Инструкция по выполнению проекта**\n",
    "\n",
    "1. Загрузите и подготовьте данные.\n",
    "2. Обучите разные модели. \n",
    "3. Сделайте выводы.\n",
    "\n",
    "Для выполнения проекта применять *BERT* необязательно, но вы можете попробовать.\n",
    "\n",
    "**Описание данных**\n",
    "\n",
    "Данные находятся в файле `toxic_comments.csv`. Столбец *text* в нём содержит текст комментария, а *toxic* — целевой признак."
   ]
  },
  {
   "cell_type": "markdown",
   "metadata": {},
   "source": [
    "## Подготовка"
   ]
  },
  {
   "cell_type": "markdown",
   "metadata": {},
   "source": [
    "<div style=\"border-radius: 15px; box-shadow: 2px 2px 2px; border: 1px solid green; padding: 20px\">\n",
    "\n",
    "Импортируем необходимые библиотеки   \n",
    "</div>"
   ]
  },
  {
   "cell_type": "code",
   "execution_count": 1,
   "metadata": {},
   "outputs": [],
   "source": [
    "import matplotlib.pyplot as plt\n",
    "import numpy as np\n",
    "import pandas as pd\n",
    "import seaborn as sns\n",
    "from pylab import rcParams\n",
    "from matplotlib import rc\n",
    "import re\n",
    "\n",
    "from pymystem3 import Mystem\n",
    "import nltk\n",
    "from nltk.corpus import stopwords as nltk_stopwords\n",
    "from sklearn.feature_extraction.text import TfidfVectorizer\n",
    "from sklearn.model_selection import train_test_split, cross_val_score, GridSearchCV\n",
    "from sklearn.linear_model import LogisticRegression, SGDClassifier\n",
    "from sklearn.metrics import f1_score, precision_score, recall_score, accuracy_score, roc_auc_score, roc_curve\n",
    "from sklearn.metrics import confusion_matrix, classification_report\n",
    "from sklearn.utils import shuffle\n",
    "import warnings\n",
    "warnings.filterwarnings('ignore')"
   ]
  },
  {
   "cell_type": "code",
   "execution_count": 2,
   "metadata": {},
   "outputs": [],
   "source": [
    "df = pd.read_csv('toxic_comments.csv')"
   ]
  },
  {
   "cell_type": "markdown",
   "metadata": {},
   "source": [
    "<div style=\"border-radius: 15px; box-shadow: 2px 2px 2px; border: 1px solid green; padding: 20px\">\n",
    "\n",
    "Изучим данные на пропуски, типы, посмотрим как они выглядят   \n",
    "</div>"
   ]
  },
  {
   "cell_type": "code",
   "execution_count": 3,
   "metadata": {},
   "outputs": [
    {
     "name": "stdout",
     "output_type": "stream",
     "text": [
      "<class 'pandas.core.frame.DataFrame'>\n",
      "RangeIndex: 159571 entries, 0 to 159570\n",
      "Data columns (total 2 columns):\n",
      " #   Column  Non-Null Count   Dtype \n",
      "---  ------  --------------   ----- \n",
      " 0   text    159571 non-null  object\n",
      " 1   toxic   159571 non-null  int64 \n",
      "dtypes: int64(1), object(1)\n",
      "memory usage: 2.4+ MB\n"
     ]
    },
    {
     "data": {
      "text/html": [
       "<div>\n",
       "<style scoped>\n",
       "    .dataframe tbody tr th:only-of-type {\n",
       "        vertical-align: middle;\n",
       "    }\n",
       "\n",
       "    .dataframe tbody tr th {\n",
       "        vertical-align: top;\n",
       "    }\n",
       "\n",
       "    .dataframe thead th {\n",
       "        text-align: right;\n",
       "    }\n",
       "</style>\n",
       "<table border=\"1\" class=\"dataframe\">\n",
       "  <thead>\n",
       "    <tr style=\"text-align: right;\">\n",
       "      <th></th>\n",
       "      <th>text</th>\n",
       "      <th>toxic</th>\n",
       "    </tr>\n",
       "  </thead>\n",
       "  <tbody>\n",
       "    <tr>\n",
       "      <th>0</th>\n",
       "      <td>Explanation\\nWhy the edits made under my usern...</td>\n",
       "      <td>0</td>\n",
       "    </tr>\n",
       "    <tr>\n",
       "      <th>1</th>\n",
       "      <td>D'aww! He matches this background colour I'm s...</td>\n",
       "      <td>0</td>\n",
       "    </tr>\n",
       "    <tr>\n",
       "      <th>2</th>\n",
       "      <td>Hey man, I'm really not trying to edit war. It...</td>\n",
       "      <td>0</td>\n",
       "    </tr>\n",
       "    <tr>\n",
       "      <th>3</th>\n",
       "      <td>\"\\nMore\\nI can't make any real suggestions on ...</td>\n",
       "      <td>0</td>\n",
       "    </tr>\n",
       "    <tr>\n",
       "      <th>4</th>\n",
       "      <td>You, sir, are my hero. Any chance you remember...</td>\n",
       "      <td>0</td>\n",
       "    </tr>\n",
       "  </tbody>\n",
       "</table>\n",
       "</div>"
      ],
      "text/plain": [
       "                                                text  toxic\n",
       "0  Explanation\\nWhy the edits made under my usern...      0\n",
       "1  D'aww! He matches this background colour I'm s...      0\n",
       "2  Hey man, I'm really not trying to edit war. It...      0\n",
       "3  \"\\nMore\\nI can't make any real suggestions on ...      0\n",
       "4  You, sir, are my hero. Any chance you remember...      0"
      ]
     },
     "metadata": {},
     "output_type": "display_data"
    }
   ],
   "source": [
    "df.info()\n",
    "display(df.head(5))\n"
   ]
  },
  {
   "cell_type": "markdown",
   "metadata": {},
   "source": [
    "<div style=\"border-radius: 15px; box-shadow: 2px 2px 2px; border: 1px solid green; padding: 20px\">\n",
    "\n",
    "Перед нами информация по 159571 комментарию на английском языке. Все комментарии имеют разметку 1 или 0, в зависимости от их токсичности:\n",
    "- 1 - Токсичный\n",
    "- 0 - Нормальный\n",
    "\n",
    "Посмотрим на соотношения количества этих комментариев на графике\n",
    "</div>"
   ]
  },
  {
   "cell_type": "code",
   "execution_count": 4,
   "metadata": {},
   "outputs": [
    {
     "data": {
      "image/png": "[encoded data removed]",
      "text/plain": [
       "<Figure size 864x576 with 1 Axes>"
      ]
     },
     "metadata": {
      "needs_background": "light"
     },
     "output_type": "display_data"
    }
   ],
   "source": [
    "rcParams['figure.figsize'] = 12, 8\n",
    "def make_countplot(data,message):\n",
    "    try:\n",
    "        ax = sns.countplot(data['toxic'])\n",
    "    except:\n",
    "        ax = sns.countplot(data)\n",
    "    plt.xlabel(f'\\n Распределение токсичности {message}', fontsize = 15)\n",
    "    ax.set_xticklabels([\"Clear\", \"Toxic\"], fontsize = 15)\n",
    "    plt.ylabel(\"Процентное соотношение комментариев\", fontsize = 15)\n",
    "\n",
    "    total = float(len(data))\n",
    "    for p in ax.patches:\n",
    "        percentage = '{:.1f}%'.format(100 * p.get_height()/total)\n",
    "        x = p.get_x() - 0.4 + p.get_width()\n",
    "        y = p.get_height()\n",
    "        ax.annotate(percentage, (x, y),ha='center', fontsize=15)\n",
    "    plt.show()\n",
    "    \n",
    "make_countplot(df, 'всех коментариев')"
   ]
  },
  {
   "cell_type": "markdown",
   "metadata": {},
   "source": [
    "<div style=\"border-radius: 15px; box-shadow: 2px 2px 2px; border: 1px solid green; padding: 20px\">\n",
    "\n",
    "Перед нами явный дисбаланс комментариев. Токсичные составляют чуть больше 10% от общего количества. Это похоже на реальные данные, судя по статистике токсичности комментариев. Хотя, судя по моему почтовому ящику, должно быть наоборот 🤣\n",
    "    \n",
    "Язык этих комментариев - английский. Следующим шагом лемматизируем текст и уберём лишние символы и знаки, которые могут помешать нашей модели обучаться на данных. Для Лемматизации используем морфологический анализатор <code>Mystem</code> из библиотеки <code>pymystem3</code>. Для очистки исопльзуем модуль <code>re</code>\n",
    "    \n",
    "После лемматизации и очистки, запишем полученное в новый столбец <code>lemm_text</code> и удалим старый <code>text</code>.\n",
    "</div>"
   ]
  },
  {
   "cell_type": "code",
   "execution_count": null,
   "metadata": {},
   "outputs": [],
   "source": [
    "%%time\n",
    "\n",
    "m = Mystem()\n",
    "\n",
    "def lemmatize_text(text):\n",
    "    text = text.lower()\n",
    "    lemm_text = \"\".join(m.lemmatize(text))\n",
    "    cleared_text = re.sub(r'[^a-zA-Z]', ' ', lemm_text) \n",
    "    return \" \".join(cleared_text.split())\n",
    "\n",
    "df['lemm_text'] = df['text'].apply(lemmatize_text)\n",
    "\n",
    "df = df.drop(['text'], axis=1)\n",
    "del m"
   ]
  },
  {
   "cell_type": "markdown",
   "metadata": {},
   "source": [
    "<div class=\"alert alert-block alert-info\">\n",
    "<b>Совет: </b> Этот лемматизатор работает только с расским языком, так что его нет смысла применять.\n",
    "</div>\n",
    "\n",
    "<div class=\"alert alert-block alert-info\">\n",
    "<b>Совет: </b> Очистку желательно было провести до лемматизации.\n",
    "</div>"
   ]
  },
  {
   "cell_type": "markdown",
   "metadata": {},
   "source": [
    "<div class=\"alert alert-block alert-warning\" style=\"border-radius: 15px; box-shadow: 4px 4px 4px; border: 1px solid \"> \n",
    "<b>Комментарий студента №1 :</b>\n",
    "    \n",
    "Понял\n",
    "</div>"
   ]
  },
  {
   "cell_type": "markdown",
   "metadata": {},
   "source": [
    "<div style=\"border-radius: 15px; box-shadow: 2px 2px 2px; border: 1px solid green; padding: 20px\">\n",
    "\n",
    "Посмотрим что у нас получилось\n",
    "</div>"
   ]
  },
  {
   "cell_type": "code",
   "execution_count": null,
   "metadata": {},
   "outputs": [],
   "source": [
    "df['lemm_text']"
   ]
  },
  {
   "cell_type": "markdown",
   "metadata": {},
   "source": [
    "<div style=\"border-radius: 15px; box-shadow: 2px 2px 2px; border: 1px solid green; padding: 20px\">\n",
    "\n",
    "Для обучения модели разобьём датасет на 3 выборки: Обучающую(60%), Валидационную(20%) и Тестовую(20%); этого должно хватить. Сделаем это таким образом, чтобы в выборках сохранялась пропорция токсичных и нормальных комментариев за счет параметра <code>stratify</code>\n",
    "Далее в фичах переведём лемматизированный текст к типу Юникод и расставим веса с помощью <code>TfidfVectorizer</code> и <code>nltk</code>. Отобразим размерность выборок и построим графики, чтобы убедиться, что распределение комментариев везде одинаковое.\n",
    "</div>"
   ]
  },
  {
   "cell_type": "code",
   "execution_count": null,
   "metadata": {},
   "outputs": [],
   "source": [
    "target = df['toxic']\n",
    "features = df.drop(['toxic'], axis=1)\n",
    "\n",
    "features_train, features_valid, target_train, target_valid = train_test_split(features, \n",
    "                                                                              target, \n",
    "                                                                              test_size=0.3,\n",
    "                                                                              stratify=target,\n",
    "                                                                              random_state=12345)\n",
    "features_valid, features_test, target_valid, target_test = train_test_split(features_valid, \n",
    "                                                                            target_valid, \n",
    "                                                                            test_size=0.5,\n",
    "                                                                            stratify=target_valid,\n",
    "                                                                            random_state=12345)"
   ]
  },
  {
   "cell_type": "code",
   "execution_count": null,
   "metadata": {},
   "outputs": [],
   "source": [
    "nltk.download('stopwords')\n",
    "stopwords = set(nltk_stopwords.words('english'))"
   ]
  },
  {
   "cell_type": "code",
   "execution_count": null,
   "metadata": {},
   "outputs": [],
   "source": [
    "%%time\n",
    "\n",
    "count_tf_idf = TfidfVectorizer(stop_words=stopwords)\n",
    "\n",
    "features_train = count_tf_idf.fit_transform(features_train['lemm_text'].values.astype('U'))\n",
    "features_valid = count_tf_idf.transform(features_valid['lemm_text'].values.astype('U'))\n",
    "features_test = count_tf_idf.transform(features_test['lemm_text'].values.astype('U'))"
   ]
  },
  {
   "cell_type": "code",
   "execution_count": null,
   "metadata": {},
   "outputs": [],
   "source": [
    "print(features_train.shape)\n",
    "print(features_valid.shape)\n",
    "print(features_test.shape)"
   ]
  },
  {
   "cell_type": "code",
   "execution_count": null,
   "metadata": {},
   "outputs": [],
   "source": [
    "make_countplot(target_train, 'на тренировочной выборке')"
   ]
  },
  {
   "cell_type": "code",
   "execution_count": null,
   "metadata": {},
   "outputs": [],
   "source": [
    "make_countplot(target_valid, 'на валидационной выборке')"
   ]
  },
  {
   "cell_type": "code",
   "execution_count": null,
   "metadata": {},
   "outputs": [],
   "source": [
    "make_countplot(target_test, 'на тестовой выборке')"
   ]
  },
  {
   "cell_type": "markdown",
   "metadata": {},
   "source": [
    "<div style=\"border-radius: 15px; box-shadow: 2px 2px 2px; border: 1px solid green; padding: 20px\">\n",
    "\n",
    "Чтобы определиться с выбором модели, возьмём модель Логистической регрессии, проведём кроссвалидацию и посмотрим на параметр f1. Исходя из этого результата будем решать, подходит ли самая простая модель для решения поставленной задачи или нет.\n",
    "</div>"
   ]
  },
  {
   "cell_type": "code",
   "execution_count": null,
   "metadata": {},
   "outputs": [],
   "source": [
    "%%time\n",
    "\n",
    "model = LogisticRegression()\n",
    "train_f1 = cross_val_score(model, \n",
    "                           features_train, \n",
    "                           target_train, \n",
    "                           cv=3, \n",
    "                           scoring='f1').mean()\n",
    "print(f'F1 на CV {train_f1}')"
   ]
  },
  {
   "cell_type": "markdown",
   "metadata": {},
   "source": [
    "<div class=\"alert alert-block alert-info\">\n",
    "<b>Совет: </b> Напомню, что внутри кросс-валидации происходит разбиение выборки на треин и валидацию. Однако, в таком случае векторизатор обучен на всей выборке, а это не совсем корректно. Для избежания такого эффекта можно использовать <a href=\"https://scikit-learn.org/stable/modules/generated/sklearn.pipeline.Pipeline.html\">пайплайн</a>. <a href=\"https://medium.com/analytics-vidhya/ml-pipelines-using-scikit-learn-and-gridsearchcv-fe605a7f9e05\">Тут</a> есть пример.\n",
    "</div>"
   ]
  },
  {
   "cell_type": "markdown",
   "metadata": {},
   "source": [
    "<div class=\"alert alert-block alert-warning\" style=\"border-radius: 15px; box-shadow: 4px 4px 4px; border: 1px solid \"> \n",
    "<b>Комментарий студента № :</b>\n",
    "    \n",
    "Не совсем понял. Он же обучается на всей обучающей выборке (70% от общей) так и надо же вроде. Я ведь не затрагиваю тренировочную выборку\n",
    "</div>"
   ]
  },
  {
   "cell_type": "markdown",
   "metadata": {},
   "source": [
    "<div class=\"alert alert-block alert-info\">\n",
    "<b>Совет (ревью 2): </b> Да, но ведь при обучении векторизатора ты затрагиваешь всю выборку, а не только эти 70% (на самом деле 66%, то есть 2/3).\n",
    "\n",
    "1. Внутри кросс-валидации происзодит разбиение переданной в нее выборку на части (треин и валидация). Подробнее тут: https://codecamp.ru/blog/cross-validation-k-fold/\n",
    "2. Мы хотим, чтобы при подборе параметров внутри кросс-валидации векторизатор не обучался на валидации. Для этого нам нужно его обучать каждый раз только на треине (внутри кросс-валидации). Для этого и нужен пайплайн, чтобы внутри кросс-валидации обучалась не только модель, но и векторизатор. \n",
    "\n",
    "Вот такой пайплайн нужно передать в кросс-валидацию:  \n",
    "`pipe_lr = Pipeline([(‘vect’, CountVectorizer()),\n",
    " (‘tfidf’, TfidfTransformer()),\n",
    " (‘model’, LogisticRegression())])`\n",
    "    \n",
    "Тут подробнее про то, как тюнить параметры у пайплайна: https://stackoverflow.com/questions/51606341/hyper-parameter-tuning-on-pipeline-object\n",
    "</div>"
   ]
  },
  {
   "cell_type": "markdown",
   "metadata": {},
   "source": [
    "<div style=\"border-radius: 15px; box-shadow: 2px 2px 2px; border: 1px solid green; padding: 20px\">\n",
    "\n",
    "Принято решение использовать модель Логистической регрессии по 2 причинам:\n",
    "    - Без подбора гиперпараметров модель показывает относительно высокий f1\n",
    "    - Модель быстро считает большой объём информации. Скорее всего, модели деревьев и лесов будут решать подобную задачу дольше и это будет неприемлимо для бизнеса. По причине того, что реагировать на токсичность комментариев необходимо максимально быстро и быстро принимать решение о модерации, бане комментатора или других действий.\n",
    "    \n",
    "Попробуем 3 варианта борьбы с дисбалансом классов:\n",
    "1. Пропишем для модели веса классов вручную\n",
    "2. Зададим вложенной функцией <code>class_weight='balanced'</code>\n",
    "3. Произведём даунсемплинг большего класса - нулей.\n",
    "</div>"
   ]
  },
  {
   "cell_type": "markdown",
   "metadata": {},
   "source": [
    "## Обучение"
   ]
  },
  {
   "cell_type": "code",
   "execution_count": null,
   "metadata": {},
   "outputs": [],
   "source": [
    "%%time\n",
    "class_ratio = df['toxic'].value_counts()[0] / df['toxic'].value_counts()[1]\n",
    "dict_classes={0:1, 1:class_ratio}\n",
    "model = LogisticRegression(class_weight=dict_classes)\n",
    "train_f1_ballanced = cross_val_score(model, \n",
    "                                     features_train, \n",
    "                                     target_train, \n",
    "                                     cv=3, \n",
    "                                     scoring='f1').mean()\n",
    "print(f'F1 на CV со сбалансированными классами {train_f1_ballanced}')"
   ]
  },
  {
   "cell_type": "code",
   "execution_count": null,
   "metadata": {},
   "outputs": [],
   "source": [
    "%%time\n",
    "\n",
    "model = LogisticRegression(class_weight='balanced')\n",
    "train_f1_balanced = cross_val_score(model, \n",
    "                                    features_train, \n",
    "                                    target_train, \n",
    "                                    cv=3, \n",
    "                                    scoring='f1').mean()\n",
    "print(f'F1 на CV со сбалансированными классами {train_f1_ballanced}')"
   ]
  },
  {
   "cell_type": "markdown",
   "metadata": {},
   "source": [
    "<div style=\"border-radius: 15px; box-shadow: 2px 2px 2px; border: 1px solid green; padding: 20px\">\n",
    "\n",
    "Использовать сбалансированные классы двумя разными подходами нет необходимости, результат получается одинаковый\n",
    "    \n",
    "Проведём ресемплирование\n",
    "</div>"
   ]
  },
  {
   "cell_type": "code",
   "execution_count": null,
   "metadata": {},
   "outputs": [],
   "source": [
    "# Создадим новый датафрейн из исходного, выбрав комментарии из обучающей выборки\n",
    "df_train = df.iloc[target_train.index]\n",
    "\n",
    "# Разделим на нули и единицы\n",
    "target_train_class_zero = df_train[df_train['toxic'] == 0]['toxic']\n",
    "target_train_class_one = df_train[df_train['toxic'] == 1]['toxic']"
   ]
  },
  {
   "cell_type": "code",
   "execution_count": null,
   "metadata": {},
   "outputs": [],
   "source": [
    "%%time\n",
    "\n",
    "# Возьмём одинаковое количество нулей и единиц\n",
    "target_train_class_zero_downsample = target_train_class_zero.sample(target_train_class_one.shape[0],\n",
    "                                                                    random_state=12345)\n",
    "# Объединим их, создав таким образом сбалансированную обучающую выборку\n",
    "target_train_downsample = pd.concat([target_train_class_zero_downsample, target_train_class_one])\n",
    "\n",
    "# Выберем фичи из исходного датафрейма, выбрав комментарии из таргета\n",
    "features_train_downsample = df.iloc[target_train_downsample.index]\n",
    "\n",
    "# Хорошенько всё перемешаем\n",
    "features_train_downsample, target_train_downsample = shuffle(features_train_downsample,\n",
    "                                                             target_train_downsample,\n",
    "                                                             random_state=12345)\n",
    "# Приведём всё к формату юникода, расставим веса и удалим ненужные переменные\n",
    "features_train_downsample = count_tf_idf.transform(features_train_downsample['lemm_text'].values.astype('U'))\n",
    "del count_tf_idf\n",
    "del stopwords"
   ]
  },
  {
   "cell_type": "markdown",
   "metadata": {},
   "source": [
    "<div style=\"border-radius: 15px; box-shadow: 2px 2px 2px; border: 1px solid green; padding: 20px\">\n",
    "\n",
    "Посмотрим на баланс классов\n",
    "</div>"
   ]
  },
  {
   "cell_type": "code",
   "execution_count": null,
   "metadata": {},
   "outputs": [],
   "source": [
    "make_countplot(target_train_downsample, 'на тестовой выборке')"
   ]
  },
  {
   "cell_type": "markdown",
   "metadata": {},
   "source": [
    "<div style=\"border-radius: 15px; box-shadow: 2px 2px 2px; border: 1px solid green; padding: 20px\">\n",
    "\n",
    "Самое время сделать кросс-валидацию на ресемплированных тренировочных данных и посмотреть на метрику f1\n",
    "</div>"
   ]
  },
  {
   "cell_type": "code",
   "execution_count": null,
   "metadata": {},
   "outputs": [],
   "source": [
    "%%time\n",
    "model = LogisticRegression()\n",
    "train_f1_downsampled = cross_val_score(model,\n",
    "                                       features_train_downsample, \n",
    "                                       target_train_downsample, \n",
    "                                       cv=3, \n",
    "                                       scoring='f1').mean()\n",
    "print(f'F1 на CV с уменьшением классов {train_f1_downsampled}')"
   ]
  },
  {
   "cell_type": "markdown",
   "metadata": {},
   "source": [
    "<div style=\"border-radius: 15px; box-shadow: 2px 2px 2px; border: 1px solid green; padding: 20px\">\n",
    "\n",
    "Построим Roc-Auc кривую для 3 моделей: \n",
    "- Логистическая регрессия\n",
    "- Логистическая регрессия со сбалансированными классами\n",
    "- Логистическая регрессия с даунсеплингом классов\n",
    "\n",
    "</div>"
   ]
  },
  {
   "cell_type": "code",
   "execution_count": null,
   "metadata": {},
   "outputs": [],
   "source": [
    "%%time\n",
    "\n",
    "plt.figure(figsize=[12,9])\n",
    "\n",
    "plt.plot([0, 1], [0, 1], linestyle='--', label='Константная модель')\n",
    "\n",
    "\n",
    "model = LogisticRegression()\n",
    "model.fit(features_train, target_train)\n",
    "probabilities_valid = model.predict_proba(features_valid)\n",
    "probabilities_one_valid = probabilities_valid[:, 1]\n",
    "fpr, tpr, thresholds = roc_curve(target_valid, probabilities_one_valid)\n",
    "auc_roc = roc_auc_score(target_valid, probabilities_one_valid)\n",
    "valid_f1 = f1_score(target_valid, model.predict(features_valid))\n",
    "plt.plot(fpr, tpr, label='Логистическая регрессия')\n",
    "\n",
    "model = LogisticRegression(class_weight=dict_classes)\n",
    "model.fit(features_train, target_train)\n",
    "probabilities_valid = model.predict_proba(features_valid)\n",
    "probabilities_one_valid = probabilities_valid[:, 1]\n",
    "fpr, tpr, thresholds = roc_curve(target_valid, probabilities_one_valid)\n",
    "auc_roc_balanced = roc_auc_score(target_valid, probabilities_one_valid)\n",
    "valid_f1_balanced = f1_score(target_valid, model.predict(features_valid))\n",
    "plt.plot(fpr, tpr, label='Логистическая регрессия со сбалансированными классами')\n",
    "\n",
    "model = LogisticRegression()\n",
    "model.fit(features_train_downsample,target_train_downsample)\n",
    "probabilities_valid = model.predict_proba(features_valid)\n",
    "probabilities_one_valid = probabilities_valid[:, 1]\n",
    "fpr, tpr, thresholds = roc_curve(target_valid, probabilities_one_valid)\n",
    "auc_roc_downsampled = roc_auc_score(target_valid, probabilities_one_valid)\n",
    "valid_f1_downsampled = f1_score(target_valid, model.predict(features_valid))\n",
    "plt.plot(fpr, tpr, label='Логистическая регрессия с даунсеплингом')\n",
    "\n",
    "plt.xlim([0,1])\n",
    "plt.ylim([0,1])\n",
    "\n",
    "plt.xlabel(\"False Positive Rate\", fontsize = 15)\n",
    "plt.ylabel(\"True Positive Rate\", fontsize = 15)\n",
    "\n",
    "plt.legend(loc='lower right', fontsize='x-large')\n",
    "\n",
    "plt.title(\"ROC-кривая\", fontsize = 15)\n",
    "plt.show()"
   ]
  },
  {
   "cell_type": "code",
   "execution_count": null,
   "metadata": {
    "scrolled": true
   },
   "outputs": [],
   "source": [
    "index = ['Логистическая регрессия',\n",
    "         'ЛР со сбалансированными классами',\n",
    "         'ЛР с даунсемплингом']\n",
    "results = {'F1 на CV':[train_f1,\n",
    "                    train_f1_balanced,\n",
    "                    train_f1_downsampled],\n",
    "        'F1 на валидации':[valid_f1,\n",
    "                           valid_f1_balanced,\n",
    "                           valid_f1_downsampled],\n",
    "        'AUC-ROC':[auc_roc,\n",
    "                   auc_roc_balanced,\n",
    "                   auc_roc_downsampled]}\n",
    "\n",
    "scores_data = pd.DataFrame(data=results, index=index)\n",
    "scores_data"
   ]
  },
  {
   "cell_type": "markdown",
   "metadata": {},
   "source": [
    "<div style=\"border-radius: 15px; box-shadow: 2px 2px 2px; border: 1px solid green; padding: 20px\">\n",
    "\n",
    "По результатам обучения модели Логистической регрессии с различными балансами был отобран лучший вариант предобработки данных - баланс классов. Теперь более тонко подберём гиперпараметры, проверим на валидационной выборке. В случае успеха перейдём на тестовую выборку, посчитаем f1 на тесте и отобразим результат на roc-кривой\n",
    "\n",
    "</div>"
   ]
  },
  {
   "cell_type": "markdown",
   "metadata": {},
   "source": [
    "## Тестирование"
   ]
  },
  {
   "cell_type": "markdown",
   "metadata": {},
   "source": [
    "<div class=\"alert alert-block alert-info\">\n",
    "<b>Совет: </b> На этапе тестирования измеряют качетсво лучшей модели. Лучше было сделать отдельный шаг \"подбор параметров\".\n",
    "</div>"
   ]
  },
  {
   "cell_type": "markdown",
   "metadata": {},
   "source": [
    "<div class=\"alert alert-block alert-warning\" style=\"border-radius: 15px; box-shadow: 4px 4px 4px; border: 1px solid \"> \n",
    "<b>Комментарий студента № :</b>\n",
    "    \n",
    "После отправки проекта в следующую секунду понял, что надо было выделить шаги по подбору параметров отдельно. Было уже 3 ночи, плохо соображал.\n",
    "    \n",
    "</div>"
   ]
  },
  {
   "cell_type": "markdown",
   "metadata": {},
   "source": [
    "### Логистическая регрессия"
   ]
  },
  {
   "cell_type": "code",
   "execution_count": null,
   "metadata": {},
   "outputs": [],
   "source": [
    "%%time\n",
    "\n",
    "model = LogisticRegression()\n",
    "params = [{'solver':['newton-cg', 'lbfgs', 'liblinear'],\n",
    "                'C':[0.1, 1, 10],\n",
    "                'class_weight':[dict_classes]}]\n",
    "\n",
    "\n",
    "clf = GridSearchCV(model, params, scoring='f1',cv=3)\n",
    "clf.fit(features_train, target_train)\n",
    "best_params = clf.best_params_\n",
    "\n",
    "print(\"Лучшие гиперпараметры: \\n\")\n",
    "print(best_params, '\\n')\n",
    "\n",
    "f1_cv = max(means)"
   ]
  },
  {
   "cell_type": "markdown",
   "metadata": {},
   "source": [
    "<div style=\"border-radius: 15px; box-shadow: 2px 2px 2px; border: 1px solid green; padding: 20px\">\n",
    "\n",
    "В результате подбора гиперпараметров и кросс-валидации получен лучший вариант модели и её гиперпараметров под текущую задачу. Обучаем и проверяем эту модель на валидационной выборке.\n",
    "\n",
    "</div>"
   ]
  },
  {
   "cell_type": "code",
   "execution_count": null,
   "metadata": {
    "scrolled": true
   },
   "outputs": [],
   "source": [
    "%%time\n",
    "\n",
    "model = LogisticRegression()\n",
    "model.set_params(**best_params)\n",
    "model.fit(features_train, target_train)\n",
    "target_predict = model.predict(features_valid)\n",
    "valid_f1 = f1_score(target_valid, target_predict)\n",
    "print(f'F1 на кросс-валидации', f1_cv)\n",
    "print(f'F1 на валидации {f1_valid}')"
   ]
  },
  {
   "cell_type": "markdown",
   "metadata": {},
   "source": [
    "<div style=\"border-radius: 15px; box-shadow: 2px 2px 2px; border: 1px solid green; padding: 20px\">\n",
    "\n",
    "Успех. Мы добились значения метрики f1 выше 0.75. Это значит, что модель нас полностью устраивает. Данных для предсказания много и модель довольно быстро с ними справляется. Можно переходить к тестировке.\n",
    "</div>"
   ]
  },
  {
   "cell_type": "code",
   "execution_count": null,
   "metadata": {
    "scrolled": false
   },
   "outputs": [],
   "source": [
    "probabilities_test = model.predict_proba(features_test)\n",
    "probabilities_one_test = probabilities_test[:, 1]\n",
    "fpr, tpr, thresholds = roc_curve(target_test, probabilities_one_test)\n",
    "predict_test = model.predict(features_test)\n",
    "\n",
    "print('Метрики Логистической регрессии')\n",
    "print(f'ROC AUC: {roc_auc_score(target_test, probabilities_one_test)}')\n",
    "print(f'F1: {f1_score(target_test, predict_test)}')\n",
    "print(f'Precision: {precision_score(target_test, predict_test)}')\n",
    "print(f'Recall: {recall_score(target_test, predict_test)}', )\n",
    "print(f'Accuracy: {accuracy_score(target_test, predict_test)}')\n",
    "print()\n",
    "print('Отчёт')\n",
    "print()\n",
    "print(classification_report(target_test, predict_test))\n",
    "\n",
    "cm = confusion_matrix(target_test, predict_test)\n",
    "\n",
    "sns.heatmap(cm, annot=True, fmt='d', cmap=\"BrBG_r\")\n",
    "plt.xlabel('Предсказания на тесте', fontsize = 15)\n",
    "plt.ylabel('Тестовая выборка', fontsize = 15)\n",
    "plt.title('Матрица ошибок Линейной Регрессии', fontsize = 15)\n",
    "plt.show()"
   ]
  },
  {
   "cell_type": "markdown",
   "metadata": {},
   "source": [
    "<div style=\"border-radius: 15px; box-shadow: 2px 2px 2px; border: 1px solid green; padding: 20px\">\n",
    "\n",
    "Успех. Мы добились значения метрики f1 выше 0.75. Строим финальную кривую, сравниваем полученный результат с константной моделью, пишем вывод.\n",
    "</div>"
   ]
  },
  {
   "cell_type": "code",
   "execution_count": null,
   "metadata": {},
   "outputs": [],
   "source": [
    "plt.figure(figsize=[12,9])\n",
    "plt.plot([0, 1], [0, 1], linestyle='--', label='Константная модель')\n",
    "plt.xlim([0,1])\n",
    "plt.ylim([0,1])\n",
    "plt.plot(fpr, tpr, label='Логистическая регрессия')\n",
    "plt.xlabel(\"False Positive Rate\", fontsize = 15)\n",
    "plt.ylabel(\"True Positive Rate\", fontsize = 15)\n",
    "\n",
    "plt.legend(loc='lower right', fontsize='x-large')\n",
    "\n",
    "plt.title(\"ROC-кривая\", fontsize = 15)\n",
    "plt.show()"
   ]
  },
  {
   "cell_type": "markdown",
   "metadata": {},
   "source": [
    "### Линейный классификатор со стохастическим градиентным спуском"
   ]
  },
  {
   "cell_type": "markdown",
   "metadata": {},
   "source": [
    "<div style=\"border-radius: 15px; box-shadow: 2px 2px 2px; border: 1px solid green; padding: 20px\">\n",
    "\n",
    "Рассмотрим ещё одну модель классификации. Также укажем для неё сбалансированные классы и подберём дополнительные гиперпараметры.\n",
    "\n",
    "</div>"
   ]
  },
  {
   "cell_type": "code",
   "execution_count": null,
   "metadata": {},
   "outputs": [],
   "source": [
    "%%time\n",
    "\n",
    "sgdc = SGDClassifier()\n",
    "params = [{'loss':['hinge', 'log', 'modified_huber'],\n",
    "                'learning_rate':['constant', 'optimal', 'invscaling', 'adaptive'],\n",
    "                'eta0':[0.01, 0.05, 0.1, 0.2, 0.3, 0.5],\n",
    "                'random_state':[12345],\n",
    "                'class_weight':[dict_classes]}]\n",
    "\n",
    "\n",
    "clf = GridSearchCV(sgdc, params, scoring='f1',cv=3)\n",
    "clf.fit(features_train, target_train)\n",
    "sgdc_best_params = clf.best_params_\n",
    "print(\"Лучшие гиперпараметры: \\n\")\n",
    "print(sgdc_best_params)\n",
    "\n",
    "sgdc_cv_f1 = max(means)"
   ]
  },
  {
   "cell_type": "code",
   "execution_count": null,
   "metadata": {},
   "outputs": [],
   "source": [
    "%%time\n",
    "\n",
    "sgdc = SGDClassifier()\n",
    "sgdc.set_params(**sgdc_best_params)\n",
    "sgdc.fit(features_train, target_train)\n",
    "target_predict = sgdc.predict(features_valid)\n",
    "sgdc_valid_f1 = f1_score(target_valid, target_predict)\n",
    "print(f'F1 на cv {sgdc_cv_f1}')\n",
    "print(f'F1 на валидации {sgdc_valid_f1}')"
   ]
  },
  {
   "cell_type": "code",
   "execution_count": null,
   "metadata": {},
   "outputs": [],
   "source": [
    "probabilities_test = sgdc.predict_proba(features_test)\n",
    "probabilities_one_test = probabilities_test[:, 1]\n",
    "fpr, tpr, thresholds = roc_curve(target_test, probabilities_one_test)\n",
    "predict_test = sgdc.predict(features_test)\n",
    "\n",
    "print('Метрики SGDClassifier регрессии')\n",
    "print(f'ROC AUC: {roc_auc_score(target_test, probabilities_one_test)}')\n",
    "print(f'F1: {f1_score(target_test, predict_test)}')\n",
    "print(f'Precision: {precision_score(target_test, predict_test)}')\n",
    "print(f'Recall: {recall_score(target_test, predict_test)}', )\n",
    "print(f'Accuracy: {accuracy_score(target_test, predict_test)}')\n",
    "print()\n",
    "print('Отчёт')\n",
    "print()\n",
    "print(classification_report(target_test, predict_test))\n",
    "\n",
    "cm = confusion_matrix(target_test, predict_test)\n",
    "\n",
    "sns.heatmap(cm, annot=True, fmt='d', cmap=\"BrBG_r\")\n",
    "plt.xlabel('Предсказания на тесте', fontsize = 15)\n",
    "plt.ylabel('Тестовая выборка', fontsize = 15)\n",
    "plt.title('Матрица ошибок SGDClassifier', fontsize = 15)\n",
    "plt.show()"
   ]
  },
  {
   "cell_type": "code",
   "execution_count": null,
   "metadata": {},
   "outputs": [],
   "source": [
    "plt.figure(figsize=[12,9])\n",
    "plt.plot([0, 1], [0, 1], linestyle='--', label='Константная модель')\n",
    "plt.xlim([0,1])\n",
    "plt.ylim([0,1])\n",
    "plt.plot(fpr, tpr, label='SGDClassifier')\n",
    "plt.xlabel(\"False Positive Rate\", fontsize = 15)\n",
    "plt.ylabel(\"True Positive Rate\", fontsize = 15)\n",
    "\n",
    "plt.legend(loc='lower right', fontsize='x-large')\n",
    "\n",
    "plt.title(\"ROC-кривая\", fontsize = 15)\n",
    "plt.show()"
   ]
  },
  {
   "cell_type": "markdown",
   "metadata": {},
   "source": [
    "## Выводы"
   ]
  },
  {
   "attachments": {
    "image-2.png": {
     "image/png": "[encoded data removed]"
    },
    "image-3.png": {
     "image/png": "[encoded data removed]"
    },
    "image-4.png": {
     "image/png": "[encoded data removed]"
    },
    "image-5.png": {
     "image/png": "[encoded data removed]"
    },
    "image-6.png": {
     "image/png": "[encoded data removed]"
    }
   },
   "cell_type": "markdown",
   "metadata": {},
   "source": [
    "<div style=\"border-radius: 15px; box-shadow: 2px 2px 2px; border: 1px solid green; padding: 20px\">\n",
    "\n",
    "В ходе проделанного проекта была построена успешная модель предсказания токсичности комментариев для компании «Викишоп».\n",
    "    \n",
    "Задача бизнеса: Научиться быстро реагировать на токсичные комментарии пользователей и своевременно пресекать эти комментарии/этих пользователей.\n",
    "    \n",
    "Успешность модели оцнивается по метрике f1\n",
    "    \n",
    "<hr>\n",
    "    \n",
    "В результате анализа и подготовки данных было установлено и проделано следующее:\n",
    "    \n",
    "- Данные представляют собой набор из более 150 тысяч англоязычных размеченных комментариев. Они разбиты на 2 категории: \n",
    "<blockquote>    \n",
    "0 - Комментарий нормальный; <br>\n",
    "1 - Комментарий токсичный.\n",
    "</blockquote> \n",
    "- В данных отсутствуют пропуски и отклонения;\n",
    "- Соотношение классов: 0 - 90%, 1 - 10%;\n",
    "- Произведена лемматизация текстов\n",
    "- Данные поделены на обучающую, валидационную и тестовую выборки (60/20/20)\n",
    "- Все тексты были переведены в вектора с определёнными весами и приведены к типу Юникод\n",
    "    \n",
    "Для борьбы с дисбалансом было применено 3 стратегии:\n",
    "<blockquote>    \n",
    "- Без борьбы с дисбалансом; <br>\n",
    "- Со сбалансированными классами. <br>\n",
    "- С применением даунсемплинга к наибольшему классу. <br>\n",
    "</blockquote>\n",
    "    \n",
    "В результате проверки тренировочной выборки на кроссвалидации лучшим вариантом борьбы с дисбалансом оказалась модель с применением даунсемплинга на тренировочной выборке. Но проверка на валидационной выборке показала, что лучше справляется модель со сбалансированными классами. Ниже изображён график roc-кривой, по которой видно, что модель со сбалансированными класами лучше справляется с предсказанием на валидационной выборке\n",
    "    \n",
    "![image-2.png](attachment:image-2.png)\n",
    "    \n",
    "<hr>\n",
    "    \n",
    "При помощи GridSearchCV на тестовой выборке был произведён подбор гиперпараметров для модели Логистической регрессии. \n",
    "\n",
    "При валидации наша модель с подобранными гиперпараметрами показала f1 выше 0.75.\n",
    "    \n",
    "<hr>\n",
    "\n",
    "На финальном этапе тестирования модель Линейной регрессии показала <b>F1 = 0.77</b>\n",
    "    \n",
    "![image-3.png](attachment:image-3.png)\n",
    "    \n",
    "    \n",
    "![image-4.png](attachment:image-4.png)\n",
    "    \n",
    "    \n",
    "    \n",
    "<hr>\n",
    "    \n",
    "    \n",
    "    \n",
    "Также была обучена модель SGDClassifier - Линейный классификатор со стохастическим градиентным спуском\n",
    "На финальном этапе тестирования модель показала <b>F1 = 0.766</b>\n",
    "    \n",
    "![image-5.png](attachment:image-5.png)\n",
    "    \n",
    "    \n",
    "![image-6.png](attachment:image-6.png)\n",
    "    \n",
    "<hr>\n",
    "    \n",
    "    \n",
    "### Финальный результат:\n",
    "    \n",
    "|Модель|\tF1 на тесте|\n",
    "|:--|:--:|\n",
    "LogisticRegression|\t0.7705|\n",
    "SGDClassifier|\t0.7659|\n",
    "    \n",
    "    \n",
    "    \n",
    "</div>"
   ]
  }
 ],
 "metadata": {
  "ExecuteTimeLog": [
   {
    "duration": 1334,
    "start_time": "2022-02-02T19:01:12.131Z"
   },
   {
    "duration": 2564,
    "start_time": "2022-02-02T19:01:13.467Z"
   },
   {
    "duration": 34,
    "start_time": "2022-02-02T19:01:16.033Z"
   },
   {
    "duration": 235,
    "start_time": "2022-02-02T19:01:16.069Z"
   },
   {
    "duration": 106682,
    "start_time": "2022-02-02T19:01:16.306Z"
   },
   {
    "duration": 6,
    "start_time": "2022-02-02T19:03:02.990Z"
   },
   {
    "duration": 1496,
    "start_time": "2022-02-02T19:25:02.498Z"
   },
   {
    "duration": 619,
    "start_time": "2022-02-02T19:25:03.996Z"
   },
   {
    "duration": 42,
    "start_time": "2022-02-02T19:25:04.617Z"
   },
   {
    "duration": 229,
    "start_time": "2022-02-02T19:25:04.661Z"
   },
   {
    "duration": 100912,
    "start_time": "2022-02-02T19:25:04.892Z"
   },
   {
    "duration": 7,
    "start_time": "2022-02-02T19:26:45.806Z"
   },
   {
    "duration": 129,
    "start_time": "2022-02-02T19:26:45.815Z"
   },
   {
    "duration": 1201,
    "start_time": "2022-02-02T19:50:15.604Z"
   },
   {
    "duration": 1764,
    "start_time": "2022-02-02T20:59:05.782Z"
   },
   {
    "duration": 301,
    "start_time": "2022-02-02T20:59:12.518Z"
   },
   {
    "duration": 7,
    "start_time": "2022-02-02T21:43:10.655Z"
   },
   {
    "duration": 752,
    "start_time": "2022-02-02T21:43:10.664Z"
   },
   {
    "duration": 39,
    "start_time": "2022-02-02T21:43:11.419Z"
   },
   {
    "duration": 378,
    "start_time": "2022-02-02T21:43:11.460Z"
   },
   {
    "duration": 162344,
    "start_time": "2022-02-02T21:43:11.840Z"
   },
   {
    "duration": 14,
    "start_time": "2022-02-02T21:45:54.188Z"
   },
   {
    "duration": 162,
    "start_time": "2022-02-02T21:45:54.205Z"
   },
   {
    "duration": 7,
    "start_time": "2022-02-02T21:45:54.371Z"
   },
   {
    "duration": 17636,
    "start_time": "2022-02-02T21:45:54.381Z"
   },
   {
    "duration": 13,
    "start_time": "2022-02-02T21:46:12.020Z"
   },
   {
    "duration": 350,
    "start_time": "2022-02-02T21:46:12.036Z"
   },
   {
    "duration": 347,
    "start_time": "2022-02-02T21:46:12.389Z"
   },
   {
    "duration": 430,
    "start_time": "2022-02-02T21:46:12.738Z"
   },
   {
    "duration": 23100,
    "start_time": "2022-02-02T21:46:13.171Z"
   },
   {
    "duration": 41898,
    "start_time": "2022-02-02T21:46:36.273Z"
   },
   {
    "duration": 32806,
    "start_time": "2022-02-02T21:47:18.173Z"
   },
   {
    "duration": 51,
    "start_time": "2022-02-02T21:47:50.981Z"
   },
   {
    "duration": 2042,
    "start_time": "2022-02-02T21:47:51.035Z"
   },
   {
    "duration": 353,
    "start_time": "2022-02-02T21:47:53.081Z"
   },
   {
    "duration": 7996,
    "start_time": "2022-02-02T21:47:53.437Z"
   },
   {
    "duration": 27371,
    "start_time": "2022-02-02T21:48:01.437Z"
   },
   {
    "duration": 24,
    "start_time": "2022-02-02T21:48:28.810Z"
   },
   {
    "duration": 721120,
    "start_time": "2022-02-02T21:48:28.838Z"
   },
   {
    "duration": 47320,
    "start_time": "2022-02-02T22:00:29.961Z"
   },
   {
    "duration": 930,
    "start_time": "2022-02-02T22:01:17.284Z"
   },
   {
    "duration": 936,
    "start_time": "2022-02-02T22:01:42.690Z"
   },
   {
    "duration": 1070,
    "start_time": "2022-02-02T22:02:02.984Z"
   },
   {
    "duration": 629,
    "start_time": "2022-02-02T22:02:21.095Z"
   },
   {
    "duration": 388,
    "start_time": "2022-02-02T22:02:30.193Z"
   },
   {
    "duration": 692,
    "start_time": "2022-02-02T22:02:49.933Z"
   },
   {
    "duration": 423,
    "start_time": "2022-02-02T22:02:57.401Z"
   },
   {
    "duration": 522,
    "start_time": "2022-02-02T22:03:20.954Z"
   },
   {
    "duration": 764,
    "start_time": "2022-02-02T22:03:30.914Z"
   },
   {
    "duration": 811,
    "start_time": "2022-02-02T22:03:51.926Z"
   },
   {
    "duration": 612,
    "start_time": "2022-02-02T22:03:58.698Z"
   },
   {
    "duration": 612,
    "start_time": "2022-02-02T22:04:06.631Z"
   },
   {
    "duration": 631,
    "start_time": "2022-02-02T22:04:13.796Z"
   },
   {
    "duration": 630,
    "start_time": "2022-02-02T22:05:50.776Z"
   },
   {
    "duration": 589,
    "start_time": "2022-02-02T22:05:55.805Z"
   },
   {
    "duration": 609,
    "start_time": "2022-02-02T22:06:02.613Z"
   },
   {
    "duration": 619,
    "start_time": "2022-02-02T22:06:06.330Z"
   },
   {
    "duration": 609,
    "start_time": "2022-02-02T22:06:09.779Z"
   },
   {
    "duration": 415,
    "start_time": "2022-02-02T22:06:30.969Z"
   },
   {
    "duration": 701,
    "start_time": "2022-02-02T22:06:35.885Z"
   },
   {
    "duration": 617,
    "start_time": "2022-02-02T22:06:40.118Z"
   },
   {
    "duration": 634,
    "start_time": "2022-02-02T22:07:02.774Z"
   },
   {
    "duration": 632,
    "start_time": "2022-02-02T22:07:13.874Z"
   },
   {
    "duration": 654,
    "start_time": "2022-02-02T22:07:20.527Z"
   },
   {
    "duration": 427,
    "start_time": "2022-02-02T22:07:32.583Z"
   },
   {
    "duration": 334,
    "start_time": "2022-02-02T22:08:08.364Z"
   },
   {
    "duration": 349,
    "start_time": "2022-02-02T22:12:44.646Z"
   },
   {
    "duration": 327,
    "start_time": "2022-02-02T22:13:28.608Z"
   },
   {
    "duration": 334,
    "start_time": "2022-02-02T22:13:36.290Z"
   },
   {
    "duration": 351,
    "start_time": "2022-02-02T22:13:47.531Z"
   },
   {
    "duration": 905,
    "start_time": "2022-02-02T22:14:32.415Z"
   },
   {
    "duration": 810,
    "start_time": "2022-02-02T22:14:48.888Z"
   },
   {
    "duration": 349,
    "start_time": "2022-02-02T22:15:10.092Z"
   },
   {
    "duration": 353,
    "start_time": "2022-02-02T22:15:36.344Z"
   },
   {
    "duration": 362,
    "start_time": "2022-02-02T22:15:56.898Z"
   },
   {
    "duration": 348,
    "start_time": "2022-02-02T22:16:15.238Z"
   },
   {
    "duration": 435,
    "start_time": "2022-02-02T22:22:31.743Z"
   },
   {
    "duration": 432,
    "start_time": "2022-02-02T22:22:35.665Z"
   },
   {
    "duration": 28104,
    "start_time": "2022-02-02T22:50:34.805Z"
   },
   {
    "duration": 647,
    "start_time": "2022-02-02T22:55:45.165Z"
   },
   {
    "duration": 789,
    "start_time": "2022-02-02T22:56:55.089Z"
   },
   {
    "duration": 630,
    "start_time": "2022-02-02T22:57:25.747Z"
   },
   {
    "duration": 728,
    "start_time": "2022-02-02T22:58:03.525Z"
   },
   {
    "duration": 616,
    "start_time": "2022-02-02T22:58:11.401Z"
   },
   {
    "duration": 511,
    "start_time": "2022-02-02T22:58:27.040Z"
   },
   {
    "duration": 502,
    "start_time": "2022-02-02T22:58:43.603Z"
   },
   {
    "duration": 599,
    "start_time": "2022-02-02T22:59:11.096Z"
   },
   {
    "duration": 629,
    "start_time": "2022-02-02T22:59:15.945Z"
   },
   {
    "duration": 615,
    "start_time": "2022-02-02T22:59:20.259Z"
   },
   {
    "duration": 637,
    "start_time": "2022-02-02T22:59:29.934Z"
   },
   {
    "duration": 621,
    "start_time": "2022-02-02T22:59:36.061Z"
   },
   {
    "duration": 596,
    "start_time": "2022-02-02T22:59:45.801Z"
   },
   {
    "duration": 603,
    "start_time": "2022-02-02T23:00:25.590Z"
   },
   {
    "duration": 613,
    "start_time": "2022-02-02T23:00:30.688Z"
   },
   {
    "duration": 604,
    "start_time": "2022-02-02T23:00:36.909Z"
   },
   {
    "duration": 718,
    "start_time": "2022-02-02T23:00:40.752Z"
   },
   {
    "duration": 622,
    "start_time": "2022-02-02T23:00:47.864Z"
   },
   {
    "duration": 630,
    "start_time": "2022-02-02T23:00:55.078Z"
   },
   {
    "duration": 629,
    "start_time": "2022-02-02T23:01:01.285Z"
   },
   {
    "duration": 608,
    "start_time": "2022-02-02T23:01:06.212Z"
   },
   {
    "duration": 620,
    "start_time": "2022-02-02T23:01:11.792Z"
   },
   {
    "duration": 646,
    "start_time": "2022-02-02T23:01:28.837Z"
   },
   {
    "duration": 641,
    "start_time": "2022-02-02T23:01:36.340Z"
   },
   {
    "duration": 627,
    "start_time": "2022-02-02T23:01:41.916Z"
   },
   {
    "duration": 660,
    "start_time": "2022-02-02T23:01:52.134Z"
   },
   {
    "duration": 601,
    "start_time": "2022-02-02T23:01:58.390Z"
   },
   {
    "duration": 713,
    "start_time": "2022-02-02T23:02:05.695Z"
   },
   {
    "duration": 631,
    "start_time": "2022-02-02T23:04:39.552Z"
   },
   {
    "duration": 31551,
    "start_time": "2022-02-02T23:06:39.522Z"
   },
   {
    "duration": 31557,
    "start_time": "2022-02-02T23:08:19.238Z"
   },
   {
    "duration": 625,
    "start_time": "2022-02-02T23:10:34.894Z"
   },
   {
    "duration": 1717,
    "start_time": "2022-02-02T23:12:41.283Z"
   },
   {
    "duration": 759,
    "start_time": "2022-02-02T23:12:43.003Z"
   },
   {
    "duration": 38,
    "start_time": "2022-02-02T23:12:43.764Z"
   },
   {
    "duration": 387,
    "start_time": "2022-02-02T23:12:43.805Z"
   },
   {
    "duration": 160443,
    "start_time": "2022-02-02T23:12:44.195Z"
   },
   {
    "duration": 8,
    "start_time": "2022-02-02T23:15:24.640Z"
   },
   {
    "duration": 159,
    "start_time": "2022-02-02T23:15:24.651Z"
   },
   {
    "duration": 149,
    "start_time": "2022-02-02T23:15:24.814Z"
   },
   {
    "duration": 16829,
    "start_time": "2022-02-02T23:15:24.967Z"
   },
   {
    "duration": 5,
    "start_time": "2022-02-02T23:15:41.799Z"
   },
   {
    "duration": 392,
    "start_time": "2022-02-02T23:15:41.807Z"
   },
   {
    "duration": 338,
    "start_time": "2022-02-02T23:15:42.202Z"
   },
   {
    "duration": 336,
    "start_time": "2022-02-02T23:15:42.543Z"
   },
   {
    "duration": 23996,
    "start_time": "2022-02-02T23:15:42.882Z"
   },
   {
    "duration": 42106,
    "start_time": "2022-02-02T23:16:06.881Z"
   },
   {
    "duration": 34388,
    "start_time": "2022-02-02T23:16:48.990Z"
   },
   {
    "duration": 51,
    "start_time": "2022-02-02T23:17:23.381Z"
   },
   {
    "duration": 2164,
    "start_time": "2022-02-02T23:17:23.434Z"
   },
   {
    "duration": 343,
    "start_time": "2022-02-02T23:17:25.601Z"
   },
   {
    "duration": 10288,
    "start_time": "2022-02-02T23:17:25.946Z"
   },
   {
    "duration": 29770,
    "start_time": "2022-02-02T23:17:36.238Z"
   },
   {
    "duration": 30,
    "start_time": "2022-02-02T23:18:06.011Z"
   },
   {
    "duration": 775965,
    "start_time": "2022-02-02T23:18:06.046Z"
   },
   {
    "duration": 27833,
    "start_time": "2022-02-02T23:31:02.014Z"
   },
   {
    "duration": 606,
    "start_time": "2022-02-02T23:31:29.850Z"
   },
   {
    "duration": 462,
    "start_time": "2022-02-02T23:31:30.458Z"
   },
   {
    "duration": 27401,
    "start_time": "2022-02-02T23:31:37.277Z"
   },
   {
    "duration": 54394,
    "start_time": "2022-02-02T23:33:42.217Z"
   },
   {
    "duration": 54338,
    "start_time": "2022-02-02T23:40:45.066Z"
   },
   {
    "duration": 583,
    "start_time": "2022-02-02T23:42:11.721Z"
   },
   {
    "duration": 435,
    "start_time": "2022-02-02T23:42:31.733Z"
   },
   {
    "duration": 417,
    "start_time": "2022-02-02T23:42:44.001Z"
   },
   {
    "duration": 217,
    "start_time": "2022-02-02T23:42:48.758Z"
   },
   {
    "duration": 7,
    "start_time": "2022-02-02T23:43:14.279Z"
   },
   {
    "duration": 255866,
    "start_time": "2022-02-02T23:43:19.241Z"
   },
   {
    "duration": 2578,
    "start_time": "2022-02-02T23:47:35.111Z"
   },
   {
    "duration": 377,
    "start_time": "2022-02-02T23:47:37.693Z"
   },
   {
    "duration": 1022,
    "start_time": "2022-02-02T23:47:37.052Z"
   },
   {
    "duration": 1021,
    "start_time": "2022-02-02T23:47:37.055Z"
   },
   {
    "duration": 11,
    "start_time": "2022-02-02T23:48:08.907Z"
   },
   {
    "duration": 602,
    "start_time": "2022-02-02T23:48:30.585Z"
   },
   {
    "duration": 418,
    "start_time": "2022-02-02T23:48:33.103Z"
   },
   {
    "duration": 12,
    "start_time": "2022-02-02T23:48:38.448Z"
   },
   {
    "duration": 287,
    "start_time": "2022-02-02T23:54:23.326Z"
   }
  ],
  "kernelspec": {
   "display_name": "Python 3",
   "language": "python",
   "name": "python3"
  },
  "language_info": {
   "codemirror_mode": {
    "name": "ipython",
    "version": 3
   },
   "file_extension": ".py",
   "mimetype": "text/x-python",
   "name": "python",
   "nbconvert_exporter": "python",
   "pygments_lexer": "ipython3",
   "version": "3.8.8"
  },
  "toc": {
   "base_numbering": 1,
   "nav_menu": {},
   "number_sections": false,
   "sideBar": true,
   "skip_h1_title": true,
   "title_cell": "Содержание",
   "title_sidebar": "Contents",
   "toc_cell": true,
   "toc_position": {
    "height": "calc(100% - 180px)",
    "left": "10px",
    "top": "150px",
    "width": "302.381px"
   },
   "toc_section_display": true,
   "toc_window_display": false
  }
 },
 "nbformat": 4,
 "nbformat_minor": 2
}
