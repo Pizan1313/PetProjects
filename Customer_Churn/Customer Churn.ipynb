{
 "cells": [
  {
   "cell_type": "markdown",
   "metadata": {
    "toc": true
   },
   "source": [
    "<h1>Table of Contents<span class=\"tocSkip\"></span></h1>\n",
    "<div class=\"toc\"><ul class=\"toc-item\"><li><span><a href=\"#Data-preparation\" data-toc-modified-id=\"Data-preparation-1\">Data preparation</a></span><ul class=\"toc-item\"><li><span><a href=\"#Intermediate-conclusion\" data-toc-modified-id=\"Intermediate-conclusion-1.1\"><font color=\"green\"><b>Intermediate conclusion<b></b></b></font></a></span></li><li><span><a href=\"#Intermediate-conclusion\" data-toc-modified-id=\"Intermediate-conclusion-1.2\"><font color=\"green\"><b>Intermediate conclusion<b></b></b></font></a></span></li><li><span><a href=\"#Conclusion\" data-toc-modified-id=\"Conclusion-1.3\"><font color=\"green\"><b>Conclusion</b></font></a></span></li></ul></li><li><span><a href=\"#Problem-research\" data-toc-modified-id=\"Problem-research-2\">Problem research</a></span><ul class=\"toc-item\"><li><span><a href=\"#Conclusion\" data-toc-modified-id=\"Conclusion-2.1\"><font color=\"green\"><b>Conclusion</b></font></a></span></li></ul></li><li><span><a href=\"#Avoiding-Disbalance\" data-toc-modified-id=\"Avoiding-Disbalance-3\">Avoiding Disbalance</a></span><ul class=\"toc-item\"><li><span><a href=\"#Upsampling\" data-toc-modified-id=\"Upsampling-3.1\">Upsampling</a></span></li><li><span><a href=\"#Intermediate-conclusion\" data-toc-modified-id=\"Intermediate-conclusion-3.2\"><font color=\"green\"><b>Intermediate conclusion<b></b></b></font></a></span></li><li><span><a href=\"#Downsampling\" data-toc-modified-id=\"Downsampling-3.3\">Downsampling</a></span></li><li><span><a href=\"#Intermediate-conclusion\" data-toc-modified-id=\"Intermediate-conclusion-3.4\"><font color=\"green\"><b>Intermediate conclusion<b></b></b></font></a></span></li><li><span><a href=\"#Model-improvement\" data-toc-modified-id=\"Model-improvement-3.5\">Model improvement</a></span></li><li><span><a href=\"#Intermediate-conclusion\" data-toc-modified-id=\"Intermediate-conclusion-3.6\"><font color=\"green\"><b>Intermediate conclusion<b></b></b></font></a></span></li><li><span><a href=\"#Conclusion\" data-toc-modified-id=\"Conclusion-3.7\">Conclusion</a></span></li></ul></li><li><span><a href=\"#Test-Model\" data-toc-modified-id=\"Test-Model-4\">Test Model</a></span><ul class=\"toc-item\"><li><span><a href=\"#Total\" data-toc-modified-id=\"Total-4.1\"><font color=\"green\"><b>Total<b></b></b></font></a></span></li></ul></li></ul></div>"
   ]
  },
  {
   "cell_type": "markdown",
   "metadata": {},
   "source": [
    "# Customer churn"
   ]
  },
  {
   "cell_type": "markdown",
   "metadata": {},
   "source": [
    "Customers began to leave X-Bank. Every month. A little, but noticeable. Banking marketers figured keeping current customers was cheaper than attracting new ones.\n",
    "\n",
    "It is necessary to predict whether the client will leave the bank soon or not. You are provided with historical data on customer behavior and termination of agreements with the bank.\n",
    "\n",
    "Build a model with an extremely large *F1*-measure. Check the *F1*-measure on the test set yourself. To pass the project successfully, you must bring the metric to 0.59.\n",
    "\n",
    "Additionally, measure *AUC-ROC*and compare its value with *F1*-measure.\n",
    "\n",
    "Data Source: [https://www.kaggle.com/barelydedicated/bank-customer-churn-modeling](https://www.kaggle.com/barelydedicated/bank-customer-churn-modeling)"
   ]
  },
  {
   "cell_type": "markdown",
   "metadata": {},
   "source": [
    "## Data preparation"
   ]
  },
  {
   "cell_type": "code",
   "execution_count": 1,
   "metadata": {},
   "outputs": [],
   "source": [
    "# Importing Libraries\n",
    "import pandas as pd\n",
    "import numpy as np\n",
    "import matplotlib.pyplot as plt\n",
    "import seaborn as sns\n",
    "sns.color_palette(\"magma\")\n",
    "from itertools import product\n",
    "from tqdm.notebook import tqdm\n",
    "\n",
    "from sklearn.model_selection import train_test_split\n",
    "from sklearn.model_selection import GridSearchCV\n",
    "from sklearn.preprocessing import StandardScaler\n",
    "from sklearn.utils import shuffle\n",
    "\n",
    "from sklearn.tree import DecisionTreeClassifier\n",
    "from sklearn.ensemble import RandomForestClassifier\n",
    "from sklearn.dummy import DummyClassifier\n",
    "from sklearn.linear_model import LogisticRegression\n",
    "\n",
    "from sklearn.metrics import accuracy_score\n",
    "from sklearn.metrics import confusion_matrix\n",
    "from sklearn.metrics import recall_score\n",
    "from sklearn.metrics import precision_score\n",
    "from sklearn.metrics import f1_score\n",
    "from sklearn.metrics import roc_auc_score\n",
    "from sklearn.metrics import roc_curve\n",
    "from sklearn.metrics import precision_recall_curve\n",
    "\n",
    "import warnings\n",
    "warnings.filterwarnings(\"ignore\")"
   ]
  },
  {
   "cell_type": "code",
   "execution_count": 2,
   "metadata": {
    "scrolled": false
   },
   "outputs": [
    {
     "name": "stdout",
     "output_type": "stream",
     "text": [
      "<class 'pandas.core.frame.DataFrame'>\n",
      "RangeIndex: 10000 entries, 0 to 9999\n",
      "Data columns (total 14 columns):\n",
      " #   Column           Non-Null Count  Dtype  \n",
      "---  ------           --------------  -----  \n",
      " 0   RowNumber        10000 non-null  int64  \n",
      " 1   CustomerId       10000 non-null  int64  \n",
      " 2   Surname          10000 non-null  object \n",
      " 3   CreditScore      10000 non-null  int64  \n",
      " 4   Geography        10000 non-null  object \n",
      " 5   Gender           10000 non-null  object \n",
      " 6   Age              10000 non-null  int64  \n",
      " 7   Tenure           9091 non-null   float64\n",
      " 8   Balance          10000 non-null  float64\n",
      " 9   NumOfProducts    10000 non-null  int64  \n",
      " 10  HasCrCard        10000 non-null  int64  \n",
      " 11  IsActiveMember   10000 non-null  int64  \n",
      " 12  EstimatedSalary  10000 non-null  float64\n",
      " 13  Exited           10000 non-null  int64  \n",
      "dtypes: float64(3), int64(8), object(3)\n",
      "memory usage: 1.1+ MB\n"
     ]
    },
    {
     "data": {
      "text/html": [
       "<div>\n",
       "<style scoped>\n",
       "    .dataframe tbody tr th:only-of-type {\n",
       "        vertical-align: middle;\n",
       "    }\n",
       "\n",
       "    .dataframe tbody tr th {\n",
       "        vertical-align: top;\n",
       "    }\n",
       "\n",
       "    .dataframe thead th {\n",
       "        text-align: right;\n",
       "    }\n",
       "</style>\n",
       "<table border=\"1\" class=\"dataframe\">\n",
       "  <thead>\n",
       "    <tr style=\"text-align: right;\">\n",
       "      <th></th>\n",
       "      <th>RowNumber</th>\n",
       "      <th>CustomerId</th>\n",
       "      <th>Surname</th>\n",
       "      <th>CreditScore</th>\n",
       "      <th>Geography</th>\n",
       "      <th>Gender</th>\n",
       "      <th>Age</th>\n",
       "      <th>Tenure</th>\n",
       "      <th>Balance</th>\n",
       "      <th>NumOfProducts</th>\n",
       "      <th>HasCrCard</th>\n",
       "      <th>IsActiveMember</th>\n",
       "      <th>EstimatedSalary</th>\n",
       "      <th>Exited</th>\n",
       "    </tr>\n",
       "  </thead>\n",
       "  <tbody>\n",
       "    <tr>\n",
       "      <th>9200</th>\n",
       "      <td>9201</td>\n",
       "      <td>15567923</td>\n",
       "      <td>Barese</td>\n",
       "      <td>739</td>\n",
       "      <td>France</td>\n",
       "      <td>Female</td>\n",
       "      <td>30</td>\n",
       "      <td>6.0</td>\n",
       "      <td>0.00</td>\n",
       "      <td>1</td>\n",
       "      <td>0</td>\n",
       "      <td>0</td>\n",
       "      <td>122604.44</td>\n",
       "      <td>0</td>\n",
       "    </tr>\n",
       "    <tr>\n",
       "      <th>6008</th>\n",
       "      <td>6009</td>\n",
       "      <td>15700937</td>\n",
       "      <td>Romano</td>\n",
       "      <td>767</td>\n",
       "      <td>Spain</td>\n",
       "      <td>Female</td>\n",
       "      <td>24</td>\n",
       "      <td>5.0</td>\n",
       "      <td>0.00</td>\n",
       "      <td>2</td>\n",
       "      <td>1</td>\n",
       "      <td>1</td>\n",
       "      <td>67445.85</td>\n",
       "      <td>0</td>\n",
       "    </tr>\n",
       "    <tr>\n",
       "      <th>1480</th>\n",
       "      <td>1481</td>\n",
       "      <td>15716822</td>\n",
       "      <td>Moen</td>\n",
       "      <td>646</td>\n",
       "      <td>France</td>\n",
       "      <td>Male</td>\n",
       "      <td>30</td>\n",
       "      <td>5.0</td>\n",
       "      <td>98014.74</td>\n",
       "      <td>1</td>\n",
       "      <td>1</td>\n",
       "      <td>1</td>\n",
       "      <td>12757.14</td>\n",
       "      <td>0</td>\n",
       "    </tr>\n",
       "    <tr>\n",
       "      <th>1798</th>\n",
       "      <td>1799</td>\n",
       "      <td>15610446</td>\n",
       "      <td>Chinedum</td>\n",
       "      <td>714</td>\n",
       "      <td>France</td>\n",
       "      <td>Female</td>\n",
       "      <td>51</td>\n",
       "      <td>4.0</td>\n",
       "      <td>88308.87</td>\n",
       "      <td>3</td>\n",
       "      <td>0</td>\n",
       "      <td>0</td>\n",
       "      <td>5862.53</td>\n",
       "      <td>1</td>\n",
       "    </tr>\n",
       "    <tr>\n",
       "      <th>9410</th>\n",
       "      <td>9411</td>\n",
       "      <td>15734659</td>\n",
       "      <td>Sozonov</td>\n",
       "      <td>640</td>\n",
       "      <td>Germany</td>\n",
       "      <td>Female</td>\n",
       "      <td>46</td>\n",
       "      <td>5.0</td>\n",
       "      <td>107978.40</td>\n",
       "      <td>2</td>\n",
       "      <td>1</td>\n",
       "      <td>0</td>\n",
       "      <td>155876.06</td>\n",
       "      <td>0</td>\n",
       "    </tr>\n",
       "  </tbody>\n",
       "</table>\n",
       "</div>"
      ],
      "text/plain": [
       "      RowNumber  CustomerId   Surname  CreditScore Geography  Gender  Age  \\\n",
       "9200       9201    15567923    Barese          739    France  Female   30   \n",
       "6008       6009    15700937    Romano          767     Spain  Female   24   \n",
       "1480       1481    15716822      Moen          646    France    Male   30   \n",
       "1798       1799    15610446  Chinedum          714    France  Female   51   \n",
       "9410       9411    15734659   Sozonov          640   Germany  Female   46   \n",
       "\n",
       "      Tenure    Balance  NumOfProducts  HasCrCard  IsActiveMember  \\\n",
       "9200     6.0       0.00              1          0               0   \n",
       "6008     5.0       0.00              2          1               1   \n",
       "1480     5.0   98014.74              1          1               1   \n",
       "1798     4.0   88308.87              3          0               0   \n",
       "9410     5.0  107978.40              2          1               0   \n",
       "\n",
       "      EstimatedSalary  Exited  \n",
       "9200        122604.44       0  \n",
       "6008         67445.85       0  \n",
       "1480         12757.14       0  \n",
       "1798          5862.53       1  \n",
       "9410        155876.06       0  "
      ]
     },
     "metadata": {},
     "output_type": "display_data"
    },
    {
     "data": {
      "text/plain": [
       "None"
      ]
     },
     "metadata": {},
     "output_type": "display_data"
    },
    {
     "data": {
      "text/html": [
       "<div>\n",
       "<style scoped>\n",
       "    .dataframe tbody tr th:only-of-type {\n",
       "        vertical-align: middle;\n",
       "    }\n",
       "\n",
       "    .dataframe tbody tr th {\n",
       "        vertical-align: top;\n",
       "    }\n",
       "\n",
       "    .dataframe thead th {\n",
       "        text-align: right;\n",
       "    }\n",
       "</style>\n",
       "<table border=\"1\" class=\"dataframe\">\n",
       "  <thead>\n",
       "    <tr style=\"text-align: right;\">\n",
       "      <th></th>\n",
       "      <th>RowNumber</th>\n",
       "      <th>CustomerId</th>\n",
       "      <th>CreditScore</th>\n",
       "      <th>Age</th>\n",
       "      <th>Tenure</th>\n",
       "      <th>Balance</th>\n",
       "      <th>NumOfProducts</th>\n",
       "      <th>HasCrCard</th>\n",
       "      <th>IsActiveMember</th>\n",
       "      <th>EstimatedSalary</th>\n",
       "      <th>Exited</th>\n",
       "    </tr>\n",
       "  </thead>\n",
       "  <tbody>\n",
       "    <tr>\n",
       "      <th>count</th>\n",
       "      <td>10000.00000</td>\n",
       "      <td>1.000000e+04</td>\n",
       "      <td>10000.000000</td>\n",
       "      <td>10000.000000</td>\n",
       "      <td>9091.000000</td>\n",
       "      <td>10000.000000</td>\n",
       "      <td>10000.000000</td>\n",
       "      <td>10000.00000</td>\n",
       "      <td>10000.000000</td>\n",
       "      <td>10000.000000</td>\n",
       "      <td>10000.000000</td>\n",
       "    </tr>\n",
       "    <tr>\n",
       "      <th>mean</th>\n",
       "      <td>5000.50000</td>\n",
       "      <td>1.569094e+07</td>\n",
       "      <td>650.528800</td>\n",
       "      <td>38.921800</td>\n",
       "      <td>4.997690</td>\n",
       "      <td>76485.889288</td>\n",
       "      <td>1.530200</td>\n",
       "      <td>0.70550</td>\n",
       "      <td>0.515100</td>\n",
       "      <td>100090.239881</td>\n",
       "      <td>0.203700</td>\n",
       "    </tr>\n",
       "    <tr>\n",
       "      <th>std</th>\n",
       "      <td>2886.89568</td>\n",
       "      <td>7.193619e+04</td>\n",
       "      <td>96.653299</td>\n",
       "      <td>10.487806</td>\n",
       "      <td>2.894723</td>\n",
       "      <td>62397.405202</td>\n",
       "      <td>0.581654</td>\n",
       "      <td>0.45584</td>\n",
       "      <td>0.499797</td>\n",
       "      <td>57510.492818</td>\n",
       "      <td>0.402769</td>\n",
       "    </tr>\n",
       "    <tr>\n",
       "      <th>min</th>\n",
       "      <td>1.00000</td>\n",
       "      <td>1.556570e+07</td>\n",
       "      <td>350.000000</td>\n",
       "      <td>18.000000</td>\n",
       "      <td>0.000000</td>\n",
       "      <td>0.000000</td>\n",
       "      <td>1.000000</td>\n",
       "      <td>0.00000</td>\n",
       "      <td>0.000000</td>\n",
       "      <td>11.580000</td>\n",
       "      <td>0.000000</td>\n",
       "    </tr>\n",
       "    <tr>\n",
       "      <th>25%</th>\n",
       "      <td>2500.75000</td>\n",
       "      <td>1.562853e+07</td>\n",
       "      <td>584.000000</td>\n",
       "      <td>32.000000</td>\n",
       "      <td>2.000000</td>\n",
       "      <td>0.000000</td>\n",
       "      <td>1.000000</td>\n",
       "      <td>0.00000</td>\n",
       "      <td>0.000000</td>\n",
       "      <td>51002.110000</td>\n",
       "      <td>0.000000</td>\n",
       "    </tr>\n",
       "    <tr>\n",
       "      <th>50%</th>\n",
       "      <td>5000.50000</td>\n",
       "      <td>1.569074e+07</td>\n",
       "      <td>652.000000</td>\n",
       "      <td>37.000000</td>\n",
       "      <td>5.000000</td>\n",
       "      <td>97198.540000</td>\n",
       "      <td>1.000000</td>\n",
       "      <td>1.00000</td>\n",
       "      <td>1.000000</td>\n",
       "      <td>100193.915000</td>\n",
       "      <td>0.000000</td>\n",
       "    </tr>\n",
       "    <tr>\n",
       "      <th>75%</th>\n",
       "      <td>7500.25000</td>\n",
       "      <td>1.575323e+07</td>\n",
       "      <td>718.000000</td>\n",
       "      <td>44.000000</td>\n",
       "      <td>7.000000</td>\n",
       "      <td>127644.240000</td>\n",
       "      <td>2.000000</td>\n",
       "      <td>1.00000</td>\n",
       "      <td>1.000000</td>\n",
       "      <td>149388.247500</td>\n",
       "      <td>0.000000</td>\n",
       "    </tr>\n",
       "    <tr>\n",
       "      <th>max</th>\n",
       "      <td>10000.00000</td>\n",
       "      <td>1.581569e+07</td>\n",
       "      <td>850.000000</td>\n",
       "      <td>92.000000</td>\n",
       "      <td>10.000000</td>\n",
       "      <td>250898.090000</td>\n",
       "      <td>4.000000</td>\n",
       "      <td>1.00000</td>\n",
       "      <td>1.000000</td>\n",
       "      <td>199992.480000</td>\n",
       "      <td>1.000000</td>\n",
       "    </tr>\n",
       "  </tbody>\n",
       "</table>\n",
       "</div>"
      ],
      "text/plain": [
       "         RowNumber    CustomerId   CreditScore           Age       Tenure  \\\n",
       "count  10000.00000  1.000000e+04  10000.000000  10000.000000  9091.000000   \n",
       "mean    5000.50000  1.569094e+07    650.528800     38.921800     4.997690   \n",
       "std     2886.89568  7.193619e+04     96.653299     10.487806     2.894723   \n",
       "min        1.00000  1.556570e+07    350.000000     18.000000     0.000000   \n",
       "25%     2500.75000  1.562853e+07    584.000000     32.000000     2.000000   \n",
       "50%     5000.50000  1.569074e+07    652.000000     37.000000     5.000000   \n",
       "75%     7500.25000  1.575323e+07    718.000000     44.000000     7.000000   \n",
       "max    10000.00000  1.581569e+07    850.000000     92.000000    10.000000   \n",
       "\n",
       "             Balance  NumOfProducts    HasCrCard  IsActiveMember  \\\n",
       "count   10000.000000   10000.000000  10000.00000    10000.000000   \n",
       "mean    76485.889288       1.530200      0.70550        0.515100   \n",
       "std     62397.405202       0.581654      0.45584        0.499797   \n",
       "min         0.000000       1.000000      0.00000        0.000000   \n",
       "25%         0.000000       1.000000      0.00000        0.000000   \n",
       "50%     97198.540000       1.000000      1.00000        1.000000   \n",
       "75%    127644.240000       2.000000      1.00000        1.000000   \n",
       "max    250898.090000       4.000000      1.00000        1.000000   \n",
       "\n",
       "       EstimatedSalary        Exited  \n",
       "count     10000.000000  10000.000000  \n",
       "mean     100090.239881      0.203700  \n",
       "std       57510.492818      0.402769  \n",
       "min          11.580000      0.000000  \n",
       "25%       51002.110000      0.000000  \n",
       "50%      100193.915000      0.000000  \n",
       "75%      149388.247500      0.000000  \n",
       "max      199992.480000      1.000000  "
      ]
     },
     "metadata": {},
     "output_type": "display_data"
    },
    {
     "data": {
      "image/png": "[encoded data removed]",
      "text/plain": [
       "<Figure size 1440x1080 with 12 Axes>"
      ]
     },
     "metadata": {
      "needs_background": "light"
     },
     "output_type": "display_data"
    },
    {
     "data": {
      "text/html": [
       "<div>\n",
       "<style scoped>\n",
       "    .dataframe tbody tr th:only-of-type {\n",
       "        vertical-align: middle;\n",
       "    }\n",
       "\n",
       "    .dataframe tbody tr th {\n",
       "        vertical-align: top;\n",
       "    }\n",
       "\n",
       "    .dataframe thead th {\n",
       "        text-align: right;\n",
       "    }\n",
       "</style>\n",
       "<table border=\"1\" class=\"dataframe\">\n",
       "  <thead>\n",
       "    <tr style=\"text-align: right;\">\n",
       "      <th></th>\n",
       "      <th>RowNumber</th>\n",
       "      <th>CustomerId</th>\n",
       "      <th>Surname</th>\n",
       "      <th>CreditScore</th>\n",
       "      <th>Geography</th>\n",
       "      <th>Gender</th>\n",
       "      <th>Age</th>\n",
       "      <th>Tenure</th>\n",
       "      <th>Balance</th>\n",
       "      <th>NumOfProducts</th>\n",
       "      <th>HasCrCard</th>\n",
       "      <th>IsActiveMember</th>\n",
       "      <th>EstimatedSalary</th>\n",
       "      <th>Exited</th>\n",
       "    </tr>\n",
       "  </thead>\n",
       "  <tbody>\n",
       "    <tr>\n",
       "      <th>9995</th>\n",
       "      <td>9996</td>\n",
       "      <td>15606229</td>\n",
       "      <td>Obijiaku</td>\n",
       "      <td>771</td>\n",
       "      <td>France</td>\n",
       "      <td>Male</td>\n",
       "      <td>39</td>\n",
       "      <td>5.0</td>\n",
       "      <td>0.00</td>\n",
       "      <td>2</td>\n",
       "      <td>1</td>\n",
       "      <td>0</td>\n",
       "      <td>96270.64</td>\n",
       "      <td>0</td>\n",
       "    </tr>\n",
       "    <tr>\n",
       "      <th>9996</th>\n",
       "      <td>9997</td>\n",
       "      <td>15569892</td>\n",
       "      <td>Johnstone</td>\n",
       "      <td>516</td>\n",
       "      <td>France</td>\n",
       "      <td>Male</td>\n",
       "      <td>35</td>\n",
       "      <td>10.0</td>\n",
       "      <td>57369.61</td>\n",
       "      <td>1</td>\n",
       "      <td>1</td>\n",
       "      <td>1</td>\n",
       "      <td>101699.77</td>\n",
       "      <td>0</td>\n",
       "    </tr>\n",
       "    <tr>\n",
       "      <th>9997</th>\n",
       "      <td>9998</td>\n",
       "      <td>15584532</td>\n",
       "      <td>Liu</td>\n",
       "      <td>709</td>\n",
       "      <td>France</td>\n",
       "      <td>Female</td>\n",
       "      <td>36</td>\n",
       "      <td>7.0</td>\n",
       "      <td>0.00</td>\n",
       "      <td>1</td>\n",
       "      <td>0</td>\n",
       "      <td>1</td>\n",
       "      <td>42085.58</td>\n",
       "      <td>1</td>\n",
       "    </tr>\n",
       "    <tr>\n",
       "      <th>9998</th>\n",
       "      <td>9999</td>\n",
       "      <td>15682355</td>\n",
       "      <td>Sabbatini</td>\n",
       "      <td>772</td>\n",
       "      <td>Germany</td>\n",
       "      <td>Male</td>\n",
       "      <td>42</td>\n",
       "      <td>3.0</td>\n",
       "      <td>75075.31</td>\n",
       "      <td>2</td>\n",
       "      <td>1</td>\n",
       "      <td>0</td>\n",
       "      <td>92888.52</td>\n",
       "      <td>1</td>\n",
       "    </tr>\n",
       "    <tr>\n",
       "      <th>9999</th>\n",
       "      <td>10000</td>\n",
       "      <td>15628319</td>\n",
       "      <td>Walker</td>\n",
       "      <td>792</td>\n",
       "      <td>France</td>\n",
       "      <td>Female</td>\n",
       "      <td>28</td>\n",
       "      <td>NaN</td>\n",
       "      <td>130142.79</td>\n",
       "      <td>1</td>\n",
       "      <td>1</td>\n",
       "      <td>0</td>\n",
       "      <td>38190.78</td>\n",
       "      <td>0</td>\n",
       "    </tr>\n",
       "  </tbody>\n",
       "</table>\n",
       "</div>"
      ],
      "text/plain": [
       "      RowNumber  CustomerId    Surname  CreditScore Geography  Gender  Age  \\\n",
       "9995       9996    15606229   Obijiaku          771    France    Male   39   \n",
       "9996       9997    15569892  Johnstone          516    France    Male   35   \n",
       "9997       9998    15584532        Liu          709    France  Female   36   \n",
       "9998       9999    15682355  Sabbatini          772   Germany    Male   42   \n",
       "9999      10000    15628319     Walker          792    France  Female   28   \n",
       "\n",
       "      Tenure    Balance  NumOfProducts  HasCrCard  IsActiveMember  \\\n",
       "9995     5.0       0.00              2          1               0   \n",
       "9996    10.0   57369.61              1          1               1   \n",
       "9997     7.0       0.00              1          0               1   \n",
       "9998     3.0   75075.31              2          1               0   \n",
       "9999     NaN  130142.79              1          1               0   \n",
       "\n",
       "      EstimatedSalary  Exited  \n",
       "9995         96270.64       0  \n",
       "9996        101699.77       0  \n",
       "9997         42085.58       1  \n",
       "9998         92888.52       1  \n",
       "9999         38190.78       0  "
      ]
     },
     "execution_count": 2,
     "metadata": {},
     "output_type": "execute_result"
    }
   ],
   "source": [
    "# Let's examine the file\n",
    "data = pd.read_csv('Churn.csv')\n",
    "display(data.sample(5), data.info(), data.describe())\n",
    "data.hist(bins=50, figsize=(20,15), linewidth=1)\n",
    "plt.show()\n",
    "data.tail()"
   ]
  },
  {
   "cell_type": "markdown",
   "metadata": {},
   "source": [
    "<div style=\"border-radius: 15px; box-shadow: 2px 2px 2px; border: 1px solid green; padding: 20px\">\n",
    "\n",
    "### <font color='green'><b>Intermediate conclusion<b></font>\n",
    "\n",
    "\n",
    "Before us is an array of data on 10,000 clients of Beta-Bank, which contains the following information:\n",
    "    \n",
    "<blockquote>\n",
    "    \n",
    "- RowNumber - row index in the data;\n",
    "- CustomerId — unique customer identifier;\n",
    "- Surname - surname;\n",
    "- CreditScore — credit rating;\n",
    "- Geography — country of residence;\n",
    "- Gender - gender;\n",
    "- Age — age;\n",
    "- Tenure - how many years a person has been a client of the bank;\n",
    "- Balance — account balance;\n",
    "- NumOfProducts - the number of bank products used by the client;\n",
    "- HasCrCard - the presence of a credit card;\n",
    "- IsActiveMember — client activity;\n",
    "- EstimatedSalary — estimated salary;\n",
    "- Exited - the fact that the client left.\n",
    "</blockquote>\n",
    "<hr>\n",
    "    \n",
    "Necessary:\n",
    "<blockquote>\n",
    "    \n",
    "- Check data for repetitions;\n",
    "- Deal with gaps in the Tenure column. It contains 10% of missing information, which the model will learn better. Considering that we do not know the reason for the skip, we will replace it with a value that will not be repeated;\n",
    "- Remove columns from the table that will not affect the training of the model in any way;\n",
    "- Convert categorical features from numerical ones;\n",
    "- Rename columns for ease of use;\n",
    "- Convert the data to the required types.\n",
    "</blockquote> \n",
    "</div>"
   ]
  },
  {
   "cell_type": "code",
   "execution_count": 3,
   "metadata": {},
   "outputs": [
    {
     "data": {
      "text/plain": [
       "10000"
      ]
     },
     "execution_count": 3,
     "metadata": {},
     "output_type": "execute_result"
    }
   ],
   "source": [
    "# Fill in the gaps in the Tenure column by grouping customers by features.\n",
    "\n",
    "data['Tenure'] = data.groupby([data['NumOfProducts'],\n",
    "                              data['Geography'],\n",
    "                              data['Age'],\n",
    "                              data['HasCrCard']])['Tenure'].apply(lambda x: x.fillna(round(x.median(),0)))\n",
    "\n",
    "# A few gaps are left; let's fill them in by changing the grouping by age to the client's activity.\n",
    "data['Tenure'] = data.groupby([data['NumOfProducts'],\n",
    "                              data['Geography'],\n",
    "                              data['HasCrCard'],\n",
    "                              data['IsActiveMember']])['Tenure'].apply(lambda x: x.fillna(round(x.median(),0)))\n",
    "\n",
    "data['Tenure'].value_counts().sum()"
   ]
  },
  {
   "cell_type": "code",
   "execution_count": 4,
   "metadata": {},
   "outputs": [
    {
     "data": {
      "text/plain": [
       "10000"
      ]
     },
     "metadata": {},
     "output_type": "display_data"
    }
   ],
   "source": [
    "# Check users for repetitions\n",
    "display(data.CustomerId.value_counts().sum())\n",
    "\n",
    "'''\n",
    "The number of unique ids is 10.000, as is the number of rows.\n",
    "So there are no complete duplicates either.\n",
    "It is necessary to remove columns that do not carry any useful information:\n",
    "Line number, client id, and last name\n",
    "\n",
    "'''\n",
    "data1 = data.drop(['RowNumber', 'CustomerId', 'Surname'], axis=1)"
   ]
  },
  {
   "cell_type": "code",
   "execution_count": 5,
   "metadata": {},
   "outputs": [
    {
     "data": {
      "text/html": [
       "<div>\n",
       "<style scoped>\n",
       "    .dataframe tbody tr th:only-of-type {\n",
       "        vertical-align: middle;\n",
       "    }\n",
       "\n",
       "    .dataframe tbody tr th {\n",
       "        vertical-align: top;\n",
       "    }\n",
       "\n",
       "    .dataframe thead th {\n",
       "        text-align: right;\n",
       "    }\n",
       "</style>\n",
       "<table border=\"1\" class=\"dataframe\">\n",
       "  <thead>\n",
       "    <tr style=\"text-align: right;\">\n",
       "      <th></th>\n",
       "      <th>Geography</th>\n",
       "    </tr>\n",
       "  </thead>\n",
       "  <tbody>\n",
       "    <tr>\n",
       "      <th>France</th>\n",
       "      <td>5014</td>\n",
       "    </tr>\n",
       "    <tr>\n",
       "      <th>Germany</th>\n",
       "      <td>2509</td>\n",
       "    </tr>\n",
       "    <tr>\n",
       "      <th>Spain</th>\n",
       "      <td>2477</td>\n",
       "    </tr>\n",
       "  </tbody>\n",
       "</table>\n",
       "</div>"
      ],
      "text/plain": [
       "         Geography\n",
       "France        5014\n",
       "Germany       2509\n",
       "Spain         2477"
      ]
     },
     "metadata": {},
     "output_type": "display_data"
    },
    {
     "data": {
      "text/html": [
       "<div>\n",
       "<style scoped>\n",
       "    .dataframe tbody tr th:only-of-type {\n",
       "        vertical-align: middle;\n",
       "    }\n",
       "\n",
       "    .dataframe tbody tr th {\n",
       "        vertical-align: top;\n",
       "    }\n",
       "\n",
       "    .dataframe thead th {\n",
       "        text-align: right;\n",
       "    }\n",
       "</style>\n",
       "<table border=\"1\" class=\"dataframe\">\n",
       "  <thead>\n",
       "    <tr style=\"text-align: right;\">\n",
       "      <th></th>\n",
       "      <th>Gender</th>\n",
       "    </tr>\n",
       "  </thead>\n",
       "  <tbody>\n",
       "    <tr>\n",
       "      <th>Male</th>\n",
       "      <td>5457</td>\n",
       "    </tr>\n",
       "    <tr>\n",
       "      <th>Female</th>\n",
       "      <td>4543</td>\n",
       "    </tr>\n",
       "  </tbody>\n",
       "</table>\n",
       "</div>"
      ],
      "text/plain": [
       "        Gender\n",
       "Male      5457\n",
       "Female    4543"
      ]
     },
     "metadata": {},
     "output_type": "display_data"
    }
   ],
   "source": [
    "# Let's translate categorical features into numerical ones\n",
    "# Prepare the data using the OHE method, avoiding the dummy trap\n",
    "display(data1.Geography.value_counts().to_frame(),\n",
    "        data1.Gender.value_counts().to_frame()\n",
    "       )\n",
    "\n",
    "data1 = pd.get_dummies(data1, drop_first=True)"
   ]
  },
  {
   "cell_type": "code",
   "execution_count": 6,
   "metadata": {},
   "outputs": [
    {
     "name": "stdout",
     "output_type": "stream",
     "text": [
      "<class 'pandas.core.frame.DataFrame'>\n",
      "RangeIndex: 10000 entries, 0 to 9999\n",
      "Data columns (total 12 columns):\n",
      " #   Column            Non-Null Count  Dtype  \n",
      "---  ------            --------------  -----  \n",
      " 0   credit_score      10000 non-null  int64  \n",
      " 1   age               10000 non-null  int64  \n",
      " 2   tenure            10000 non-null  Int32  \n",
      " 3   balance           10000 non-null  float64\n",
      " 4   num_of_products   10000 non-null  int64  \n",
      " 5   has_cr_card       10000 non-null  int64  \n",
      " 6   is_active_member  10000 non-null  int64  \n",
      " 7   estimated_salary  10000 non-null  float64\n",
      " 8   exited            10000 non-null  int64  \n",
      " 9   is_germany        10000 non-null  uint8  \n",
      " 10  is_spain          10000 non-null  uint8  \n",
      " 11  is_male           10000 non-null  uint8  \n",
      "dtypes: Int32(1), float64(2), int64(6), uint8(3)\n",
      "memory usage: 703.2 KB\n"
     ]
    },
    {
     "data": {
      "text/plain": [
       "None"
      ]
     },
     "metadata": {},
     "output_type": "display_data"
    },
    {
     "data": {
      "text/html": [
       "<div>\n",
       "<style scoped>\n",
       "    .dataframe tbody tr th:only-of-type {\n",
       "        vertical-align: middle;\n",
       "    }\n",
       "\n",
       "    .dataframe tbody tr th {\n",
       "        vertical-align: top;\n",
       "    }\n",
       "\n",
       "    .dataframe thead th {\n",
       "        text-align: right;\n",
       "    }\n",
       "</style>\n",
       "<table border=\"1\" class=\"dataframe\">\n",
       "  <thead>\n",
       "    <tr style=\"text-align: right;\">\n",
       "      <th></th>\n",
       "      <th>credit_score</th>\n",
       "      <th>age</th>\n",
       "      <th>tenure</th>\n",
       "      <th>balance</th>\n",
       "      <th>num_of_products</th>\n",
       "      <th>has_cr_card</th>\n",
       "      <th>is_active_member</th>\n",
       "      <th>estimated_salary</th>\n",
       "      <th>exited</th>\n",
       "      <th>is_germany</th>\n",
       "      <th>is_spain</th>\n",
       "      <th>is_male</th>\n",
       "    </tr>\n",
       "  </thead>\n",
       "  <tbody>\n",
       "    <tr>\n",
       "      <th>0</th>\n",
       "      <td>619</td>\n",
       "      <td>42</td>\n",
       "      <td>2</td>\n",
       "      <td>0.00</td>\n",
       "      <td>1</td>\n",
       "      <td>1</td>\n",
       "      <td>1</td>\n",
       "      <td>101348.88</td>\n",
       "      <td>1</td>\n",
       "      <td>0</td>\n",
       "      <td>0</td>\n",
       "      <td>0</td>\n",
       "    </tr>\n",
       "    <tr>\n",
       "      <th>1</th>\n",
       "      <td>608</td>\n",
       "      <td>41</td>\n",
       "      <td>1</td>\n",
       "      <td>83807.86</td>\n",
       "      <td>1</td>\n",
       "      <td>0</td>\n",
       "      <td>1</td>\n",
       "      <td>112542.58</td>\n",
       "      <td>0</td>\n",
       "      <td>0</td>\n",
       "      <td>1</td>\n",
       "      <td>0</td>\n",
       "    </tr>\n",
       "    <tr>\n",
       "      <th>2</th>\n",
       "      <td>502</td>\n",
       "      <td>42</td>\n",
       "      <td>8</td>\n",
       "      <td>159660.80</td>\n",
       "      <td>3</td>\n",
       "      <td>1</td>\n",
       "      <td>0</td>\n",
       "      <td>113931.57</td>\n",
       "      <td>1</td>\n",
       "      <td>0</td>\n",
       "      <td>0</td>\n",
       "      <td>0</td>\n",
       "    </tr>\n",
       "    <tr>\n",
       "      <th>3</th>\n",
       "      <td>699</td>\n",
       "      <td>39</td>\n",
       "      <td>1</td>\n",
       "      <td>0.00</td>\n",
       "      <td>2</td>\n",
       "      <td>0</td>\n",
       "      <td>0</td>\n",
       "      <td>93826.63</td>\n",
       "      <td>0</td>\n",
       "      <td>0</td>\n",
       "      <td>0</td>\n",
       "      <td>0</td>\n",
       "    </tr>\n",
       "    <tr>\n",
       "      <th>4</th>\n",
       "      <td>850</td>\n",
       "      <td>43</td>\n",
       "      <td>2</td>\n",
       "      <td>125510.82</td>\n",
       "      <td>1</td>\n",
       "      <td>1</td>\n",
       "      <td>1</td>\n",
       "      <td>79084.10</td>\n",
       "      <td>0</td>\n",
       "      <td>0</td>\n",
       "      <td>1</td>\n",
       "      <td>0</td>\n",
       "    </tr>\n",
       "  </tbody>\n",
       "</table>\n",
       "</div>"
      ],
      "text/plain": [
       "   credit_score  age  tenure    balance  num_of_products  has_cr_card  \\\n",
       "0           619   42       2       0.00                1            1   \n",
       "1           608   41       1   83807.86                1            0   \n",
       "2           502   42       8  159660.80                3            1   \n",
       "3           699   39       1       0.00                2            0   \n",
       "4           850   43       2  125510.82                1            1   \n",
       "\n",
       "   is_active_member  estimated_salary  exited  is_germany  is_spain  is_male  \n",
       "0                 1         101348.88       1           0         0        0  \n",
       "1                 1         112542.58       0           0         1        0  \n",
       "2                 0         113931.57       1           0         0        0  \n",
       "3                 0          93826.63       0           0         0        0  \n",
       "4                 1          79084.10       0           0         1        0  "
      ]
     },
     "metadata": {},
     "output_type": "display_data"
    }
   ],
   "source": [
    "# Rename the columns for ease of use\n",
    "data1.columns = ['credit_score',\n",
    "                 'age',\n",
    "                 'tenure',\n",
    "                 'balance',\n",
    "                 'num_of_products',\n",
    "                 'has_cr_card',\n",
    "                 'is_active_member',\n",
    "                 'estimated_salary',\n",
    "                 'exited',\n",
    "                 'is_germany',\n",
    "                 'is_spain',\n",
    "                 'is_male']\n",
    "\n",
    "data1 = data1.astype({'tenure': 'Int32'})\n",
    "\n",
    "display(data1.info(),\n",
    "        data1.head())"
   ]
  },
  {
   "cell_type": "markdown",
   "metadata": {},
   "source": [
    "<div style=\"border-radius: 15px; box-shadow: 2px 2px 2px; border: 1px solid green; padding: 20px\">\n",
    "\n",
    "### <font color='green'><b>Intermediate conclusion<b></font>\n",
    "\n",
    "\n",
    "After the first data preparation stage, we dealt with gaps, converted all columns to numerical form, removed unnecessary columns, and checked all data types. Now we have an array of data on 10,000 clients of Beta-Bank, which contains the following information:\n",
    "    \n",
    "<blockquote>\n",
    "    \n",
    "- credit_score — credit rating;\n",
    "- age - age;\n",
    "- tenure — how many years a person has been a client of the bank;\n",
    "- balance — account balance;\n",
    "- num_of_products - the number of bank products used by the client;\n",
    "- has_cr_card - the presence of a credit card;\n",
    "- is_active_member — client activity;\n",
    "- estimated_salary — estimated salary;\n",
    "- exited — the fact that the client left;\n",
    "- is_germany — country of residence Germany;\n",
    "- is_spain - country of residence Spain;\n",
    "- is_male - male gender.\n",
    "</blockquote>\n",
    "<hr>\n",
    "    \n",
    "Next, we need the following:\n",
    "<blockquote>\n",
    "    \n",
    "- Scale numerical values so the algorithm does not decide that features with large values and scatter are more critical. After scaling, the mean value of the feature will be 0, and the variance will be 1;\n",
    "- Divide the samples into features and the target feature, and then divide them into training, validation, and testing in the proportion of 60/20/20. The target feature in our table is the 'exited' column; according to the rest of the features, our model will predict the values of the target feature in the validation and test sets at the end of training.\n",
    "</blockquote> \n",
    "</div>"
   ]
  },
  {
   "cell_type": "code",
   "execution_count": 7,
   "metadata": {},
   "outputs": [
    {
     "data": {
      "text/html": [
       "<div>\n",
       "<style scoped>\n",
       "    .dataframe tbody tr th:only-of-type {\n",
       "        vertical-align: middle;\n",
       "    }\n",
       "\n",
       "    .dataframe tbody tr th {\n",
       "        vertical-align: top;\n",
       "    }\n",
       "\n",
       "    .dataframe thead th {\n",
       "        text-align: right;\n",
       "    }\n",
       "</style>\n",
       "<table border=\"1\" class=\"dataframe\">\n",
       "  <thead>\n",
       "    <tr style=\"text-align: right;\">\n",
       "      <th></th>\n",
       "      <th>credit_score</th>\n",
       "      <th>age</th>\n",
       "      <th>tenure</th>\n",
       "      <th>balance</th>\n",
       "      <th>num_of_products</th>\n",
       "      <th>has_cr_card</th>\n",
       "      <th>is_active_member</th>\n",
       "      <th>estimated_salary</th>\n",
       "      <th>exited</th>\n",
       "      <th>is_germany</th>\n",
       "      <th>is_spain</th>\n",
       "      <th>is_male</th>\n",
       "    </tr>\n",
       "  </thead>\n",
       "  <tbody>\n",
       "    <tr>\n",
       "      <th>0</th>\n",
       "      <td>-0.326221</td>\n",
       "      <td>0.293517</td>\n",
       "      <td>-1.075715</td>\n",
       "      <td>-1.225848</td>\n",
       "      <td>-0.911583</td>\n",
       "      <td>1</td>\n",
       "      <td>1</td>\n",
       "      <td>0.021886</td>\n",
       "      <td>1</td>\n",
       "      <td>0</td>\n",
       "      <td>0</td>\n",
       "      <td>0</td>\n",
       "    </tr>\n",
       "    <tr>\n",
       "      <th>1</th>\n",
       "      <td>-0.440036</td>\n",
       "      <td>0.198164</td>\n",
       "      <td>-1.434443</td>\n",
       "      <td>0.117350</td>\n",
       "      <td>-0.911583</td>\n",
       "      <td>0</td>\n",
       "      <td>1</td>\n",
       "      <td>0.216534</td>\n",
       "      <td>0</td>\n",
       "      <td>0</td>\n",
       "      <td>1</td>\n",
       "      <td>0</td>\n",
       "    </tr>\n",
       "  </tbody>\n",
       "</table>\n",
       "</div>"
      ],
      "text/plain": [
       "   credit_score       age    tenure   balance  num_of_products  has_cr_card  \\\n",
       "0     -0.326221  0.293517 -1.075715 -1.225848        -0.911583            1   \n",
       "1     -0.440036  0.198164 -1.434443  0.117350        -0.911583            0   \n",
       "\n",
       "   is_active_member  estimated_salary  exited  is_germany  is_spain  is_male  \n",
       "0                 1          0.021886       1           0         0        0  \n",
       "1                 1          0.216534       0           0         1        0  "
      ]
     },
     "metadata": {},
     "output_type": "display_data"
    },
    {
     "data": {
      "image/png": "[encoded data removed]",
      "text/plain": [
       "<Figure size 1440x1080 with 12 Axes>"
      ]
     },
     "metadata": {
      "needs_background": "light"
     },
     "output_type": "display_data"
    }
   ],
   "source": [
    "# Let's scale numerical values\n",
    "numeric = ['credit_score', 'age', 'balance', 'estimated_salary', 'tenure', 'num_of_products']\n",
    "scaler = StandardScaler()\n",
    "scaler.fit(data1[numeric])\n",
    "def scaling(data):\n",
    "    data[numeric] = scaler.transform(data[numeric])\n",
    "    display(data.head(2))\n",
    "            \n",
    "\n",
    "scaling(data1)\n",
    "    \n",
    "\n",
    "data1.hist(bins=50, figsize=(20,15), linewidth=1)\n",
    "plt.show()"
   ]
  },
  {
   "cell_type": "code",
   "execution_count": 8,
   "metadata": {},
   "outputs": [
    {
     "name": "stdout",
     "output_type": "stream",
     "text": [
      " Training data scale: (6000, 11) \n",
      " Validation data scale: (2000, 11) \n",
      " Test data scale: (2000, 11)\n"
     ]
    },
    {
     "data": {
      "text/html": [
       "<div>\n",
       "<style scoped>\n",
       "    .dataframe tbody tr th:only-of-type {\n",
       "        vertical-align: middle;\n",
       "    }\n",
       "\n",
       "    .dataframe tbody tr th {\n",
       "        vertical-align: top;\n",
       "    }\n",
       "\n",
       "    .dataframe thead th {\n",
       "        text-align: right;\n",
       "    }\n",
       "</style>\n",
       "<table border=\"1\" class=\"dataframe\">\n",
       "  <thead>\n",
       "    <tr style=\"text-align: right;\">\n",
       "      <th></th>\n",
       "      <th>exited</th>\n",
       "    </tr>\n",
       "  </thead>\n",
       "  <tbody>\n",
       "    <tr>\n",
       "      <th>0</th>\n",
       "      <td>0.800667</td>\n",
       "    </tr>\n",
       "    <tr>\n",
       "      <th>1</th>\n",
       "      <td>0.199333</td>\n",
       "    </tr>\n",
       "  </tbody>\n",
       "</table>\n",
       "</div>"
      ],
      "text/plain": [
       "     exited\n",
       "0  0.800667\n",
       "1  0.199333"
      ]
     },
     "metadata": {},
     "output_type": "display_data"
    },
    {
     "data": {
      "text/html": [
       "<div>\n",
       "<style scoped>\n",
       "    .dataframe tbody tr th:only-of-type {\n",
       "        vertical-align: middle;\n",
       "    }\n",
       "\n",
       "    .dataframe tbody tr th {\n",
       "        vertical-align: top;\n",
       "    }\n",
       "\n",
       "    .dataframe thead th {\n",
       "        text-align: right;\n",
       "    }\n",
       "</style>\n",
       "<table border=\"1\" class=\"dataframe\">\n",
       "  <thead>\n",
       "    <tr style=\"text-align: right;\">\n",
       "      <th></th>\n",
       "      <th>exited</th>\n",
       "    </tr>\n",
       "  </thead>\n",
       "  <tbody>\n",
       "    <tr>\n",
       "      <th>0</th>\n",
       "      <td>0.791</td>\n",
       "    </tr>\n",
       "    <tr>\n",
       "      <th>1</th>\n",
       "      <td>0.209</td>\n",
       "    </tr>\n",
       "  </tbody>\n",
       "</table>\n",
       "</div>"
      ],
      "text/plain": [
       "   exited\n",
       "0   0.791\n",
       "1   0.209"
      ]
     },
     "metadata": {},
     "output_type": "display_data"
    },
    {
     "data": {
      "text/html": [
       "<div>\n",
       "<style scoped>\n",
       "    .dataframe tbody tr th:only-of-type {\n",
       "        vertical-align: middle;\n",
       "    }\n",
       "\n",
       "    .dataframe tbody tr th {\n",
       "        vertical-align: top;\n",
       "    }\n",
       "\n",
       "    .dataframe thead th {\n",
       "        text-align: right;\n",
       "    }\n",
       "</style>\n",
       "<table border=\"1\" class=\"dataframe\">\n",
       "  <thead>\n",
       "    <tr style=\"text-align: right;\">\n",
       "      <th></th>\n",
       "      <th>exited</th>\n",
       "    </tr>\n",
       "  </thead>\n",
       "  <tbody>\n",
       "    <tr>\n",
       "      <th>0</th>\n",
       "      <td>0.7885</td>\n",
       "    </tr>\n",
       "    <tr>\n",
       "      <th>1</th>\n",
       "      <td>0.2115</td>\n",
       "    </tr>\n",
       "  </tbody>\n",
       "</table>\n",
       "</div>"
      ],
      "text/plain": [
       "   exited\n",
       "0  0.7885\n",
       "1  0.2115"
      ]
     },
     "metadata": {},
     "output_type": "display_data"
    }
   ],
   "source": [
    "# Divide the model into samples with the following proportion 6/2/2\n",
    "\n",
    "features = data1.drop('exited', axis=1)\n",
    "target = data1['exited']\n",
    "\n",
    "features_train, features_valid_test, target_train, target_valid_test = ( \n",
    "                                train_test_split(\n",
    "                                features, target, test_size=0.40, random_state=12345)\n",
    ")\n",
    "features_valid, features_test, target_valid, target_test = ( \n",
    "                                train_test_split(\n",
    "                                features_valid_test, target_valid_test, test_size=0.50, random_state=12345)\n",
    ")\n",
    "print(' Training data scale:', features_train.shape,\n",
    "'\\n Validation data scale:', features_valid.shape,\n",
    "'\\n Test data scale:', features_test.shape)\n",
    "display(target_train.value_counts(normalize = 1).to_frame(),\n",
    "      target_valid.value_counts(normalize = 1).to_frame(),\n",
    "      target_test.value_counts(normalize = 1).to_frame())"
   ]
  },
  {
   "cell_type": "markdown",
   "metadata": {},
   "source": [
    "<div style=\"border-radius: 15px; box-shadow: 2px 2px 2px; border: 1px solid green; padding: 20px\">\n",
    "\n",
    "### <font color='green'><b>Conclusion</b></font>\n",
    "\n",
    "<center><b>We are faced with the task of classification</b></center>\n",
    "    \n",
    "Before studying the problem, we transformed the data:\n",
    "    \n",
    "<blockquote>\n",
    "    \n",
    "- Checked the data for repetitions;\n",
    "- Dealt with passes;\n",
    "- Removed unnecessary features (name, id, line number);\n",
    "- Converted categorical features into numerical ones;\n",
    "- Brought the data to the required types;\n",
    "- Made scaling of numerical values;\n",
    "- Separated the target feature from the features;\n",
    "- Divided the data into samples (training, validation, and test).\n",
    "\n",
    "</blockquote>\n",
    "<hr>\n",
    "    \n",
    "<b>Next you need:</b>\n",
    "    \n",
    "Explore the problem\n",
    "    \n",
    "Based on a preliminary analysis of the initial data on the histogram of the 'exited' column, it can be seen that there is an imbalance of classes. The data contains four times more data on customers who have yet to leave the bank. Considering that the main task for our model is to successfully predict and predict the moment the client wants to go, such an imbalance can interfere with the quality training of the model. Also, some customers who have not left the bank may want to leave.\n",
    "    \n",
    "</div>"
   ]
  },
  {
   "cell_type": "markdown",
   "metadata": {},
   "source": [
    "## Problem research"
   ]
  },
  {
   "attachments": {
    "image-2.png": {
     "image/png": "[encoded data removed]"
    }
   },
   "cell_type": "markdown",
   "metadata": {},
   "source": [
    "<div style=\"border-radius: 15px; box-shadow: 2px 2px 2px; border: 1px solid green; padding: 20px\">\n",
    "\n",
    "<b>Let's start building our first-class imbalance models. </b>\n",
    "    \n",
    "Let's write a function that will train the model. We will submit the model, training, and validation samples as input. We will train the model inside the function and make a prediction based on the validation set. Let's output:\n",
    "    \n",
    "- An error matrix, which will display the accuracy of our predictions;\n",
    "    ![image-2.png](attachment:image-2.png)\n",
    "    \n",
    "- Completeness (recall) - what proportion of positive responses among all the answers was allocated by the model;\n",
    "- Accuracy (precision) - how many negative answers the model found while looking for positive ones;\n",
    "- F1-measure - harmonic mean of completeness and accuracy;\n",
    "- AUC-ROC - area under ROC curve or error curve. If the value is more significant than 0.5, then the model is better than the random model.\n",
    "</div>"
   ]
  },
  {
   "cell_type": "code",
   "execution_count": 9,
   "metadata": {},
   "outputs": [],
   "source": [
    "# Let's write the function of training the model, predicting and displaying metrics on the screen\n",
    "\n",
    "def modeltrain(model_type, feature_train, targets_train, features_valid, target_valid):\n",
    "    \n",
    "    model = model_type\n",
    "    \n",
    "    # Train model\n",
    "    model.fit(feature_train, targets_train)\n",
    "    \n",
    "    \n",
    "    prediction = model.predict(features_valid)\n",
    "\n",
    "    # Let's build the matrix of inaccuracies\n",
    "    matrix = confusion_matrix(target_valid, prediction)\n",
    "    matrix = matrix.astype('float') / matrix.sum(axis=1)[:, np.newaxis]\n",
    "    \n",
    "    # Displaying the matrix\n",
    "    sns.heatmap(matrix, annot=True, annot_kws={'size':15}, linewidths=0.3)\n",
    "    plt.xlabel('Predicted classes')\n",
    "    plt.ylabel('True classes')\n",
    "    plt.title('Matrix of errors')\n",
    "    plt.show()\n",
    "    \n",
    "    \n",
    "    # Display classification metrics\n",
    "    print(\"Recall\" , recall_score(target_valid, prediction))\n",
    "    print(\"Precision\", precision_score(target_valid, prediction))\n",
    "    print(\"F1-score\", f1_score(target_valid, prediction))\n",
    "    print(\"AUC-ROC\", roc_auc_score(target_valid, prediction), '\\n')"
   ]
  },
  {
   "cell_type": "markdown",
   "metadata": {},
   "source": [
    "<div style=\"border-radius: 15px; box-shadow: 2px 2px 2px; border: 1px solid green; padding: 20px\">\n",
    "\n",
    "<center><b>Class balance</b></center>    \n",
    "\n",
    "</div>"
   ]
  },
  {
   "cell_type": "code",
   "execution_count": 10,
   "metadata": {},
   "outputs": [
    {
     "data": {
      "text/html": [
       "<div>\n",
       "<style scoped>\n",
       "    .dataframe tbody tr th:only-of-type {\n",
       "        vertical-align: middle;\n",
       "    }\n",
       "\n",
       "    .dataframe tbody tr th {\n",
       "        vertical-align: top;\n",
       "    }\n",
       "\n",
       "    .dataframe thead th {\n",
       "        text-align: right;\n",
       "    }\n",
       "</style>\n",
       "<table border=\"1\" class=\"dataframe\">\n",
       "  <thead>\n",
       "    <tr style=\"text-align: right;\">\n",
       "      <th></th>\n",
       "      <th>exited</th>\n",
       "    </tr>\n",
       "  </thead>\n",
       "  <tbody>\n",
       "    <tr>\n",
       "      <th>0</th>\n",
       "      <td>0.7963</td>\n",
       "    </tr>\n",
       "    <tr>\n",
       "      <th>1</th>\n",
       "      <td>0.2037</td>\n",
       "    </tr>\n",
       "  </tbody>\n",
       "</table>\n",
       "</div>"
      ],
      "text/plain": [
       "   exited\n",
       "0  0.7963\n",
       "1  0.2037"
      ]
     },
     "execution_count": 10,
     "metadata": {},
     "output_type": "execute_result"
    }
   ],
   "source": [
    "# Class balance\n",
    "data1['exited'].value_counts(normalize = 1).to_frame()"
   ]
  },
  {
   "cell_type": "markdown",
   "metadata": {},
   "source": [
    "<div style=\"border-radius: 15px; box-shadow: 2px 2px 2px; border: 1px solid green; padding: 20px\">\n",
    "<center><b>Logistic regression</b></center>\n",
    "</div>"
   ]
  },
  {
   "cell_type": "code",
   "execution_count": 11,
   "metadata": {},
   "outputs": [
    {
     "data": {
      "image/png": "[encoded data removed]",
      "text/plain": [
       "<Figure size 432x288 with 2 Axes>"
      ]
     },
     "metadata": {
      "needs_background": "light"
     },
     "output_type": "display_data"
    },
    {
     "name": "stdout",
     "output_type": "stream",
     "text": [
      "Recall 0.23684210526315788\n",
      "Precision 0.5657142857142857\n",
      "F1-score 0.33389544688026984\n",
      "AUC-ROC 0.5944008250715284 \n",
      "\n"
     ]
    },
    {
     "data": {
      "image/png": "[encoded data removed]",
      "text/plain": [
       "<Figure size 432x288 with 2 Axes>"
      ]
     },
     "metadata": {
      "needs_background": "light"
     },
     "output_type": "display_data"
    },
    {
     "name": "stdout",
     "output_type": "stream",
     "text": [
      "Recall 0.6842105263157895\n",
      "Precision 0.3818424566088118\n",
      "F1-score 0.4901456726649529\n",
      "AUC-ROC 0.6957715084170604 \n",
      "\n",
      "{'C': 1, 'class_weight': 'balanced', 'intercept_scaling': 1.0}\n"
     ]
    },
    {
     "data": {
      "image/png": "[encoded data removed]",
      "text/plain": [
       "<Figure size 432x288 with 2 Axes>"
      ]
     },
     "metadata": {
      "needs_background": "light"
     },
     "output_type": "display_data"
    },
    {
     "name": "stdout",
     "output_type": "stream",
     "text": [
      "Recall 0.6842105263157895\n",
      "Precision 0.3818424566088118\n",
      "F1-score 0.4901456726649529\n",
      "AUC-ROC 0.6957715084170604 \n",
      "\n",
      "CPU times: user 6.86 s, sys: 7.5 s, total: 14.4 s\n",
      "Wall time: 14.4 s\n"
     ]
    }
   ],
   "source": [
    "%%time\n",
    "from sklearn.model_selection import GridSearchCV\n",
    "\n",
    "# Default Model\n",
    "modeltrain(LogisticRegression(random_state=12345, solver='liblinear'), \n",
    "           features_train, \n",
    "           target_train, \n",
    "           features_valid, \n",
    "           target_valid)\n",
    "\n",
    "# With class_weight\n",
    "modeltrain(LogisticRegression(random_state=12345, solver='liblinear', class_weight='balanced'), \n",
    "           features_train, \n",
    "           target_train, \n",
    "           features_valid, \n",
    "           target_valid)\n",
    "\n",
    "# With hyperparameter selection\n",
    "parametres = {'intercept_scaling': [0.5, 1.0, 1.5],\n",
    "              'class_weight': [None, 'balanced'],\n",
    "              'C': [0.5, 1, 1.5]}\n",
    "model = LogisticRegression(random_state=12345, solver = 'liblinear')\n",
    "\n",
    "grid_search = GridSearchCV(model, parametres, cv=5, scoring='f1')\n",
    "grid_search.fit(features_train, target_train)\n",
    "print(grid_search.best_params_)\n",
    "\n",
    "modeltrain(LogisticRegression(**grid_search.best_params_), \n",
    "           features_train, \n",
    "           target_train, \n",
    "           features_valid, \n",
    "           target_valid)"
   ]
  },
  {
   "cell_type": "markdown",
   "metadata": {},
   "source": [
    "<div style=\"border-radius: 15px; box-shadow: 2px 2px 2px; border: 1px solid green; padding: 20px\">\n",
    "<center><b>Decision Tree</b></center>\n",
    "</div>"
   ]
  },
  {
   "cell_type": "code",
   "execution_count": 12,
   "metadata": {},
   "outputs": [
    {
     "data": {
      "image/png": "[encoded data removed]",
      "text/plain": [
       "<Figure size 432x288 with 2 Axes>"
      ]
     },
     "metadata": {
      "needs_background": "light"
     },
     "output_type": "display_data"
    },
    {
     "name": "stdout",
     "output_type": "stream",
     "text": [
      "Recall 0.49282296650717705\n",
      "Precision 0.4881516587677725\n",
      "F1-score 0.49047619047619045\n",
      "AUC-ROC 0.6781434680829185 \n",
      "\n"
     ]
    },
    {
     "data": {
      "image/png": "[encoded data removed]",
      "text/plain": [
       "<Figure size 432x288 with 2 Axes>"
      ]
     },
     "metadata": {
      "needs_background": "light"
     },
     "output_type": "display_data"
    },
    {
     "name": "stdout",
     "output_type": "stream",
     "text": [
      "Recall 0.47607655502392343\n",
      "Precision 0.48655256723716384\n",
      "F1-score 0.48125755743651755\n",
      "AUC-ROC 0.6716665960960325 \n",
      "\n"
     ]
    },
    {
     "data": {
      "application/vnd.jupyter.widget-view+json": {
       "model_id": "7eb0c72afcdd451fb0bb6cf99dc58a1b",
       "version_major": 2,
       "version_minor": 0
      },
      "text/plain": [
       "0it [00:00, ?it/s]"
      ]
     },
     "metadata": {},
     "output_type": "display_data"
    },
    {
     "data": {
      "image/png": "[encoded data removed]",
      "text/plain": [
       "<Figure size 432x288 with 2 Axes>"
      ]
     },
     "metadata": {
      "needs_background": "light"
     },
     "output_type": "display_data"
    },
    {
     "name": "stdout",
     "output_type": "stream",
     "text": [
      "Recall 0.4569377990430622\n",
      "Precision 0.7732793522267206\n",
      "F1-score 0.574436090225564\n",
      "AUC-ROC 0.7107697844772833 \n",
      "\n"
     ]
    }
   ],
   "source": [
    "# Default Model\n",
    "modeltrain(DecisionTreeClassifier(random_state=12345), \n",
    "           features_train, \n",
    "           target_train, \n",
    "           features_valid, \n",
    "           target_valid)\n",
    "\n",
    "# With class_weigth\n",
    "\n",
    "modeltrain(DecisionTreeClassifier(random_state=12345, class_weight='balanced'), \n",
    "               features_train, \n",
    "               target_train, \n",
    "               features_valid, \n",
    "               target_valid)\n",
    "\n",
    "# With hyperparameter selection\n",
    "max_depth = np.arange(3,15,1)\n",
    "min_samples_split = np.arange(2,5)\n",
    "min_samples_leaf = np.arange(1,5)\n",
    "best_model = None\n",
    "bestf1 = 0\n",
    "\n",
    "dtc_params = product(max_depth, min_samples_split, min_samples_leaf)\n",
    "\n",
    "for i in tqdm(dtc_params):\n",
    "\n",
    "    model = DecisionTreeClassifier(random_state=12345, max_depth = i[0], min_samples_split = i[1], min_samples_leaf = i[2])\n",
    "    model.fit(features_train, target_train)\n",
    "\n",
    "    prediction = model.predict(features_valid)\n",
    "    f1 = f1_score(target_valid, prediction)\n",
    "\n",
    "    if f1>bestf1:\n",
    "        bestf1=f1\n",
    "        best_model = model\n",
    "\n",
    "modeltrain(best_model, features_train, target_train, features_valid, target_valid)"
   ]
  },
  {
   "cell_type": "code",
   "execution_count": 13,
   "metadata": {},
   "outputs": [
    {
     "data": {
      "text/plain": [
       "DecisionTreeClassifier(max_depth=6, min_samples_leaf=3, random_state=12345)"
      ]
     },
     "metadata": {},
     "output_type": "display_data"
    }
   ],
   "source": [
    "display(best_model)"
   ]
  },
  {
   "cell_type": "markdown",
   "metadata": {},
   "source": [
    "<div style=\"border-radius: 15px; box-shadow: 2px 2px 2px; border: 1px solid green; padding: 20px\">\n",
    "<center><b>Random Forest Classifier</b></center>\n",
    "</div>"
   ]
  },
  {
   "cell_type": "code",
   "execution_count": 14,
   "metadata": {},
   "outputs": [
    {
     "data": {
      "image/png": "[encoded data removed]",
      "text/plain": [
       "<Figure size 432x288 with 2 Axes>"
      ]
     },
     "metadata": {
      "needs_background": "light"
     },
     "output_type": "display_data"
    },
    {
     "name": "stdout",
     "output_type": "stream",
     "text": [
      "Recall 0.45933014354066987\n",
      "Precision 0.7710843373493976\n",
      "F1-score 0.575712143928036\n",
      "AUC-ROC 0.7116499011002969 \n",
      "\n",
      "balanced\n"
     ]
    },
    {
     "data": {
      "image/png": "[encoded data removed]",
      "text/plain": [
       "<Figure size 432x288 with 2 Axes>"
      ]
     },
     "metadata": {
      "needs_background": "light"
     },
     "output_type": "display_data"
    },
    {
     "name": "stdout",
     "output_type": "stream",
     "text": [
      "Recall 0.43301435406698563\n",
      "Precision 0.776824034334764\n",
      "F1-score 0.5560675883256528\n",
      "AUC-ROC 0.7000722844924057 \n",
      "\n",
      "balanced_subsample\n"
     ]
    },
    {
     "data": {
      "image/png": "[encoded data removed]",
      "text/plain": [
       "<Figure size 432x288 with 2 Axes>"
      ]
     },
     "metadata": {
      "needs_background": "light"
     },
     "output_type": "display_data"
    },
    {
     "name": "stdout",
     "output_type": "stream",
     "text": [
      "Recall 0.43779904306220097\n",
      "Precision 0.7593360995850622\n",
      "F1-score 0.5553869499241275\n",
      "AUC-ROC 0.7005682952352724 \n",
      "\n"
     ]
    },
    {
     "data": {
      "application/vnd.jupyter.widget-view+json": {
       "model_id": "bf3b32396c464957b3f5dfb8acbab838",
       "version_major": 2,
       "version_minor": 0
      },
      "text/plain": [
       "0it [00:00, ?it/s]"
      ]
     },
     "metadata": {},
     "output_type": "display_data"
    },
    {
     "data": {
      "image/png": "[encoded data removed]",
      "text/plain": [
       "<Figure size 432x288 with 2 Axes>"
      ]
     },
     "metadata": {
      "needs_background": "light"
     },
     "output_type": "display_data"
    },
    {
     "name": "stdout",
     "output_type": "stream",
     "text": [
      "Recall 0.4688995215311005\n",
      "Precision 0.7626459143968871\n",
      "F1-score 0.5807407407407408\n",
      "AUC-ROC 0.7151703675923518 \n",
      "\n"
     ]
    }
   ],
   "source": [
    "# Default Model\n",
    "modeltrain(RandomForestClassifier(random_state=12345), \n",
    "           features_train, \n",
    "           target_train, \n",
    "           features_valid, \n",
    "           target_valid)\n",
    "\n",
    "# With class_weigth\n",
    "classes_of_weight = ['balanced', 'balanced_subsample']\n",
    "for class_weight in classes_of_weight:\n",
    "    print(class_weight)\n",
    "    modeltrain(RandomForestClassifier(random_state=12345, class_weight=class_weight), \n",
    "           features_train, \n",
    "           target_train, \n",
    "           features_valid, \n",
    "           target_valid)\n",
    "\n",
    "# With hyperparameter selection\n",
    "max_depth = np.arange(3,12,2)\n",
    "n_estimators = np.arange(10,50,10)\n",
    "best_model = None\n",
    "bestf1 = 0\n",
    "\n",
    "rfc_params = product(max_depth, n_estimators)\n",
    "\n",
    "for i in tqdm(rfc_params):\n",
    "\n",
    "    model = RandomForestClassifier(random_state=12345, max_depth = i[0], n_estimators = i[1])\n",
    "    model.fit(features_train, target_train)\n",
    "\n",
    "    prediction = model.predict(features_valid)\n",
    "    f1 = f1_score(target_valid, prediction)\n",
    "\n",
    "    if f1>bestf1:\n",
    "        bestf1=f1\n",
    "        best_model = model\n",
    "\n",
    "modeltrain(best_model, features_train, target_train, features_valid, target_valid)"
   ]
  },
  {
   "cell_type": "code",
   "execution_count": 15,
   "metadata": {},
   "outputs": [
    {
     "data": {
      "text/plain": [
       "RandomForestClassifier(max_depth=11, n_estimators=10, random_state=12345)"
      ]
     },
     "execution_count": 15,
     "metadata": {},
     "output_type": "execute_result"
    }
   ],
   "source": [
    "best_model"
   ]
  },
  {
   "cell_type": "markdown",
   "metadata": {},
   "source": [
    "<div style=\"border-radius: 15px; box-shadow: 2px 2px 2px; border: 1px solid green; padding: 20px\">\n",
    "\n",
    "\n",
    "### <font color='green'><b>Conclusion</b></font>\n",
    "    \n",
    "We tried to train models on objects with class imbalance. The results could be more satisfactory.\n",
    "Let's try to get rid of the class imbalance problem with several options, choose the best model for which we will adjust the hyperparameters and bring the f1-measure closer to indicators above 0.59\n",
    "    \n",
    "\n",
    "</div>"
   ]
  },
  {
   "cell_type": "markdown",
   "metadata": {},
   "source": [
    "## Avoiding Disbalance"
   ]
  },
  {
   "cell_type": "markdown",
   "metadata": {},
   "source": [
    "### Upsampling"
   ]
  },
  {
   "cell_type": "markdown",
   "metadata": {},
   "source": [
    "<div style=\"border-radius: 15px; box-shadow: 2px 2px 2px; border: 1px solid green; padding: 20px\">\n",
    "<b>Upsampling</b>\n",
    "    \n",
    "We balance the classes by increasing the number, and this technique is called upsampling. Now in our sample ≈80% of negative and ≈20% of positive answers. Align them by increasing the number of positive answers.\n",
    "The transformation takes place in several stages:\n",
    "    \n",
    "- Divide the training sample into objects by classes;\n",
    "- Copy several times objects with a positive answer;\n",
    "- Taking into account the received data, we will create a new training sample;\n",
    "- Shuffle the data.\n",
    "    \n",
    "</div>"
   ]
  },
  {
   "cell_type": "code",
   "execution_count": 16,
   "metadata": {},
   "outputs": [
    {
     "name": "stdout",
     "output_type": "stream",
     "text": [
      "(9588, 11)\n",
      "(9588,)\n"
     ]
    },
    {
     "data": {
      "text/html": [
       "<div>\n",
       "<style scoped>\n",
       "    .dataframe tbody tr th:only-of-type {\n",
       "        vertical-align: middle;\n",
       "    }\n",
       "\n",
       "    .dataframe tbody tr th {\n",
       "        vertical-align: top;\n",
       "    }\n",
       "\n",
       "    .dataframe thead th {\n",
       "        text-align: right;\n",
       "    }\n",
       "</style>\n",
       "<table border=\"1\" class=\"dataframe\">\n",
       "  <thead>\n",
       "    <tr style=\"text-align: right;\">\n",
       "      <th></th>\n",
       "      <th>exited</th>\n",
       "    </tr>\n",
       "  </thead>\n",
       "  <tbody>\n",
       "    <tr>\n",
       "      <th>0</th>\n",
       "      <td>0.501043</td>\n",
       "    </tr>\n",
       "    <tr>\n",
       "      <th>1</th>\n",
       "      <td>0.498957</td>\n",
       "    </tr>\n",
       "  </tbody>\n",
       "</table>\n",
       "</div>"
      ],
      "text/plain": [
       "     exited\n",
       "0  0.501043\n",
       "1  0.498957"
      ]
     },
     "metadata": {},
     "output_type": "display_data"
    }
   ],
   "source": [
    "def upsample(feature, target, repeat):\n",
    "    \n",
    "    # Divide the training sample into objects by classes\n",
    "    feature_zeros = feature[target == 0]\n",
    "    feature_ones = feature[target == 1]\n",
    "    target_zeros = target[target == 0]\n",
    "    target_ones = target[target == 1]\n",
    "    \n",
    "    # Let's copy objects with a positive answer several times and, taking into account the received data, create a new training set\n",
    "    feature_upsampled = pd.concat([feature_zeros] + [feature_ones] * repeat)\n",
    "    target_upsampled = pd.concat([target_zeros] + [target_ones] * repeat)\n",
    "    \n",
    "    # Let's shuffle the data\n",
    "    feature_upsampled = shuffle(feature_upsampled, random_state=12345)\n",
    "    target_upsampled = shuffle(target_upsampled, random_state=12345)\n",
    "    \n",
    "    return feature_upsampled, target_upsampled\n",
    "\n",
    "features_upsampled, target_upsampled = upsample(features_train, target_train, 4)\n",
    "\n",
    "print(features_upsampled.shape)\n",
    "print(target_upsampled.shape)\n",
    "\n",
    "display(target_upsampled.value_counts(normalize = 1).to_frame())"
   ]
  },
  {
   "cell_type": "markdown",
   "metadata": {},
   "source": [
    "<div style=\"border-radius: 15px; box-shadow: 2px 2px 2px; border: 1px solid green; padding: 20px\">\n",
    "<center><b>Logistic Regression</b></center>\n",
    "</div>"
   ]
  },
  {
   "cell_type": "code",
   "execution_count": 17,
   "metadata": {},
   "outputs": [
    {
     "data": {
      "image/png": "[encoded data removed]",
      "text/plain": [
       "<Figure size 432x288 with 2 Axes>"
      ]
     },
     "metadata": {
      "needs_background": "light"
     },
     "output_type": "display_data"
    },
    {
     "name": "stdout",
     "output_type": "stream",
     "text": [
      "Recall 0.6818181818181818\n",
      "Precision 0.3810160427807487\n",
      "F1-score 0.4888507718696398\n",
      "AUC-ROC 0.6945753361682564 \n",
      "\n"
     ]
    }
   ],
   "source": [
    "modeltrain(LogisticRegression(random_state=12345, solver='liblinear'), \n",
    "           features_upsampled, \n",
    "           target_upsampled ,\n",
    "           features_valid, \n",
    "           target_valid)"
   ]
  },
  {
   "cell_type": "markdown",
   "metadata": {},
   "source": [
    "<div style=\"border-radius: 15px; box-shadow: 2px 2px 2px; border: 1px solid green; padding: 20px\">\n",
    "<center><b>Decision Tree Classifier</b></center>\n",
    "</div>"
   ]
  },
  {
   "cell_type": "code",
   "execution_count": 18,
   "metadata": {},
   "outputs": [
    {
     "data": {
      "image/png": "[encoded data removed]",
      "text/plain": [
       "<Figure size 432x288 with 2 Axes>"
      ]
     },
     "metadata": {
      "needs_background": "light"
     },
     "output_type": "display_data"
    },
    {
     "name": "stdout",
     "output_type": "stream",
     "text": [
      "Recall 0.45933014354066987\n",
      "Precision 0.47642679900744417\n",
      "F1-score 0.46772228989037756\n",
      "AUC-ROC 0.6629773347286155 \n",
      "\n"
     ]
    }
   ],
   "source": [
    "modeltrain(DecisionTreeClassifier(random_state=12345), \n",
    "           features_upsampled, \n",
    "           target_upsampled ,\n",
    "           features_valid, \n",
    "           target_valid)"
   ]
  },
  {
   "cell_type": "markdown",
   "metadata": {},
   "source": [
    "<div style=\"border-radius: 15px; box-shadow: 2px 2px 2px; border: 1px solid green; padding: 20px\">\n",
    "<center><b>Random Forest Classifier</b></center>\n",
    "</div>"
   ]
  },
  {
   "cell_type": "code",
   "execution_count": 19,
   "metadata": {},
   "outputs": [
    {
     "data": {
      "image/png": "[encoded data removed]",
      "text/plain": [
       "<Figure size 432x288 with 2 Axes>"
      ]
     },
     "metadata": {
      "needs_background": "light"
     },
     "output_type": "display_data"
    },
    {
     "name": "stdout",
     "output_type": "stream",
     "text": [
      "Recall 0.5526315789473685\n",
      "Precision 0.6754385964912281\n",
      "F1-score 0.6078947368421053\n",
      "AUC-ROC 0.7412336150109787 \n",
      "\n"
     ]
    },
    {
     "data": {
      "application/vnd.jupyter.widget-view+json": {
       "model_id": "8bea5bc8e93c4c5aaaf20efb047c7eac",
       "version_major": 2,
       "version_minor": 0
      },
      "text/plain": [
       "0it [00:00, ?it/s]"
      ]
     },
     "metadata": {},
     "output_type": "display_data"
    },
    {
     "data": {
      "image/png": "[encoded data removed]",
      "text/plain": [
       "<Figure size 432x288 with 2 Axes>"
      ]
     },
     "metadata": {
      "needs_background": "light"
     },
     "output_type": "display_data"
    },
    {
     "name": "stdout",
     "output_type": "stream",
     "text": [
      "Recall 0.7033492822966507\n",
      "Precision 0.5675675675675675\n",
      "F1-score 0.6282051282051282\n",
      "AUC-ROC 0.7808781809713342 \n",
      "\n"
     ]
    },
    {
     "data": {
      "text/plain": [
       "RandomForestClassifier(max_depth=9, n_estimators=40, random_state=12345)"
      ]
     },
     "execution_count": 19,
     "metadata": {},
     "output_type": "execute_result"
    }
   ],
   "source": [
    "modeltrain(RandomForestClassifier(random_state=12345), \n",
    "           features_upsampled, \n",
    "           target_upsampled ,\n",
    "           features_valid, \n",
    "           target_valid)\n",
    "\n",
    "# With selection of hyperparameters\n",
    "max_depth = np.arange(3,12,2)\n",
    "n_estimators = np.arange(10,50,10)\n",
    "class_weight = ['balanced', 'balanced_subsample', None]\n",
    "best_model = None\n",
    "bestf1 = 0\n",
    "\n",
    "rfc_params = product(max_depth, n_estimators,class_weight)\n",
    "\n",
    "for i in tqdm(rfc_params):\n",
    "\n",
    "    model = RandomForestClassifier(random_state=12345, max_depth = i[0], n_estimators = i[1], class_weight = i[2])\n",
    "    model.fit(features_upsampled, target_upsampled)\n",
    "\n",
    "    prediction = model.predict(features_valid)\n",
    "    f1 = f1_score(target_valid, prediction)\n",
    "\n",
    "    if f1>bestf1:\n",
    "        bestf1=f1\n",
    "        best_model = model\n",
    "\n",
    "modeltrain(best_model, features_upsampled, target_upsampled, features_valid, target_valid)\n",
    "best_model"
   ]
  },
  {
   "cell_type": "markdown",
   "metadata": {},
   "source": [
    "<div style=\"border-radius: 15px; box-shadow: 2px 2px 2px; border: 1px solid green; padding: 20px\">\n",
    "\n",
    "### <font color='green'><b>Intermediate conclusion<b></font>\n",
    "\n",
    "After increasing the sample, our predictions improved. F1-measure increased. All models became much better at predicting a positive response. We wanted to achieve this when we initially set the task.\n",
    "    \n",
    "Best of all, the increase in the sample affected the random forest model.\n",
    "    \n",
    "- Completeness increased due to an increase in the number of correctly predicted positive answers by 23%;\n",
    "- Decreased accuracy since the prediction of negative answers decreased by 10%. But this prediction could also include clients who are still them today but potentially with a high degree of probability, can leave the bank;\n",
    "- f1-measure rose to 0.628, which is already above 0.59. But we will continue to try to improve our model;\n",
    "- AUC-ROC increased from 0.715 to 0.781.\n",
    "\n",
    "</div>"
   ]
  },
  {
   "cell_type": "markdown",
   "metadata": {},
   "source": [
    "\n",
    "\n",
    "### Downsampling\n",
    "    \n",
    "\n"
   ]
  },
  {
   "cell_type": "markdown",
   "metadata": {},
   "source": [
    "<div style=\"border-radius: 15px; box-shadow: 2px 2px 2px; border: 1px solid green; padding: 20px\">\n",
    "<b>Downsampling</b>\n",
    "    \n",
    "Instead of repeating objects of a smaller class, let's remove some of the objects of a larger class. Let's reduce the number of negative answers due to the downsampling function.\n",
    "    \n",
    "The transformation takes place in several stages:\n",
    "\n",
    "- Divide the training sample into objects by classes;\n",
    "- Randomly discard some of the objects with a negative answer;\n",
    "- Taking into account the received data, we will create a new training sample;\n",
    "- Shuffle the data.\n",
    "    \n",
    "</div>"
   ]
  },
  {
   "cell_type": "code",
   "execution_count": 20,
   "metadata": {},
   "outputs": [
    {
     "name": "stdout",
     "output_type": "stream",
     "text": [
      "(2397, 11)\n",
      "(2397,)\n"
     ]
    },
    {
     "data": {
      "text/html": [
       "<div>\n",
       "<style scoped>\n",
       "    .dataframe tbody tr th:only-of-type {\n",
       "        vertical-align: middle;\n",
       "    }\n",
       "\n",
       "    .dataframe tbody tr th {\n",
       "        vertical-align: top;\n",
       "    }\n",
       "\n",
       "    .dataframe thead th {\n",
       "        text-align: right;\n",
       "    }\n",
       "</style>\n",
       "<table border=\"1\" class=\"dataframe\">\n",
       "  <thead>\n",
       "    <tr style=\"text-align: right;\">\n",
       "      <th></th>\n",
       "      <th>exited</th>\n",
       "    </tr>\n",
       "  </thead>\n",
       "  <tbody>\n",
       "    <tr>\n",
       "      <th>0</th>\n",
       "      <td>0.501043</td>\n",
       "    </tr>\n",
       "    <tr>\n",
       "      <th>1</th>\n",
       "      <td>0.498957</td>\n",
       "    </tr>\n",
       "  </tbody>\n",
       "</table>\n",
       "</div>"
      ],
      "text/plain": [
       "     exited\n",
       "0  0.501043\n",
       "1  0.498957"
      ]
     },
     "metadata": {},
     "output_type": "display_data"
    }
   ],
   "source": [
    "def downsample(feature, target, fraction):\n",
    "    \n",
    "    # Divide the training sample into objects by classes\n",
    "    feature_zeros = feature[target == 0]\n",
    "    feature_ones = feature[target == 1]\n",
    "    target_zeros = target[target == 0]\n",
    "    target_ones = target[target == 1]\n",
    "    \n",
    "    # Randomly discard some of the objects with a negative answer\n",
    "    feature_sample = feature_zeros.sample(frac=fraction, random_state=12345)\n",
    "    target_sample = target_zeros.sample(frac=fraction, random_state=12345)\n",
    "    \n",
    "    # Based on the received data, we will create a new training sample\n",
    "    feature_downsampled = pd.concat([feature_sample] + [feature_ones])\n",
    "    target_downsampled = pd.concat([target_sample] + [target_ones])\n",
    "    \n",
    "    # Let's shuffle the data\n",
    "    feature_downsampled = shuffle(feature_downsampled, random_state=12345)\n",
    "    target_downsampled = shuffle(target_downsampled, random_state=12345)\n",
    "    \n",
    "    return feature_downsampled, target_downsampled\n",
    "\n",
    "features_downsampled, target_downsampled = downsample(features_train, target_train, 0.25)\n",
    "\n",
    "print(features_downsampled.shape)\n",
    "print(target_downsampled.shape)\n",
    "\n",
    "display(target_downsampled.value_counts(normalize = 1).to_frame())"
   ]
  },
  {
   "cell_type": "markdown",
   "metadata": {},
   "source": [
    "<div style=\"border-radius: 15px; box-shadow: 2px 2px 2px; border: 1px solid green; padding: 20px\">\n",
    "<center><b>Logistic Regression</b></center>\n",
    "</div>"
   ]
  },
  {
   "cell_type": "code",
   "execution_count": 21,
   "metadata": {},
   "outputs": [
    {
     "data": {
      "image/png": "[encoded data removed]",
      "text/plain": [
       "<Figure size 432x288 with 2 Axes>"
      ]
     },
     "metadata": {
      "needs_background": "light"
     },
     "output_type": "display_data"
    },
    {
     "name": "stdout",
     "output_type": "stream",
     "text": [
      "Recall 0.6746411483253588\n",
      "Precision 0.3795423956931359\n",
      "F1-score 0.48578811369509034\n",
      "AUC-ROC 0.6916189306734253 \n",
      "\n"
     ]
    }
   ],
   "source": [
    "modeltrain(LogisticRegression(random_state=12345, solver='liblinear'), \n",
    "           features_downsampled, \n",
    "           target_downsampled,\n",
    "           features_valid, \n",
    "           target_valid)"
   ]
  },
  {
   "cell_type": "markdown",
   "metadata": {},
   "source": [
    "<div style=\"border-radius: 15px; box-shadow: 2px 2px 2px; border: 1px solid green; padding: 20px\">\n",
    "<center><b>Decision Tree Classifier</b></center>\n",
    "</div>"
   ]
  },
  {
   "cell_type": "code",
   "execution_count": 22,
   "metadata": {},
   "outputs": [
    {
     "data": {
      "image/png": "[encoded data removed]",
      "text/plain": [
       "<Figure size 432x288 with 2 Axes>"
      ]
     },
     "metadata": {
      "needs_background": "light"
     },
     "output_type": "display_data"
    },
    {
     "name": "stdout",
     "output_type": "stream",
     "text": [
      "Recall 0.6985645933014354\n",
      "Precision 0.3787289234760052\n",
      "F1-score 0.49116904962153074\n",
      "AUC-ROC 0.6978916518972411 \n",
      "\n"
     ]
    }
   ],
   "source": [
    "modeltrain(DecisionTreeClassifier(random_state=12345), \n",
    "           features_downsampled, \n",
    "           target_downsampled,\n",
    "           features_valid, \n",
    "           target_valid)"
   ]
  },
  {
   "cell_type": "markdown",
   "metadata": {},
   "source": [
    "<div style=\"border-radius: 15px; box-shadow: 2px 2px 2px; border: 1px solid green; padding: 20px\">\n",
    "<center><b>Random Forest Classifier</b></center>\n",
    "</div>"
   ]
  },
  {
   "cell_type": "code",
   "execution_count": 23,
   "metadata": {},
   "outputs": [
    {
     "data": {
      "image/png": "[encoded data removed]",
      "text/plain": [
       "<Figure size 432x288 with 2 Axes>"
      ]
     },
     "metadata": {
      "needs_background": "light"
     },
     "output_type": "display_data"
    },
    {
     "name": "stdout",
     "output_type": "stream",
     "text": [
      "Recall 0.7057416267942583\n",
      "Precision 0.49663299663299665\n",
      "F1-score 0.5830039525691699\n",
      "AUC-ROC 0.7583701812858776 \n",
      "\n"
     ]
    },
    {
     "data": {
      "application/vnd.jupyter.widget-view+json": {
       "model_id": "217f7aa9a9714d0ea2d7d0f1e56f28ad",
       "version_major": 2,
       "version_minor": 0
      },
      "text/plain": [
       "0it [00:00, ?it/s]"
      ]
     },
     "metadata": {},
     "output_type": "display_data"
    },
    {
     "data": {
      "image/png": "[encoded data removed]",
      "text/plain": [
       "<Figure size 432x288 with 2 Axes>"
      ]
     },
     "metadata": {
      "needs_background": "light"
     },
     "output_type": "display_data"
    },
    {
     "name": "stdout",
     "output_type": "stream",
     "text": [
      "Recall 0.7559808612440191\n",
      "Precision 0.507223113964687\n",
      "F1-score 0.6071085494716619\n",
      "AUC-ROC 0.7809613535044369 \n",
      "\n"
     ]
    },
    {
     "data": {
      "text/plain": [
       "RandomForestClassifier(class_weight='balanced_subsample', max_depth=5,\n",
       "                       n_estimators=40, random_state=12345)"
      ]
     },
     "metadata": {},
     "output_type": "display_data"
    }
   ],
   "source": [
    "modeltrain(RandomForestClassifier(random_state=12345, n_estimators=10), \n",
    "           features_downsampled, \n",
    "           target_downsampled,\n",
    "           features_valid, \n",
    "           target_valid)\n",
    "\n",
    "# With selection of hyperparameters\n",
    "max_depth = np.arange(3,12,2)\n",
    "n_estimators = np.arange(10,50,10)\n",
    "best_model = None\n",
    "class_weight = ['balanced', 'balanced_subsample', None]\n",
    "bestf1 = 0\n",
    "\n",
    "rfc_params = product(max_depth, n_estimators,class_weight)\n",
    "\n",
    "for i in tqdm(rfc_params):\n",
    "\n",
    "    model = RandomForestClassifier(random_state=12345, max_depth = i[0], n_estimators = i[1], class_weight = i[2])\n",
    "    model.fit(features_downsampled, target_downsampled)\n",
    "\n",
    "    prediction = model.predict(features_valid)\n",
    "    f1 = f1_score(target_valid, prediction)\n",
    "\n",
    "    if f1>bestf1:\n",
    "        bestf1=f1\n",
    "        best_model = model\n",
    "\n",
    "modeltrain(best_model, features_downsampled, target_downsampled, features_valid, target_valid)\n",
    "display(best_model)"
   ]
  },
  {
   "cell_type": "markdown",
   "metadata": {},
   "source": [
    "<div style=\"border-radius: 15px; box-shadow: 2px 2px 2px; border: 1px solid green; padding: 20px\">\n",
    "\n",
    "\n",
    "### <font color='green'><b>Intermediate conclusion<b></font>\n",
    "\n",
    "After downsampling, our predictions improved. F1-measure increased. All models became better at predicting a positive response. We wanted to achieve this when we initially set the task.\n",
    "    \n",
    "Best of all, the increase in the sample affected the random forest model.\n",
    "    \n",
    "- Completeness has increased due to an increase in the number of correctly predicted positive answers by more than 25%. It's better than Upsampling;\n",
    "- Decreased accuracy since the prediction of negative answers decreased by 16%. This is worse than Upsampling;\n",
    "- f1-measure rose to 0.607, which is higher than the target of 0.59 but lower than that of Upsampling;\n",
    "- AUC-ROC increased from 0.715 to 0.781. This is lower than Upsampling.\n",
    "    \n",
    "<hr>\n",
    "    \n",
    "In this Project, we are guided by the value of the f1-measure, so we choose the Upsampling.\n",
    "Among all the models, Random Forest performed best on the validation sample. Therefore, we prefer a Random Forest Classifier, a representative with upsampling, and climb inside our model to improve it using hyperparameter enumeration.\n",
    "</div>"
   ]
  },
  {
   "cell_type": "markdown",
   "metadata": {},
   "source": [
    "### Model improvement"
   ]
  },
  {
   "attachments": {
    "image.png": {
     "image/png": "[encoded data removed]"
    }
   },
   "cell_type": "markdown",
   "metadata": {},
   "source": [
    "<div style=\"border-radius: 15px; box-shadow: 2px 2px 2px; border: 1px solid green; padding: 20px\">\n",
    "\n",
    "\n",
    "Let's make a series of nested loops in which we will iterate over all the hyperparameters of our model. Let's take the following parameters:\n",
    "- max_depth - maximum tree depth;\n",
    "- n_estimators - number of trees;\n",
    "- min_samples_split - minimum number of objects to split an internal node;\n",
    "- class_weight - weight adjustment.\n",
    "\n",
    "At the end of the loop, we record all the hyperparameters that gave us an f1 value greater than 0.59 and also recorded the f1-measure and auc-roc values on the validation set for each successful model.\n",
    "    \n",
    "    \n",
    "<hr>\n",
    "    \n",
    "To create a nested loop, we use the product function to perform the Cartesian product of all our hyperparameters without writing code from four \"for\" loops. An example of a Cartesian product is shown below in the picture.\n",
    "    \n",
    "![image.png](attachment:image.png)\n",
    "    \n",
    "Of course, we found a bad picture. Dogs are not allowed to eat fish and tubular bones.\n",
    "</div>"
   ]
  },
  {
   "cell_type": "code",
   "execution_count": 24,
   "metadata": {},
   "outputs": [
    {
     "data": {
      "application/vnd.jupyter.widget-view+json": {
       "model_id": "e8cc077529484359af68a25621a47c5b",
       "version_major": 2,
       "version_minor": 0
      },
      "text/plain": [
       "0it [00:00, ?it/s]"
      ]
     },
     "metadata": {},
     "output_type": "display_data"
    },
    {
     "data": {
      "text/html": [
       "<div>\n",
       "<style scoped>\n",
       "    .dataframe tbody tr th:only-of-type {\n",
       "        vertical-align: middle;\n",
       "    }\n",
       "\n",
       "    .dataframe tbody tr th {\n",
       "        vertical-align: top;\n",
       "    }\n",
       "\n",
       "    .dataframe thead th {\n",
       "        text-align: right;\n",
       "    }\n",
       "</style>\n",
       "<table border=\"1\" class=\"dataframe\">\n",
       "  <thead>\n",
       "    <tr style=\"text-align: right;\">\n",
       "      <th></th>\n",
       "      <th>max_depth</th>\n",
       "      <th>n_estimators</th>\n",
       "      <th>class_weight</th>\n",
       "      <th>f1</th>\n",
       "      <th>auc_roc</th>\n",
       "    </tr>\n",
       "  </thead>\n",
       "  <tbody>\n",
       "    <tr>\n",
       "      <th>0</th>\n",
       "      <td>9.0</td>\n",
       "      <td>60.0</td>\n",
       "      <td>NaN</td>\n",
       "      <td>0.630458</td>\n",
       "      <td>0.782954</td>\n",
       "    </tr>\n",
       "    <tr>\n",
       "      <th>1</th>\n",
       "      <td>9.0</td>\n",
       "      <td>70.0</td>\n",
       "      <td>NaN</td>\n",
       "      <td>0.628328</td>\n",
       "      <td>0.781442</td>\n",
       "    </tr>\n",
       "    <tr>\n",
       "      <th>2</th>\n",
       "      <td>9.0</td>\n",
       "      <td>40.0</td>\n",
       "      <td>NaN</td>\n",
       "      <td>0.628205</td>\n",
       "      <td>0.780878</td>\n",
       "    </tr>\n",
       "    <tr>\n",
       "      <th>3</th>\n",
       "      <td>9.0</td>\n",
       "      <td>90.0</td>\n",
       "      <td>NaN</td>\n",
       "      <td>0.626709</td>\n",
       "      <td>0.782186</td>\n",
       "    </tr>\n",
       "    <tr>\n",
       "      <th>4</th>\n",
       "      <td>9</td>\n",
       "      <td>90</td>\n",
       "      <td>balanced</td>\n",
       "      <td>0.626455</td>\n",
       "      <td>0.781058</td>\n",
       "    </tr>\n",
       "  </tbody>\n",
       "</table>\n",
       "</div>"
      ],
      "text/plain": [
       "  max_depth n_estimators class_weight        f1   auc_roc\n",
       "0       9.0         60.0          NaN  0.630458  0.782954\n",
       "1       9.0         70.0          NaN  0.628328  0.781442\n",
       "2       9.0         40.0          NaN  0.628205  0.780878\n",
       "3       9.0         90.0          NaN  0.626709  0.782186\n",
       "4         9           90     balanced  0.626455  0.781058"
      ]
     },
     "metadata": {},
     "output_type": "display_data"
    },
    {
     "name": "stdout",
     "output_type": "stream",
     "text": [
      "CPU times: user 44.3 s, sys: 465 ms, total: 44.8 s\n",
      "Wall time: 45 s\n"
     ]
    }
   ],
   "source": [
    "%%time\n",
    "# The value of the f1-measure we are aiming for\n",
    "best_f1 = 0.59\n",
    "\n",
    "# Variants of hyperparameters from which we will choose the best\n",
    "max_depth = np.arange(3,12,2)\n",
    "n_estimators = np.arange(10,91,10)\n",
    "class_weight = ['balanced', 'balanced_subsample', None]\n",
    "\n",
    "# A generator that produces the Cartesian product for the elements of the specified objects.\n",
    "rfc_params = product(max_depth, n_estimators, class_weight)\n",
    "\n",
    "# Here we will write good hyperparameters and metrics\n",
    "max_depth_table = []\n",
    "n_estimators_table = []\n",
    "class_weight_table = []\n",
    "f1_table = []\n",
    "auc_roc_table = []\n",
    "\n",
    "# Model with enumeration of hyperparameters\n",
    "for i in tqdm(rfc_params):\n",
    "    # Setting hyperparameters\n",
    "    model = RandomForestClassifier(random_state=12345, n_jobs=-1, max_depth = i[0], n_estimators = i[1], \n",
    "                                   class_weight = i[2])\n",
    "    # Train\n",
    "    model.fit(features_upsampled, target_upsampled) \n",
    "    predicted_valid = model.predict(features_valid)\n",
    "    # Metrics\n",
    "    f1 = f1_score(target_valid, predicted_valid)\n",
    "    auc_roc = roc_auc_score(target_valid, predicted_valid)\n",
    "    # Condition\n",
    "    if f1 >= best_f1:\n",
    "        # Collect best hyperparametrs\n",
    "        max_depth_table.append(i[0])\n",
    "        n_estimators_table.append(i[1])\n",
    "        class_weight_table.append(i[2])\n",
    "\n",
    "        f1_table.append(f1)\n",
    "        auc_roc_table.append(auc_roc)\n",
    "        \n",
    "# Collect all values in one table, rename and sort\n",
    "param_table = pd.DataFrame(data = (max_depth_table, n_estimators_table,\n",
    "                                   class_weight_table, f1_table, auc_roc_table)).T\n",
    "param_table.columns = ('max_depth', 'n_estimators', 'class_weight', 'f1', 'auc_roc')\n",
    "param_table = param_table.sort_values('f1', ascending = False).reset_index(drop=True)\n",
    "\n",
    "display(param_table.head())"
   ]
  },
  {
   "cell_type": "code",
   "execution_count": 25,
   "metadata": {},
   "outputs": [
    {
     "name": "stdout",
     "output_type": "stream",
     "text": [
      "Train our best model. We get the following result on the validation set\n",
      "\n"
     ]
    },
    {
     "data": {
      "image/png": "[encoded data removed]",
      "text/plain": [
       "<Figure size 432x288 with 2 Axes>"
      ]
     },
     "metadata": {
      "needs_background": "light"
     },
     "output_type": "display_data"
    },
    {
     "name": "stdout",
     "output_type": "stream",
     "text": [
      "Recall 0.7081339712918661\n",
      "Precision 0.5681381957773513\n",
      "F1-score 0.630457933972311\n",
      "AUC-ROC 0.7829544698431518 \n",
      "\n",
      "\n",
      " Check on the model that predicts the most common class \n",
      "\n",
      "Dummy Classifier\n"
     ]
    },
    {
     "data": {
      "image/png": "[encoded data removed]",
      "text/plain": [
       "<Figure size 432x288 with 2 Axes>"
      ]
     },
     "metadata": {
      "needs_background": "light"
     },
     "output_type": "display_data"
    },
    {
     "name": "stdout",
     "output_type": "stream",
     "text": [
      "Recall 1.0\n",
      "Precision 0.209\n",
      "F1-score 0.3457402812241522\n",
      "AUC-ROC 0.5 \n",
      "\n"
     ]
    }
   ],
   "source": [
    "best_model = RandomForestClassifier(random_state=12345, n_jobs = -1, \n",
    "                                    max_depth = 9,\n",
    "                                    n_estimators = 60, \n",
    "                                    class_weight = None)\n",
    "\n",
    "\n",
    "print('Train our best model. We get the following result on the validation set\\n')\n",
    "#modeltrain(best_model,features_upsampled,target_upsampled,features_valid, target_valid)\n",
    "\n",
    "\n",
    "modeltrain(best_model, \n",
    "           features_upsampled, \n",
    "           target_upsampled,\n",
    "           features_valid, \n",
    "           target_valid)\n",
    "\n",
    "print('\\n Check on the model that predicts the most common class \\n')\n",
    "print('Dummy Classifier')\n",
    "modeltrain(DummyClassifier(strategy=\"constant\",constant = 1, random_state=12345),\n",
    "           features_upsampled,\n",
    "           target_upsampled,\n",
    "           features_valid, \n",
    "           target_valid)"
   ]
  },
  {
   "cell_type": "markdown",
   "metadata": {},
   "source": [
    "<div style=\"border-radius: 15px; box-shadow: 2px 2px 2px; border: 1px solid green; padding: 20px\">\n",
    "\n",
    "\n",
    "### <font color='green'><b>Intermediate conclusion<b></font>\n",
    "\n",
    "We have selected satisfying parameters for our model to give an f1-measure value above 0.59.\n",
    "    \n",
    "It remains to write the final function for evaluating the metrics of the model and displaying the ROC curve on the screen to ensure that the model is better than a random one.\n",
    "\n",
    "</div>"
   ]
  },
  {
   "cell_type": "code",
   "execution_count": 26,
   "metadata": {},
   "outputs": [],
   "source": [
    "def final_test(final_model, \n",
    "               features_upsampled,\n",
    "               target_upsampled,\n",
    "               features_test, \n",
    "               target_test):\n",
    "    # Train our final model, derive metrics and confusion matrix\n",
    "    modeltrain(final_model, features_upsampled, target_upsampled, features_test, target_test)\n",
    "    # Let's build a ROC curve\n",
    "    final_model.fit(features_upsampled, target_upsampled)\n",
    "    probabilities_one_test = final_model.predict_proba(features_test)[:, 1]\n",
    "    probabilities_test = final_model.predict_proba(features_test)\n",
    "    precision, recall, thresholds = precision_recall_curve(target_test, probabilities_test[:, 1])\n",
    "    fpr, tpr, thresholds = roc_curve(target_test, probabilities_one_test) \n",
    "\n",
    "    plt.figure(figsize = [10,10])\n",
    "    plt.plot(fpr, tpr)\n",
    "    plt.plot([0, 1], [0, 1], linestyle='dashed')\n",
    "    plt.xlim([0.0, 1.0])\n",
    "    plt.ylim([0.0, 1.0])\n",
    "    plt.xlabel('False Positive Rate')\n",
    "    plt.ylabel('True Positive Rate')\n",
    "    plt.title('ROC-curve')\n",
    "    plt.show()"
   ]
  },
  {
   "cell_type": "code",
   "execution_count": 27,
   "metadata": {},
   "outputs": [
    {
     "data": {
      "image/png": "[encoded data removed]",
      "text/plain": [
       "<Figure size 432x288 with 2 Axes>"
      ]
     },
     "metadata": {
      "needs_background": "light"
     },
     "output_type": "display_data"
    },
    {
     "name": "stdout",
     "output_type": "stream",
     "text": [
      "Recall 0.7081339712918661\n",
      "Precision 0.5681381957773513\n",
      "F1-score 0.630457933972311\n",
      "AUC-ROC 0.7829544698431518 \n",
      "\n"
     ]
    },
    {
     "data": {
      "image/png": "[encoded data removed]",
      "text/plain": [
       "<Figure size 720x720 with 1 Axes>"
      ]
     },
     "metadata": {
      "needs_background": "light"
     },
     "output_type": "display_data"
    },
    {
     "name": "stdout",
     "output_type": "stream",
     "text": [
      "CPU times: user 1.24 s, sys: 94.9 ms, total: 1.34 s\n",
      "Wall time: 1.35 s\n"
     ]
    }
   ],
   "source": [
    "%%time\n",
    "final_test(best_model,\n",
    "           features_upsampled,\n",
    "           target_upsampled,\n",
    "           features_valid, \n",
    "           target_valid)"
   ]
  },
  {
   "cell_type": "markdown",
   "metadata": {},
   "source": [
    "<div style=\"border-radius: 15px; box-shadow: 2px 2px 2px; border: 1px solid green; padding: 20px\">\n",
    "\n",
    "### Conclusion\n",
    "    \n",
    "    \n",
    "1. There needed to be more in the initial data. In the future, it is necessary to understand the nature of the occurrence of such gaps, fill them in and train the model again.\n",
    "\n",
    "2. In the course of data preparation, numerical ones replaced categorical features, all numerical features were scaled, redundant data were removed, and data types were replaced\n",
    "    \n",
    "3. The problem of class imbalance was solved by increasing the number of samples with a positive result by four times so that the proportion of these classes for the training sample was: 1 - 0.506972, 0 - 0.493028\n",
    "    \n",
    "4. After fighting the imbalance, we fitted hyperparameters using the Cartesian product. The Random Forest Classifier was the most successful model at all stages of our study.\n",
    "    \n",
    "5. After the selection of hyperparameters, the following model was chosen:\n",
    "\n",
    "</div>"
   ]
  },
  {
   "cell_type": "code",
   "execution_count": 28,
   "metadata": {},
   "outputs": [
    {
     "data": {
      "text/plain": [
       "RandomForestClassifier(max_depth=9, n_estimators=60, n_jobs=-1,\n",
       "                       random_state=12345)"
      ]
     },
     "execution_count": 28,
     "metadata": {},
     "output_type": "execute_result"
    }
   ],
   "source": [
    "best_model"
   ]
  },
  {
   "cell_type": "markdown",
   "metadata": {},
   "source": [
    "<div style=\"border-radius: 15px; box-shadow: 2px 2px 2px; border: 1px solid green; padding: 20px\">\n",
    "\n",
    "5. Model results:\n",
    "    \n",
    "        \n",
    "- Recall 0.708;\n",
    "- Precision 0.568;\n",
    "- F1-score 0.631;\n",
    "- AUC-ROC 0.783.\n",
    "6. The final model was tested for adequacy compared to the constant model. This has been tested in 2 ways:\n",
    "    \n",
    "- Compared to DummyClassifier, a model that produced a single class value, which is most often found in the training sample\n",
    "- Compared to the ROC curve, which was located above the line given by the random classifier.\n",
    "The proportion of false positive responses was plotted horizontally, and the ratio of true positive responses was plotted vertically. After sorting through the values of the threshold of our model and drawing a curve, we built a ROC-curve or an error curve. For a model that always responds randomly, the ROC curve looks like a straight line going from the bottom left to the top right. The higher the graph, the better the quality of the model. The area under this curve is exactly equal to our AUC-ROC metric.\n",
    "    \n",
    "7. Our model has yet to be retrained and is ready for a test set.\n",
    "\n",
    "\n",
    "</div>\n",
    "\n",
    "![](https://i.gifer.com/5fh.gif) "
   ]
  },
  {
   "cell_type": "markdown",
   "metadata": {},
   "source": [
    "## Test Model"
   ]
  },
  {
   "cell_type": "code",
   "execution_count": 29,
   "metadata": {},
   "outputs": [
    {
     "data": {
      "image/png": "[encoded data removed]",
      "text/plain": [
       "<Figure size 432x288 with 2 Axes>"
      ]
     },
     "metadata": {
      "needs_background": "light"
     },
     "output_type": "display_data"
    },
    {
     "name": "stdout",
     "output_type": "stream",
     "text": [
      "Recall 0.6926713947990544\n",
      "Precision 0.5425925925925926\n",
      "F1-score 0.608515057113188\n",
      "AUC-ROC 0.768022444387479 \n",
      "\n"
     ]
    },
    {
     "data": {
      "image/png": "[encoded data removed]",
      "text/plain": [
       "<Figure size 720x720 with 1 Axes>"
      ]
     },
     "metadata": {
      "needs_background": "light"
     },
     "output_type": "display_data"
    },
    {
     "name": "stdout",
     "output_type": "stream",
     "text": [
      "CPU times: user 1.2 s, sys: 82 ms, total: 1.28 s\n",
      "Wall time: 1.29 s\n"
     ]
    }
   ],
   "source": [
    "%%time\n",
    "final_test(best_model,\n",
    "           features_upsampled,\n",
    "           target_upsampled,\n",
    "           features_test, \n",
    "           target_test)   "
   ]
  },
  {
   "cell_type": "markdown",
   "metadata": {},
   "source": [
    "<div style=\"border-radius: 15px; box-shadow: 2px 2px 2px; border: 1px solid green; padding: 20px\">\n",
    "\n",
    "\n",
    "### <font color='green'><b>Total<b></font>\n",
    "\n",
    "Our model on the test sample produces an excellent result:\n",
    "    \n",
    "      \n",
    "- Recall 0.693;\n",
    "- Precision 0.543;\n",
    "- F1-score 0.609;\n",
    "- AUC-ROC 0.768.\n",
    "    \n",
    "The final test gave the f1 metric above the required value of 0.59 and amounted to 0.609. The area under the ROC curve is high at 0.768.\n",
    "    \n",
    "Our model will help maintain the loyalty of 69 customers out of a potential hundred who want to close their accounts. Our model predicts more than half of customer churn, which means that the marketing costs of retaining such customers will be well-spent. You can safely run the model to work. But it is also worth thinking about improving the model by collecting additional information.\n",
    "<hr>\n",
    "To improve the model, you can take additional static or dynamic data. E.g.,\n",
    "    \n",
    "- Does the client have deposits (static);\n",
    "- Does the client have a salary card (static);\n",
    "- Whether funds are deducted from the account for subscribing to third-party services (static) and what kind of services they are;\n",
    "- What cashback he receives monthly (dynamic);\n",
    "- As often happens on business trips (dynamic).\n",
    " \n",
    "    \n",
    "Based on this data, offering different marketing approaches to each client is possible. Select suitable cashback categories for a month, provide new banking products, and advertise your products in services with subscriptions for customers who close their bank accounts.\n",
    "Customers leaving depends on more than just the fact that he is not satisfied with the products offered. The marketing campaign of other companies also influences his departure.   \n",
    "\n",
    "</div>\n",
    "    \n",
    "![](https://i.gifer.com/GDRf.gif)"
   ]
  }
 ],
 "metadata": {
  "ExecuteTimeLog": [
   {
    "duration": 1429,
    "start_time": "2021-11-15T17:43:10.497Z"
   },
   {
    "duration": 2091,
    "start_time": "2021-11-15T17:43:13.179Z"
   },
   {
    "duration": 53,
    "start_time": "2021-11-15T17:43:31.869Z"
   },
   {
    "duration": 112,
    "start_time": "2021-11-15T17:44:12.884Z"
   },
   {
    "duration": 6,
    "start_time": "2021-11-15T17:45:14.341Z"
   },
   {
    "duration": 110,
    "start_time": "2021-11-15T17:45:16.034Z"
   },
   {
    "duration": 97,
    "start_time": "2021-11-15T17:46:56.872Z"
   },
   {
    "duration": 55,
    "start_time": "2021-11-15T17:47:02.878Z"
   },
   {
    "duration": 111,
    "start_time": "2021-11-15T17:47:48.178Z"
   },
   {
    "duration": 8,
    "start_time": "2021-11-15T17:47:52.124Z"
   },
   {
    "duration": 111,
    "start_time": "2021-11-15T17:48:25.818Z"
   },
   {
    "duration": 602,
    "start_time": "2021-11-15T17:48:37.373Z"
   },
   {
    "duration": 103,
    "start_time": "2021-11-15T17:48:46.118Z"
   },
   {
    "duration": 122,
    "start_time": "2021-11-15T17:48:53.854Z"
   },
   {
    "duration": 111,
    "start_time": "2021-11-15T17:49:13.108Z"
   },
   {
    "duration": 6,
    "start_time": "2021-11-15T17:51:02.728Z"
   },
   {
    "duration": 21,
    "start_time": "2021-11-15T17:51:12.171Z"
   },
   {
    "duration": 66,
    "start_time": "2021-11-15T17:51:18.474Z"
   },
   {
    "duration": 13,
    "start_time": "2021-11-15T17:51:27.794Z"
   },
   {
    "duration": 11,
    "start_time": "2021-11-15T17:51:55.578Z"
   },
   {
    "duration": 14,
    "start_time": "2021-11-15T17:53:52.199Z"
   },
   {
    "duration": 19,
    "start_time": "2021-11-15T17:54:46.600Z"
   },
   {
    "duration": 10,
    "start_time": "2021-11-15T17:56:20.595Z"
   },
   {
    "duration": 270,
    "start_time": "2021-11-15T17:58:17.415Z"
   },
   {
    "duration": 294,
    "start_time": "2021-11-15T17:58:20.931Z"
   },
   {
    "duration": 10,
    "start_time": "2021-11-15T17:59:04.133Z"
   },
   {
    "duration": 11,
    "start_time": "2021-11-15T17:59:13.398Z"
   },
   {
    "duration": 258,
    "start_time": "2021-11-15T17:59:22.204Z"
   },
   {
    "duration": 276,
    "start_time": "2021-11-15T17:59:40.694Z"
   },
   {
    "duration": 11,
    "start_time": "2021-11-15T17:59:54.001Z"
   },
   {
    "duration": 4634,
    "start_time": "2021-11-15T18:05:22.770Z"
   },
   {
    "duration": 26,
    "start_time": "2021-11-15T18:10:52.938Z"
   },
   {
    "duration": 6704,
    "start_time": "2021-11-15T18:11:30.087Z"
   },
   {
    "duration": 259,
    "start_time": "2021-11-15T18:12:12.673Z"
   },
   {
    "duration": 14,
    "start_time": "2021-11-15T18:12:23.395Z"
   },
   {
    "duration": 836,
    "start_time": "2021-11-15T18:12:54.298Z"
   },
   {
    "duration": 87,
    "start_time": "2021-11-15T18:13:19.689Z"
   },
   {
    "duration": 86,
    "start_time": "2021-11-15T18:13:29.634Z"
   },
   {
    "duration": 13,
    "start_time": "2021-11-15T18:13:33.602Z"
   },
   {
    "duration": 13,
    "start_time": "2021-11-15T18:14:32.757Z"
   },
   {
    "duration": 296,
    "start_time": "2021-11-15T18:16:28.030Z"
   },
   {
    "duration": 49,
    "start_time": "2021-11-15T18:16:32.967Z"
   },
   {
    "duration": 20,
    "start_time": "2021-11-15T18:18:36.243Z"
   },
   {
    "duration": 6,
    "start_time": "2021-11-15T18:20:00.733Z"
   },
   {
    "duration": 4819,
    "start_time": "2021-11-15T18:20:00.742Z"
   },
   {
    "duration": 7,
    "start_time": "2021-11-15T18:20:08.821Z"
   },
   {
    "duration": 4964,
    "start_time": "2021-11-15T18:20:11.055Z"
   },
   {
    "duration": 25,
    "start_time": "2021-11-15T18:20:20.324Z"
   },
   {
    "duration": 260,
    "start_time": "2021-11-15T18:20:27.592Z"
   },
   {
    "duration": 43,
    "start_time": "2021-11-15T18:20:47.370Z"
   },
   {
    "duration": 18,
    "start_time": "2021-11-15T18:20:51.546Z"
   },
   {
    "duration": 19,
    "start_time": "2021-11-15T18:21:02.820Z"
   },
   {
    "duration": 14,
    "start_time": "2021-11-15T18:21:52.756Z"
   },
   {
    "duration": 265,
    "start_time": "2021-11-15T18:24:08.556Z"
   },
   {
    "duration": 6,
    "start_time": "2021-11-15T18:24:14.570Z"
   },
   {
    "duration": 4994,
    "start_time": "2021-11-15T18:24:14.579Z"
   },
   {
    "duration": 24,
    "start_time": "2021-11-15T18:24:19.577Z"
   },
   {
    "duration": 77,
    "start_time": "2021-11-15T18:24:19.603Z"
   },
   {
    "duration": 95,
    "start_time": "2021-11-15T18:25:10.733Z"
   },
   {
    "duration": 103,
    "start_time": "2021-11-15T18:25:29.978Z"
   },
   {
    "duration": 290,
    "start_time": "2021-11-15T18:25:37.042Z"
   },
   {
    "duration": 277,
    "start_time": "2021-11-15T18:25:49.563Z"
   },
   {
    "duration": 7,
    "start_time": "2021-11-15T18:26:10.638Z"
   },
   {
    "duration": 4583,
    "start_time": "2021-11-15T18:26:10.647Z"
   },
   {
    "duration": 288,
    "start_time": "2021-11-15T18:26:15.233Z"
   },
   {
    "duration": 377,
    "start_time": "2021-11-15T18:27:16.473Z"
   },
   {
    "duration": 10658,
    "start_time": "2021-11-15T18:27:35.484Z"
   },
   {
    "duration": 276,
    "start_time": "2021-11-15T18:28:15.440Z"
   },
   {
    "duration": 289,
    "start_time": "2021-11-15T18:28:55.509Z"
   },
   {
    "duration": 280,
    "start_time": "2021-11-15T18:29:02.722Z"
   },
   {
    "duration": 53,
    "start_time": "2021-11-15T18:29:12.184Z"
   },
   {
    "duration": 265,
    "start_time": "2021-11-15T18:29:21.696Z"
   },
   {
    "duration": 283,
    "start_time": "2021-11-15T18:29:47.433Z"
   },
   {
    "duration": 7,
    "start_time": "2021-11-15T18:29:51.107Z"
   },
   {
    "duration": 4626,
    "start_time": "2021-11-15T18:29:51.117Z"
   },
   {
    "duration": 66,
    "start_time": "2021-11-15T18:29:55.746Z"
   },
   {
    "duration": 280,
    "start_time": "2021-11-15T18:32:51.103Z"
   },
   {
    "duration": 6,
    "start_time": "2021-11-15T18:33:15.930Z"
   },
   {
    "duration": 4633,
    "start_time": "2021-11-15T18:33:15.939Z"
   },
   {
    "duration": 36,
    "start_time": "2021-11-15T18:33:20.578Z"
   },
   {
    "duration": 7,
    "start_time": "2021-11-15T18:34:07.882Z"
   },
   {
    "duration": 55,
    "start_time": "2021-11-15T18:34:09.452Z"
   },
   {
    "duration": 54,
    "start_time": "2021-11-15T18:34:18.961Z"
   },
   {
    "duration": 122,
    "start_time": "2021-11-15T18:34:44.445Z"
   },
   {
    "duration": 118,
    "start_time": "2021-11-15T18:34:53.186Z"
   },
   {
    "duration": 119,
    "start_time": "2021-11-15T18:35:00.672Z"
   },
   {
    "duration": 131,
    "start_time": "2021-11-15T18:35:09.353Z"
   },
   {
    "duration": 130,
    "start_time": "2021-11-15T18:35:27.009Z"
   },
   {
    "duration": 124,
    "start_time": "2021-11-15T18:35:34.174Z"
   },
   {
    "duration": 4738,
    "start_time": "2021-11-15T18:35:45.278Z"
   },
   {
    "duration": 4863,
    "start_time": "2021-11-15T18:36:05.054Z"
   },
   {
    "duration": 4609,
    "start_time": "2021-11-15T18:36:53.974Z"
   },
   {
    "duration": 10,
    "start_time": "2021-11-15T18:37:15.323Z"
   },
   {
    "duration": 51,
    "start_time": "2021-11-15T18:37:25.792Z"
   },
   {
    "duration": 12,
    "start_time": "2021-11-15T18:37:29.344Z"
   },
   {
    "duration": 88,
    "start_time": "2021-11-15T18:39:25.773Z"
   },
   {
    "duration": 21,
    "start_time": "2021-11-15T19:01:35.348Z"
   },
   {
    "duration": 21,
    "start_time": "2021-11-15T19:01:50.713Z"
   },
   {
    "duration": 21,
    "start_time": "2021-11-15T19:02:20.608Z"
   },
   {
    "duration": 18,
    "start_time": "2021-11-15T19:03:37.580Z"
   },
   {
    "duration": 17,
    "start_time": "2021-11-15T19:03:43.313Z"
   },
   {
    "duration": 16,
    "start_time": "2021-11-15T19:03:50.036Z"
   },
   {
    "duration": 16,
    "start_time": "2021-11-15T19:04:00.812Z"
   },
   {
    "duration": 277,
    "start_time": "2021-11-15T19:07:21.429Z"
   },
   {
    "duration": 1175,
    "start_time": "2021-11-15T19:07:29.258Z"
   },
   {
    "duration": 23,
    "start_time": "2021-11-15T19:07:38.721Z"
   },
   {
    "duration": 33,
    "start_time": "2021-11-15T19:09:47.183Z"
   },
   {
    "duration": 24,
    "start_time": "2021-11-15T19:10:00.642Z"
   },
   {
    "duration": 32,
    "start_time": "2021-11-15T19:10:10.129Z"
   },
   {
    "duration": 23,
    "start_time": "2021-11-15T19:11:29.282Z"
   },
   {
    "duration": 7,
    "start_time": "2021-11-15T19:11:48.724Z"
   },
   {
    "duration": 5101,
    "start_time": "2021-11-15T19:11:48.735Z"
   },
   {
    "duration": 26,
    "start_time": "2021-11-15T19:11:53.841Z"
   },
   {
    "duration": 66,
    "start_time": "2021-11-15T19:11:53.870Z"
   },
   {
    "duration": 54,
    "start_time": "2021-11-15T19:11:53.938Z"
   },
   {
    "duration": 21,
    "start_time": "2021-11-15T19:13:08.639Z"
   },
   {
    "duration": 6,
    "start_time": "2021-11-15T19:13:16.721Z"
   },
   {
    "duration": 4674,
    "start_time": "2021-11-15T19:13:16.730Z"
   },
   {
    "duration": 10,
    "start_time": "2021-11-15T19:13:21.407Z"
   },
   {
    "duration": 77,
    "start_time": "2021-11-15T19:13:21.420Z"
   },
   {
    "duration": 15,
    "start_time": "2021-11-15T19:13:21.499Z"
   },
   {
    "duration": 18,
    "start_time": "2021-11-15T19:13:21.516Z"
   },
   {
    "duration": 31,
    "start_time": "2021-11-15T19:13:23.572Z"
   },
   {
    "duration": 30,
    "start_time": "2021-11-15T19:13:38.996Z"
   },
   {
    "duration": 23,
    "start_time": "2021-11-15T19:13:42.359Z"
   },
   {
    "duration": 32,
    "start_time": "2021-11-15T19:16:12.687Z"
   },
   {
    "duration": 46,
    "start_time": "2021-11-15T19:16:24.116Z"
   },
   {
    "duration": 46,
    "start_time": "2021-11-15T19:16:59.154Z"
   },
   {
    "duration": 65,
    "start_time": "2021-11-15T19:17:15.886Z"
   },
   {
    "duration": 83,
    "start_time": "2021-11-15T19:17:37.415Z"
   },
   {
    "duration": 69,
    "start_time": "2021-11-15T19:17:55.514Z"
   },
   {
    "duration": 102,
    "start_time": "2021-11-15T19:18:32.540Z"
   },
   {
    "duration": 62,
    "start_time": "2021-11-15T19:18:37.604Z"
   },
   {
    "duration": 30,
    "start_time": "2021-11-15T19:19:21.916Z"
   },
   {
    "duration": 43,
    "start_time": "2021-11-15T19:22:27.754Z"
   },
   {
    "duration": 92,
    "start_time": "2021-11-15T19:23:06.376Z"
   },
   {
    "duration": 104,
    "start_time": "2021-11-15T19:27:35.468Z"
   },
   {
    "duration": 286,
    "start_time": "2021-11-15T19:27:57.481Z"
   },
   {
    "duration": 344,
    "start_time": "2021-11-15T19:28:18.522Z"
   },
   {
    "duration": 115,
    "start_time": "2021-11-15T19:29:00.425Z"
   },
   {
    "duration": 227,
    "start_time": "2021-11-15T19:29:10.856Z"
   },
   {
    "duration": 292,
    "start_time": "2021-11-15T19:30:08.698Z"
   },
   {
    "duration": 69,
    "start_time": "2021-11-15T19:30:37.305Z"
   },
   {
    "duration": 5114,
    "start_time": "2021-11-15T19:30:43.627Z"
   },
   {
    "duration": 4026,
    "start_time": "2021-11-15T19:31:28.931Z"
   },
   {
    "duration": 87,
    "start_time": "2021-11-15T19:41:55.301Z"
   },
   {
    "duration": 103,
    "start_time": "2021-11-15T19:42:24.771Z"
   },
   {
    "duration": 52,
    "start_time": "2021-11-15T19:42:32.002Z"
   },
   {
    "duration": 98,
    "start_time": "2021-11-15T19:42:40.304Z"
   },
   {
    "duration": 13,
    "start_time": "2021-11-15T19:43:41.050Z"
   },
   {
    "duration": 99,
    "start_time": "2021-11-15T19:43:55.915Z"
   },
   {
    "duration": 12,
    "start_time": "2021-11-15T19:43:58.431Z"
   },
   {
    "duration": 91,
    "start_time": "2021-11-15T19:44:32.534Z"
   },
   {
    "duration": 287,
    "start_time": "2021-11-15T19:44:34.906Z"
   },
   {
    "duration": 9,
    "start_time": "2021-11-15T19:44:57.480Z"
   },
   {
    "duration": 6165,
    "start_time": "2021-11-15T19:44:57.492Z"
   },
   {
    "duration": 15,
    "start_time": "2021-11-15T19:45:03.669Z"
   },
   {
    "duration": 42,
    "start_time": "2021-11-15T19:45:03.688Z"
   },
   {
    "duration": 71,
    "start_time": "2021-11-15T19:45:03.732Z"
   },
   {
    "duration": 19,
    "start_time": "2021-11-15T19:45:03.806Z"
   },
   {
    "duration": 116,
    "start_time": "2021-11-15T19:45:03.827Z"
   },
   {
    "duration": 4,
    "start_time": "2021-11-15T19:45:03.947Z"
   },
   {
    "duration": 302,
    "start_time": "2021-11-15T19:45:03.967Z"
   },
   {
    "duration": 199,
    "start_time": "2021-11-15T19:45:04.272Z"
   },
   {
    "duration": 275,
    "start_time": "2021-11-15T19:45:04.474Z"
   },
   {
    "duration": 41,
    "start_time": "2021-11-15T19:45:04.751Z"
   },
   {
    "duration": 5,
    "start_time": "2021-11-15T19:46:12.321Z"
   },
   {
    "duration": 414,
    "start_time": "2021-11-15T19:46:13.972Z"
   },
   {
    "duration": 11,
    "start_time": "2021-11-15T19:46:42.175Z"
   },
   {
    "duration": 601,
    "start_time": "2021-11-15T19:46:43.625Z"
   },
   {
    "duration": 4,
    "start_time": "2021-11-15T19:46:54.327Z"
   },
   {
    "duration": 378,
    "start_time": "2021-11-15T19:46:55.904Z"
   },
   {
    "duration": 10,
    "start_time": "2021-11-15T21:09:55.791Z"
   },
   {
    "duration": 5577,
    "start_time": "2021-11-15T21:09:55.804Z"
   },
   {
    "duration": 10,
    "start_time": "2021-11-15T21:10:01.385Z"
   },
   {
    "duration": 42,
    "start_time": "2021-11-15T21:10:01.397Z"
   },
   {
    "duration": 32,
    "start_time": "2021-11-15T21:10:01.468Z"
   },
   {
    "duration": 18,
    "start_time": "2021-11-15T21:10:01.502Z"
   },
   {
    "duration": 103,
    "start_time": "2021-11-15T21:10:01.522Z"
   },
   {
    "duration": 5,
    "start_time": "2021-11-15T21:10:01.628Z"
   },
   {
    "duration": 339,
    "start_time": "2021-11-15T21:10:01.636Z"
   },
   {
    "duration": 296,
    "start_time": "2021-11-15T21:10:01.977Z"
   },
   {
    "duration": 269,
    "start_time": "2021-11-15T21:10:02.276Z"
   },
   {
    "duration": 35,
    "start_time": "2021-11-15T21:10:02.547Z"
   },
   {
    "duration": 1566,
    "start_time": "2021-11-16T12:00:44.408Z"
   },
   {
    "duration": 5167,
    "start_time": "2021-11-16T12:00:45.977Z"
   },
   {
    "duration": 13,
    "start_time": "2021-11-16T12:00:51.148Z"
   },
   {
    "duration": 67,
    "start_time": "2021-11-16T12:00:51.165Z"
   },
   {
    "duration": 36,
    "start_time": "2021-11-16T12:00:51.235Z"
   },
   {
    "duration": 19,
    "start_time": "2021-11-16T12:00:51.274Z"
   },
   {
    "duration": 74,
    "start_time": "2021-11-16T12:00:51.328Z"
   },
   {
    "duration": 27,
    "start_time": "2021-11-16T12:00:51.407Z"
   },
   {
    "duration": 492,
    "start_time": "2021-11-16T12:00:51.438Z"
   },
   {
    "duration": 199,
    "start_time": "2021-11-16T12:00:51.934Z"
   },
   {
    "duration": 266,
    "start_time": "2021-11-16T12:00:52.137Z"
   },
   {
    "duration": 36,
    "start_time": "2021-11-16T12:00:52.406Z"
   },
   {
    "duration": 70,
    "start_time": "2021-11-16T12:04:03.614Z"
   },
   {
    "duration": 13,
    "start_time": "2021-11-16T12:04:54.523Z"
   },
   {
    "duration": 10,
    "start_time": "2021-11-16T12:05:14.783Z"
   },
   {
    "duration": 10,
    "start_time": "2021-11-16T12:05:24.539Z"
   },
   {
    "duration": 614,
    "start_time": "2021-11-16T12:06:43.163Z"
   },
   {
    "duration": 5,
    "start_time": "2021-11-16T12:06:52.893Z"
   },
   {
    "duration": 19,
    "start_time": "2021-11-16T12:08:39.042Z"
   },
   {
    "duration": 17,
    "start_time": "2021-11-16T12:09:18.453Z"
   },
   {
    "duration": 282,
    "start_time": "2021-11-16T12:13:57.643Z"
   },
   {
    "duration": 136,
    "start_time": "2021-11-16T12:14:17.493Z"
   },
   {
    "duration": 327,
    "start_time": "2021-11-16T12:14:27.841Z"
   },
   {
    "duration": 284,
    "start_time": "2021-11-16T12:14:41.430Z"
   },
   {
    "duration": 303,
    "start_time": "2021-11-16T12:14:50.645Z"
   },
   {
    "duration": 6,
    "start_time": "2021-11-16T12:15:14.515Z"
   },
   {
    "duration": 393,
    "start_time": "2021-11-16T12:15:14.524Z"
   },
   {
    "duration": 103,
    "start_time": "2021-11-16T12:15:14.817Z"
   },
   {
    "duration": 100,
    "start_time": "2021-11-16T12:15:14.822Z"
   },
   {
    "duration": 99,
    "start_time": "2021-11-16T12:15:14.824Z"
   },
   {
    "duration": 99,
    "start_time": "2021-11-16T12:15:14.826Z"
   },
   {
    "duration": 72,
    "start_time": "2021-11-16T12:15:14.854Z"
   },
   {
    "duration": 71,
    "start_time": "2021-11-16T12:15:14.857Z"
   },
   {
    "duration": 70,
    "start_time": "2021-11-16T12:15:14.859Z"
   },
   {
    "duration": 69,
    "start_time": "2021-11-16T12:15:14.861Z"
   },
   {
    "duration": 68,
    "start_time": "2021-11-16T12:15:14.863Z"
   },
   {
    "duration": 66,
    "start_time": "2021-11-16T12:15:14.867Z"
   },
   {
    "duration": 379,
    "start_time": "2021-11-16T12:15:35.309Z"
   },
   {
    "duration": 4668,
    "start_time": "2021-11-16T12:15:58.534Z"
   },
   {
    "duration": 362,
    "start_time": "2021-11-16T12:16:03.654Z"
   },
   {
    "duration": 6,
    "start_time": "2021-11-16T12:16:16.852Z"
   },
   {
    "duration": 402,
    "start_time": "2021-11-16T12:16:16.866Z"
   },
   {
    "duration": 41,
    "start_time": "2021-11-16T12:16:17.230Z"
   },
   {
    "duration": 40,
    "start_time": "2021-11-16T12:16:17.232Z"
   },
   {
    "duration": 38,
    "start_time": "2021-11-16T12:16:17.236Z"
   },
   {
    "duration": 37,
    "start_time": "2021-11-16T12:16:17.238Z"
   },
   {
    "duration": 38,
    "start_time": "2021-11-16T12:16:17.240Z"
   },
   {
    "duration": 37,
    "start_time": "2021-11-16T12:16:17.243Z"
   },
   {
    "duration": 37,
    "start_time": "2021-11-16T12:16:17.245Z"
   },
   {
    "duration": 32,
    "start_time": "2021-11-16T12:16:17.252Z"
   },
   {
    "duration": 31,
    "start_time": "2021-11-16T12:16:17.255Z"
   },
   {
    "duration": 30,
    "start_time": "2021-11-16T12:16:17.258Z"
   },
   {
    "duration": 420,
    "start_time": "2021-11-16T12:16:49.259Z"
   },
   {
    "duration": 374,
    "start_time": "2021-11-16T12:16:56.252Z"
   },
   {
    "duration": 7,
    "start_time": "2021-11-16T12:18:53.290Z"
   },
   {
    "duration": 368,
    "start_time": "2021-11-16T12:18:53.300Z"
   },
   {
    "duration": 108,
    "start_time": "2021-11-16T12:18:53.563Z"
   },
   {
    "duration": 94,
    "start_time": "2021-11-16T12:18:53.578Z"
   },
   {
    "duration": 93,
    "start_time": "2021-11-16T12:18:53.580Z"
   },
   {
    "duration": 90,
    "start_time": "2021-11-16T12:18:53.585Z"
   },
   {
    "duration": 84,
    "start_time": "2021-11-16T12:18:53.592Z"
   },
   {
    "duration": 82,
    "start_time": "2021-11-16T12:18:53.595Z"
   },
   {
    "duration": 82,
    "start_time": "2021-11-16T12:18:53.597Z"
   },
   {
    "duration": 79,
    "start_time": "2021-11-16T12:18:53.601Z"
   },
   {
    "duration": 76,
    "start_time": "2021-11-16T12:18:53.605Z"
   },
   {
    "duration": 76,
    "start_time": "2021-11-16T12:18:53.607Z"
   },
   {
    "duration": 4494,
    "start_time": "2021-11-16T12:19:42.496Z"
   },
   {
    "duration": 6,
    "start_time": "2021-11-16T12:19:51.951Z"
   },
   {
    "duration": 5282,
    "start_time": "2021-11-16T12:19:51.960Z"
   },
   {
    "duration": 13,
    "start_time": "2021-11-16T12:19:57.246Z"
   },
   {
    "duration": 69,
    "start_time": "2021-11-16T12:19:57.263Z"
   },
   {
    "duration": 26,
    "start_time": "2021-11-16T12:19:57.336Z"
   },
   {
    "duration": 21,
    "start_time": "2021-11-16T12:19:57.365Z"
   },
   {
    "duration": 51,
    "start_time": "2021-11-16T12:19:57.430Z"
   },
   {
    "duration": 5,
    "start_time": "2021-11-16T12:19:57.483Z"
   },
   {
    "duration": 447,
    "start_time": "2021-11-16T12:19:57.491Z"
   },
   {
    "duration": 209,
    "start_time": "2021-11-16T12:19:58.033Z"
   },
   {
    "duration": 261,
    "start_time": "2021-11-16T12:19:58.246Z"
   },
   {
    "duration": 32,
    "start_time": "2021-11-16T12:19:58.511Z"
   },
   {
    "duration": 6,
    "start_time": "2021-11-16T12:22:23.035Z"
   },
   {
    "duration": 4733,
    "start_time": "2021-11-16T12:22:23.044Z"
   },
   {
    "duration": 10,
    "start_time": "2021-11-16T12:22:27.780Z"
   },
   {
    "duration": 63,
    "start_time": "2021-11-16T12:22:27.793Z"
   },
   {
    "duration": 37,
    "start_time": "2021-11-16T12:22:27.858Z"
   },
   {
    "duration": 35,
    "start_time": "2021-11-16T12:22:27.897Z"
   },
   {
    "duration": 45,
    "start_time": "2021-11-16T12:22:27.934Z"
   },
   {
    "duration": 4,
    "start_time": "2021-11-16T12:22:27.982Z"
   },
   {
    "duration": 448,
    "start_time": "2021-11-16T12:22:27.989Z"
   },
   {
    "duration": 273,
    "start_time": "2021-11-16T12:22:28.440Z"
   },
   {
    "duration": 334,
    "start_time": "2021-11-16T12:22:28.715Z"
   },
   {
    "duration": 17,
    "start_time": "2021-11-16T12:22:29.051Z"
   },
   {
    "duration": 1455,
    "start_time": "2021-11-16T12:23:21.369Z"
   },
   {
    "duration": 5312,
    "start_time": "2021-11-16T12:23:22.827Z"
   },
   {
    "duration": 11,
    "start_time": "2021-11-16T12:23:28.142Z"
   },
   {
    "duration": 73,
    "start_time": "2021-11-16T12:23:28.156Z"
   },
   {
    "duration": 31,
    "start_time": "2021-11-16T12:23:28.231Z"
   },
   {
    "duration": 17,
    "start_time": "2021-11-16T12:23:28.264Z"
   },
   {
    "duration": 105,
    "start_time": "2021-11-16T12:23:28.284Z"
   },
   {
    "duration": 4,
    "start_time": "2021-11-16T12:23:28.391Z"
   },
   {
    "duration": 406,
    "start_time": "2021-11-16T12:23:28.430Z"
   },
   {
    "duration": 294,
    "start_time": "2021-11-16T12:23:28.839Z"
   },
   {
    "duration": 255,
    "start_time": "2021-11-16T12:23:29.135Z"
   },
   {
    "duration": 41,
    "start_time": "2021-11-16T12:23:29.392Z"
   },
   {
    "duration": 4850,
    "start_time": "2021-11-16T12:24:10.247Z"
   },
   {
    "duration": 5242,
    "start_time": "2021-11-16T12:25:00.146Z"
   },
   {
    "duration": 6628,
    "start_time": "2021-11-16T12:26:01.207Z"
   },
   {
    "duration": 5123,
    "start_time": "2021-11-16T12:26:33.327Z"
   },
   {
    "duration": 4985,
    "start_time": "2021-11-16T12:26:38.768Z"
   },
   {
    "duration": 5003,
    "start_time": "2021-11-16T12:27:15.998Z"
   },
   {
    "duration": 124,
    "start_time": "2021-11-16T12:28:53.807Z"
   },
   {
    "duration": 258,
    "start_time": "2021-11-16T12:29:36.209Z"
   },
   {
    "duration": 4607,
    "start_time": "2021-11-16T12:31:15.656Z"
   },
   {
    "duration": 4,
    "start_time": "2021-11-16T12:31:33.250Z"
   },
   {
    "duration": 329,
    "start_time": "2021-11-16T12:31:36.209Z"
   },
   {
    "duration": 105,
    "start_time": "2021-11-16T12:31:42.180Z"
   },
   {
    "duration": 253,
    "start_time": "2021-11-16T12:31:45.531Z"
   },
   {
    "duration": 123,
    "start_time": "2021-11-16T12:32:17.112Z"
   },
   {
    "duration": 5,
    "start_time": "2021-11-16T12:32:23.026Z"
   },
   {
    "duration": 358,
    "start_time": "2021-11-16T12:32:25.378Z"
   },
   {
    "duration": 5,
    "start_time": "2021-11-16T12:32:30.248Z"
   },
   {
    "duration": 504,
    "start_time": "2021-11-16T12:32:32.026Z"
   },
   {
    "duration": 5,
    "start_time": "2021-11-16T12:32:39.327Z"
   },
   {
    "duration": 369,
    "start_time": "2021-11-16T12:32:41.367Z"
   },
   {
    "duration": 5,
    "start_time": "2021-11-16T12:32:52.406Z"
   },
   {
    "duration": 370,
    "start_time": "2021-11-16T12:32:54.666Z"
   },
   {
    "duration": 6,
    "start_time": "2021-11-16T12:33:18.613Z"
   },
   {
    "duration": 349,
    "start_time": "2021-11-16T12:33:20.388Z"
   },
   {
    "duration": 374,
    "start_time": "2021-11-16T12:33:24.847Z"
   },
   {
    "duration": 5,
    "start_time": "2021-11-16T12:33:29.006Z"
   },
   {
    "duration": 477,
    "start_time": "2021-11-16T12:33:30.853Z"
   },
   {
    "duration": 5,
    "start_time": "2021-11-16T12:33:40.666Z"
   },
   {
    "duration": 352,
    "start_time": "2021-11-16T12:33:44.386Z"
   },
   {
    "duration": 5,
    "start_time": "2021-11-16T12:33:51.306Z"
   },
   {
    "duration": 506,
    "start_time": "2021-11-16T12:33:54.826Z"
   },
   {
    "duration": 4,
    "start_time": "2021-11-16T12:34:02.547Z"
   },
   {
    "duration": 374,
    "start_time": "2021-11-16T12:34:04.167Z"
   },
   {
    "duration": 4,
    "start_time": "2021-11-16T12:34:14.766Z"
   },
   {
    "duration": 390,
    "start_time": "2021-11-16T12:34:16.346Z"
   },
   {
    "duration": 5,
    "start_time": "2021-11-16T12:34:31.246Z"
   },
   {
    "duration": 1035,
    "start_time": "2021-11-16T12:34:32.766Z"
   },
   {
    "duration": 6,
    "start_time": "2021-11-16T12:35:04.748Z"
   },
   {
    "duration": 484,
    "start_time": "2021-11-16T12:35:06.346Z"
   },
   {
    "duration": 5,
    "start_time": "2021-11-16T12:35:12.486Z"
   },
   {
    "duration": 668,
    "start_time": "2021-11-16T12:35:14.447Z"
   },
   {
    "duration": 6,
    "start_time": "2021-11-16T12:35:24.211Z"
   },
   {
    "duration": 770,
    "start_time": "2021-11-16T12:35:25.888Z"
   },
   {
    "duration": 5,
    "start_time": "2021-11-16T12:35:30.367Z"
   },
   {
    "duration": 445,
    "start_time": "2021-11-16T12:35:31.886Z"
   },
   {
    "duration": 4,
    "start_time": "2021-11-16T12:35:42.486Z"
   },
   {
    "duration": 464,
    "start_time": "2021-11-16T12:35:45.168Z"
   },
   {
    "duration": 5,
    "start_time": "2021-11-16T12:35:58.798Z"
   },
   {
    "duration": 435,
    "start_time": "2021-11-16T12:36:00.697Z"
   },
   {
    "duration": 5,
    "start_time": "2021-11-16T12:36:31.407Z"
   },
   {
    "duration": 466,
    "start_time": "2021-11-16T12:36:33.065Z"
   },
   {
    "duration": 5,
    "start_time": "2021-11-16T12:36:35.705Z"
   },
   {
    "duration": 518,
    "start_time": "2021-11-16T12:36:37.213Z"
   },
   {
    "duration": 5,
    "start_time": "2021-11-16T12:36:42.885Z"
   },
   {
    "duration": 482,
    "start_time": "2021-11-16T12:36:45.052Z"
   },
   {
    "duration": 5,
    "start_time": "2021-11-16T12:36:50.026Z"
   },
   {
    "duration": 390,
    "start_time": "2021-11-16T12:36:51.849Z"
   },
   {
    "duration": 6,
    "start_time": "2021-11-16T12:36:55.067Z"
   },
   {
    "duration": 446,
    "start_time": "2021-11-16T12:36:56.686Z"
   },
   {
    "duration": 117,
    "start_time": "2021-11-16T12:37:03.662Z"
   },
   {
    "duration": 95,
    "start_time": "2021-11-16T12:37:09.863Z"
   },
   {
    "duration": 99,
    "start_time": "2021-11-16T12:37:15.302Z"
   },
   {
    "duration": 438,
    "start_time": "2021-11-16T12:37:16.697Z"
   },
   {
    "duration": 5,
    "start_time": "2021-11-16T12:37:39.168Z"
   },
   {
    "duration": 331,
    "start_time": "2021-11-16T12:37:41.806Z"
   },
   {
    "duration": 5,
    "start_time": "2021-11-16T12:37:54.231Z"
   },
   {
    "duration": 539,
    "start_time": "2021-11-16T12:37:55.790Z"
   },
   {
    "duration": 5,
    "start_time": "2021-11-16T12:38:16.638Z"
   },
   {
    "duration": 444,
    "start_time": "2021-11-16T12:38:20.087Z"
   },
   {
    "duration": 266,
    "start_time": "2021-11-16T12:38:38.186Z"
   },
   {
    "duration": 11,
    "start_time": "2021-11-16T12:39:14.766Z"
   },
   {
    "duration": 13,
    "start_time": "2021-11-16T12:39:31.385Z"
   },
   {
    "duration": 560,
    "start_time": "2021-11-16T12:44:22.266Z"
   },
   {
    "duration": 7,
    "start_time": "2021-11-16T12:45:12.486Z"
   },
   {
    "duration": 24,
    "start_time": "2021-11-16T12:45:18.247Z"
   },
   {
    "duration": 5,
    "start_time": "2021-11-16T12:47:37.926Z"
   },
   {
    "duration": 344,
    "start_time": "2021-11-16T12:47:39.247Z"
   },
   {
    "duration": 522,
    "start_time": "2021-11-16T12:47:52.110Z"
   },
   {
    "duration": 485,
    "start_time": "2021-11-16T12:48:31.147Z"
   },
   {
    "duration": 171,
    "start_time": "2021-11-16T12:49:17.511Z"
   },
   {
    "duration": 408,
    "start_time": "2021-11-16T12:49:19.933Z"
   },
   {
    "duration": 4550,
    "start_time": "2021-11-16T12:50:21.087Z"
   },
   {
    "duration": 391,
    "start_time": "2021-11-16T12:51:00.475Z"
   },
   {
    "duration": 127,
    "start_time": "2021-11-16T12:51:13.309Z"
   },
   {
    "duration": 88,
    "start_time": "2021-11-16T12:51:14.808Z"
   },
   {
    "duration": 190,
    "start_time": "2021-11-16T12:51:15.810Z"
   },
   {
    "duration": 5,
    "start_time": "2021-11-16T12:51:49.616Z"
   },
   {
    "duration": 281,
    "start_time": "2021-11-16T12:51:50.648Z"
   },
   {
    "duration": 98,
    "start_time": "2021-11-16T12:51:51.886Z"
   },
   {
    "duration": 221,
    "start_time": "2021-11-16T12:51:53.027Z"
   },
   {
    "duration": 24,
    "start_time": "2021-11-16T12:51:54.166Z"
   },
   {
    "duration": 11,
    "start_time": "2021-11-16T12:51:59.767Z"
   },
   {
    "duration": 25,
    "start_time": "2021-11-16T12:52:01.669Z"
   },
   {
    "duration": 103,
    "start_time": "2021-11-16T12:52:03.127Z"
   },
   {
    "duration": 71,
    "start_time": "2021-11-16T12:52:04.714Z"
   },
   {
    "duration": 173,
    "start_time": "2021-11-16T12:52:05.449Z"
   },
   {
    "duration": 3,
    "start_time": "2021-11-16T12:52:29.266Z"
   },
   {
    "duration": 22,
    "start_time": "2021-11-16T12:54:08.930Z"
   },
   {
    "duration": 24,
    "start_time": "2021-11-16T12:54:42.927Z"
   },
   {
    "duration": 21,
    "start_time": "2021-11-16T12:54:43.696Z"
   },
   {
    "duration": 52,
    "start_time": "2021-11-16T12:54:44.355Z"
   },
   {
    "duration": 2255,
    "start_time": "2021-11-17T19:17:44.927Z"
   },
   {
    "duration": 6149,
    "start_time": "2021-11-17T19:17:47.186Z"
   },
   {
    "duration": 14,
    "start_time": "2021-11-17T19:17:53.339Z"
   },
   {
    "duration": 90,
    "start_time": "2021-11-17T19:17:53.357Z"
   },
   {
    "duration": 45,
    "start_time": "2021-11-17T19:17:53.454Z"
   },
   {
    "duration": 61,
    "start_time": "2021-11-17T19:17:53.503Z"
   },
   {
    "duration": 5314,
    "start_time": "2021-11-17T19:17:53.567Z"
   },
   {
    "duration": 5,
    "start_time": "2021-11-17T19:17:58.885Z"
   },
   {
    "duration": 290,
    "start_time": "2021-11-17T19:17:58.892Z"
   },
   {
    "duration": 242,
    "start_time": "2021-11-17T19:17:59.185Z"
   },
   {
    "duration": 274,
    "start_time": "2021-11-17T19:17:59.432Z"
   },
   {
    "duration": 40,
    "start_time": "2021-11-17T19:17:59.709Z"
   },
   {
    "duration": 17,
    "start_time": "2021-11-17T19:17:59.752Z"
   },
   {
    "duration": 25,
    "start_time": "2021-11-17T19:17:59.771Z"
   },
   {
    "duration": 131,
    "start_time": "2021-11-17T19:17:59.799Z"
   },
   {
    "duration": 173,
    "start_time": "2021-11-17T19:17:59.938Z"
   },
   {
    "duration": 214,
    "start_time": "2021-11-17T19:18:00.117Z"
   },
   {
    "duration": 36,
    "start_time": "2021-11-17T19:18:00.334Z"
   },
   {
    "duration": 84,
    "start_time": "2021-11-17T19:18:00.374Z"
   },
   {
    "duration": 113,
    "start_time": "2021-11-17T19:18:00.463Z"
   },
   {
    "duration": 71,
    "start_time": "2021-11-17T19:18:00.579Z"
   },
   {
    "duration": 866,
    "start_time": "2021-11-17T19:22:44.098Z"
   },
   {
    "duration": 778,
    "start_time": "2021-11-17T19:23:15.017Z"
   },
   {
    "duration": 636,
    "start_time": "2021-11-17T19:24:19.547Z"
   },
   {
    "duration": 658,
    "start_time": "2021-11-17T19:25:49.131Z"
   },
   {
    "duration": 385,
    "start_time": "2021-11-17T19:46:19.298Z"
   },
   {
    "duration": 15935,
    "start_time": "2021-11-17T19:46:45.830Z"
   },
   {
    "duration": 113878,
    "start_time": "2021-11-17T19:47:08.051Z"
   },
   {
    "duration": 180151,
    "start_time": "2021-11-17T19:49:41.928Z"
   },
   {
    "duration": 173923,
    "start_time": "2021-11-17T19:52:53.328Z"
   },
   {
    "duration": 1344,
    "start_time": "2021-11-17T19:57:17.840Z"
   },
   {
    "duration": 1590,
    "start_time": "2021-11-17T19:57:42.274Z"
   },
   {
    "duration": 1348,
    "start_time": "2021-11-17T19:57:47.349Z"
   },
   {
    "duration": 28,
    "start_time": "2021-11-17T19:58:15.862Z"
   },
   {
    "duration": 1907,
    "start_time": "2021-11-17T19:58:25.681Z"
   },
   {
    "duration": 22,
    "start_time": "2021-11-17T19:58:41.284Z"
   },
   {
    "duration": 26,
    "start_time": "2021-11-17T19:58:49.827Z"
   },
   {
    "duration": 33,
    "start_time": "2021-11-17T19:58:53.476Z"
   },
   {
    "duration": 1759,
    "start_time": "2021-11-17T19:59:01.570Z"
   },
   {
    "duration": 1127,
    "start_time": "2021-11-17T19:59:59.069Z"
   },
   {
    "duration": 1132,
    "start_time": "2021-11-17T20:00:08.792Z"
   },
   {
    "duration": 1469,
    "start_time": "2021-11-17T20:00:26.014Z"
   },
   {
    "duration": 1457,
    "start_time": "2021-11-17T20:01:18.293Z"
   },
   {
    "duration": 1604,
    "start_time": "2021-11-17T20:01:32.885Z"
   },
   {
    "duration": 1633,
    "start_time": "2021-11-17T20:01:38.298Z"
   },
   {
    "duration": 1901,
    "start_time": "2021-11-17T20:01:42.780Z"
   },
   {
    "duration": 2369,
    "start_time": "2021-11-17T20:01:47.172Z"
   },
   {
    "duration": 205639,
    "start_time": "2021-11-17T20:02:12.951Z"
   },
   {
    "duration": 1023,
    "start_time": "2021-11-17T20:05:56.627Z"
   },
   {
    "duration": 45638,
    "start_time": "2021-11-17T20:06:26.579Z"
   },
   {
    "duration": 4000,
    "start_time": "2021-11-17T20:07:27.695Z"
   },
   {
    "duration": 1646,
    "start_time": "2021-11-17T20:07:42.704Z"
   },
   {
    "duration": 7,
    "start_time": "2021-11-17T20:08:04.639Z"
   },
   {
    "duration": 5498,
    "start_time": "2021-11-17T20:08:04.648Z"
   },
   {
    "duration": 12,
    "start_time": "2021-11-17T20:08:10.150Z"
   },
   {
    "duration": 70,
    "start_time": "2021-11-17T20:08:10.165Z"
   },
   {
    "duration": 33,
    "start_time": "2021-11-17T20:08:10.238Z"
   },
   {
    "duration": 57,
    "start_time": "2021-11-17T20:08:10.274Z"
   },
   {
    "duration": 5204,
    "start_time": "2021-11-17T20:08:10.333Z"
   },
   {
    "duration": 4,
    "start_time": "2021-11-17T20:08:15.543Z"
   },
   {
    "duration": 284,
    "start_time": "2021-11-17T20:08:15.551Z"
   },
   {
    "duration": 191,
    "start_time": "2021-11-17T20:08:15.838Z"
   },
   {
    "duration": 335,
    "start_time": "2021-11-17T20:08:16.032Z"
   },
   {
    "duration": 31,
    "start_time": "2021-11-17T20:08:16.370Z"
   },
   {
    "duration": 6802,
    "start_time": "2021-11-17T20:08:16.430Z"
   },
   {
    "duration": 953,
    "start_time": "2021-11-17T20:08:22.283Z"
   },
   {
    "duration": 951,
    "start_time": "2021-11-17T20:08:22.287Z"
   },
   {
    "duration": 948,
    "start_time": "2021-11-17T20:08:22.292Z"
   },
   {
    "duration": 947,
    "start_time": "2021-11-17T20:08:22.295Z"
   },
   {
    "duration": 945,
    "start_time": "2021-11-17T20:08:22.298Z"
   },
   {
    "duration": 944,
    "start_time": "2021-11-17T20:08:22.300Z"
   },
   {
    "duration": 942,
    "start_time": "2021-11-17T20:08:22.304Z"
   },
   {
    "duration": 940,
    "start_time": "2021-11-17T20:08:22.307Z"
   },
   {
    "duration": 939,
    "start_time": "2021-11-17T20:08:22.309Z"
   },
   {
    "duration": 939,
    "start_time": "2021-11-17T20:08:22.311Z"
   },
   {
    "duration": 937,
    "start_time": "2021-11-17T20:08:22.314Z"
   },
   {
    "duration": 936,
    "start_time": "2021-11-17T20:08:22.316Z"
   },
   {
    "duration": 17,
    "start_time": "2021-11-17T20:08:32.535Z"
   },
   {
    "duration": 12,
    "start_time": "2021-11-17T20:08:37.006Z"
   },
   {
    "duration": 38,
    "start_time": "2021-11-17T20:08:37.021Z"
   },
   {
    "duration": 87,
    "start_time": "2021-11-17T20:08:37.062Z"
   },
   {
    "duration": 169,
    "start_time": "2021-11-17T20:08:37.230Z"
   },
   {
    "duration": 208,
    "start_time": "2021-11-17T20:08:37.402Z"
   },
   {
    "duration": 30,
    "start_time": "2021-11-17T20:08:37.612Z"
   },
   {
    "duration": 84,
    "start_time": "2021-11-17T20:08:37.644Z"
   },
   {
    "duration": 107,
    "start_time": "2021-11-17T20:08:37.739Z"
   },
   {
    "duration": 61,
    "start_time": "2021-11-17T20:08:37.850Z"
   },
   {
    "duration": 723,
    "start_time": "2021-11-17T20:08:37.914Z"
   },
   {
    "duration": 665,
    "start_time": "2021-11-17T20:08:38.640Z"
   },
   {
    "duration": 4434,
    "start_time": "2021-11-17T20:08:39.308Z"
   },
   {
    "duration": 1831,
    "start_time": "2021-11-17T20:08:43.745Z"
   },
   {
    "duration": 3837,
    "start_time": "2021-11-17T20:08:55.673Z"
   },
   {
    "duration": 6966,
    "start_time": "2021-11-17T20:09:03.156Z"
   },
   {
    "duration": 3408,
    "start_time": "2021-11-17T20:09:14.263Z"
   },
   {
    "duration": 2783,
    "start_time": "2021-11-17T20:09:22.552Z"
   },
   {
    "duration": 3813,
    "start_time": "2021-11-17T20:09:29.126Z"
   },
   {
    "duration": 3210,
    "start_time": "2021-11-17T20:09:34.567Z"
   },
   {
    "duration": 2941,
    "start_time": "2021-11-17T20:09:42.794Z"
   },
   {
    "duration": 3128,
    "start_time": "2021-11-17T20:09:47.906Z"
   },
   {
    "duration": 3301,
    "start_time": "2021-11-17T20:09:56.263Z"
   },
   {
    "duration": 3236,
    "start_time": "2021-11-17T20:10:03.267Z"
   },
   {
    "duration": 6027,
    "start_time": "2021-11-17T20:10:28.124Z"
   },
   {
    "duration": 13,
    "start_time": "2021-11-17T20:12:30.293Z"
   },
   {
    "duration": 38,
    "start_time": "2021-11-17T20:12:36.158Z"
   },
   {
    "duration": 31,
    "start_time": "2021-11-17T20:12:38.108Z"
   },
   {
    "duration": 19,
    "start_time": "2021-11-17T20:12:43.205Z"
   },
   {
    "duration": 4714,
    "start_time": "2021-11-17T20:12:46.501Z"
   },
   {
    "duration": 13,
    "start_time": "2021-11-17T20:12:51.217Z"
   },
   {
    "duration": 275,
    "start_time": "2021-11-17T20:12:53.055Z"
   },
   {
    "duration": 141,
    "start_time": "2021-11-17T20:12:55.393Z"
   },
   {
    "duration": 326,
    "start_time": "2021-11-17T20:12:57.672Z"
   },
   {
    "duration": 36,
    "start_time": "2021-11-17T20:13:04.387Z"
   },
   {
    "duration": 25,
    "start_time": "2021-11-17T20:13:07.787Z"
   },
   {
    "duration": 200,
    "start_time": "2021-11-17T20:13:09.729Z"
   },
   {
    "duration": 111,
    "start_time": "2021-11-17T20:13:11.459Z"
   },
   {
    "duration": 188,
    "start_time": "2021-11-17T20:13:14.348Z"
   },
   {
    "duration": 26,
    "start_time": "2021-11-17T20:13:18.929Z"
   },
   {
    "duration": 43,
    "start_time": "2021-11-17T20:13:20.893Z"
   },
   {
    "duration": 37,
    "start_time": "2021-11-17T20:13:21.916Z"
   },
   {
    "duration": 78,
    "start_time": "2021-11-17T20:13:22.921Z"
   },
   {
    "duration": 664,
    "start_time": "2021-11-17T20:13:30.340Z"
   },
   {
    "duration": 701,
    "start_time": "2021-11-17T20:13:36.999Z"
   },
   {
    "duration": 629,
    "start_time": "2021-11-17T20:13:40.084Z"
   },
   {
    "duration": 3831,
    "start_time": "2021-11-17T20:13:45.891Z"
   },
   {
    "duration": 3063,
    "start_time": "2021-11-17T20:14:01.400Z"
   },
   {
    "duration": 10013,
    "start_time": "2021-11-17T20:14:30.905Z"
   },
   {
    "duration": 2448,
    "start_time": "2021-11-17T20:14:47.433Z"
   },
   {
    "duration": 186,
    "start_time": "2021-11-17T20:15:37.158Z"
   },
   {
    "duration": 193,
    "start_time": "2021-11-17T20:15:40.806Z"
   },
   {
    "duration": 193,
    "start_time": "2021-11-17T20:15:42.423Z"
   },
   {
    "duration": 190,
    "start_time": "2021-11-17T20:15:43.799Z"
   },
   {
    "duration": 3170,
    "start_time": "2021-11-17T20:15:51.772Z"
   },
   {
    "duration": 1728,
    "start_time": "2021-11-17T20:16:01.752Z"
   },
   {
    "duration": 1822,
    "start_time": "2021-11-17T20:16:08.159Z"
   },
   {
    "duration": 192,
    "start_time": "2021-11-17T20:16:30.326Z"
   },
   {
    "duration": 190,
    "start_time": "2021-11-17T20:16:32.799Z"
   },
   {
    "duration": 191,
    "start_time": "2021-11-17T20:16:35.839Z"
   },
   {
    "duration": 6,
    "start_time": "2021-11-17T20:16:39.698Z"
   },
   {
    "duration": 4439,
    "start_time": "2021-11-17T20:16:39.707Z"
   },
   {
    "duration": 9,
    "start_time": "2021-11-17T20:16:44.149Z"
   },
   {
    "duration": 35,
    "start_time": "2021-11-17T20:16:44.161Z"
   },
   {
    "duration": 58,
    "start_time": "2021-11-17T20:16:44.199Z"
   },
   {
    "duration": 17,
    "start_time": "2021-11-17T20:16:44.259Z"
   },
   {
    "duration": 4434,
    "start_time": "2021-11-17T20:16:44.278Z"
   },
   {
    "duration": 5,
    "start_time": "2021-11-17T20:16:48.728Z"
   },
   {
    "duration": 295,
    "start_time": "2021-11-17T20:16:48.736Z"
   },
   {
    "duration": 185,
    "start_time": "2021-11-17T20:16:49.034Z"
   },
   {
    "duration": 258,
    "start_time": "2021-11-17T20:16:49.230Z"
   },
   {
    "duration": 42,
    "start_time": "2021-11-17T20:16:49.491Z"
   },
   {
    "duration": 11,
    "start_time": "2021-11-17T20:16:49.535Z"
   },
   {
    "duration": 162,
    "start_time": "2021-11-17T20:16:49.548Z"
   },
   {
    "duration": 125,
    "start_time": "2021-11-17T20:16:49.713Z"
   },
   {
    "duration": 212,
    "start_time": "2021-11-17T20:16:49.841Z"
   },
   {
    "duration": 200,
    "start_time": "2021-11-17T20:16:50.056Z"
   },
   {
    "duration": 22,
    "start_time": "2021-11-17T20:16:50.259Z"
   },
   {
    "duration": 57,
    "start_time": "2021-11-17T20:16:50.283Z"
   },
   {
    "duration": 23,
    "start_time": "2021-11-17T20:16:50.431Z"
   },
   {
    "duration": 124,
    "start_time": "2021-11-17T20:16:50.456Z"
   },
   {
    "duration": 691,
    "start_time": "2021-11-17T20:16:50.583Z"
   },
   {
    "duration": 643,
    "start_time": "2021-11-17T20:16:51.279Z"
   },
   {
    "duration": 11031,
    "start_time": "2021-11-17T20:16:51.925Z"
   },
   {
    "duration": 306,
    "start_time": "2021-11-17T20:17:02.960Z"
   },
   {
    "duration": 137870,
    "start_time": "2021-11-17T20:17:13.652Z"
   },
   {
    "duration": 3071,
    "start_time": "2021-11-17T20:19:42.230Z"
   },
   {
    "duration": 106,
    "start_time": "2021-11-17T20:19:52.713Z"
   },
   {
    "duration": 92,
    "start_time": "2021-11-17T20:19:56.344Z"
   },
   {
    "duration": 20483,
    "start_time": "2021-11-17T20:20:12.777Z"
   },
   {
    "duration": 287606,
    "start_time": "2021-11-17T20:31:56.910Z"
   },
   {
    "duration": 6,
    "start_time": "2021-11-17T20:36:50.325Z"
   },
   {
    "duration": 467,
    "start_time": "2021-11-17T20:40:55.920Z"
   },
   {
    "duration": 609,
    "start_time": "2021-11-17T20:41:09.303Z"
   },
   {
    "duration": 267,
    "start_time": "2021-11-17T20:41:15.764Z"
   },
   {
    "duration": 1916,
    "start_time": "2021-11-17T20:42:28.840Z"
   },
   {
    "duration": 387723,
    "start_time": "2021-11-17T20:43:24.975Z"
   },
   {
    "duration": 20,
    "start_time": "2021-11-17T20:50:01.561Z"
   },
   {
    "duration": 355,
    "start_time": "2021-11-17T20:50:08.735Z"
   },
   {
    "duration": 290,
    "start_time": "2021-11-17T20:50:40.711Z"
   },
   {
    "duration": 273,
    "start_time": "2021-11-17T20:50:46.439Z"
   },
   {
    "duration": 163,
    "start_time": "2021-11-17T20:51:40.190Z"
   },
   {
    "duration": 1445,
    "start_time": "2021-11-17T20:51:49.719Z"
   },
   {
    "duration": 100,
    "start_time": "2021-11-17T20:52:21.500Z"
   },
   {
    "duration": 271,
    "start_time": "2021-11-17T20:52:26.913Z"
   },
   {
    "duration": 33450,
    "start_time": "2021-11-17T20:53:19.483Z"
   },
   {
    "duration": 1027,
    "start_time": "2021-11-17T20:53:51.909Z"
   },
   {
    "duration": 2864,
    "start_time": "2021-11-17T20:53:58.608Z"
   },
   {
    "duration": 688975,
    "start_time": "2021-11-17T20:54:04.555Z"
   },
   {
    "duration": 261,
    "start_time": "2021-11-17T21:05:36.801Z"
   },
   {
    "duration": 339,
    "start_time": "2021-11-17T21:08:01.330Z"
   },
   {
    "duration": 110,
    "start_time": "2021-11-17T21:08:13.323Z"
   },
   {
    "duration": 50,
    "start_time": "2021-11-17T21:08:24.081Z"
   },
   {
    "duration": 42,
    "start_time": "2021-11-17T21:08:31.063Z"
   },
   {
    "duration": 6714,
    "start_time": "2021-11-17T21:12:05.148Z"
   },
   {
    "duration": 199979,
    "start_time": "2021-11-17T21:12:18.677Z"
   },
   {
    "duration": 315,
    "start_time": "2021-11-17T21:16:14.115Z"
   },
   {
    "duration": 285,
    "start_time": "2021-11-17T21:16:28.819Z"
   },
   {
    "duration": 16402,
    "start_time": "2021-11-17T21:16:49.141Z"
   },
   {
    "duration": 1756,
    "start_time": "2021-11-17T21:19:19.831Z"
   },
   {
    "duration": 392,
    "start_time": "2021-11-17T21:19:42.048Z"
   },
   {
    "duration": 1630,
    "start_time": "2021-11-17T21:19:46.212Z"
   },
   {
    "duration": 1645,
    "start_time": "2021-11-17T21:19:51.273Z"
   },
   {
    "duration": 1830,
    "start_time": "2021-11-17T21:19:55.907Z"
   },
   {
    "duration": 1647,
    "start_time": "2021-11-17T21:20:48.336Z"
   },
   {
    "duration": 1673,
    "start_time": "2021-11-17T21:20:57.947Z"
   },
   {
    "duration": 1633,
    "start_time": "2021-11-17T21:21:05.842Z"
   },
   {
    "duration": 1623,
    "start_time": "2021-11-17T21:21:19.455Z"
   },
   {
    "duration": 1590,
    "start_time": "2021-11-17T21:21:25.345Z"
   },
   {
    "duration": 1626,
    "start_time": "2021-11-17T21:21:38.186Z"
   },
   {
    "duration": 1602,
    "start_time": "2021-11-17T21:21:42.432Z"
   },
   {
    "duration": 1591,
    "start_time": "2021-11-17T21:21:47.667Z"
   },
   {
    "duration": 35746,
    "start_time": "2021-11-17T21:22:25.348Z"
   },
   {
    "duration": 1123,
    "start_time": "2021-11-17T21:22:59.974Z"
   },
   {
    "duration": 1599,
    "start_time": "2021-11-17T21:23:03.952Z"
   },
   {
    "duration": 54403,
    "start_time": "2021-11-17T21:23:12.184Z"
   },
   {
    "duration": 1723,
    "start_time": "2021-11-17T21:24:11.707Z"
   },
   {
    "duration": 12563,
    "start_time": "2021-11-17T21:24:38.693Z"
   },
   {
    "duration": 1708,
    "start_time": "2021-11-17T21:25:34.081Z"
   },
   {
    "duration": 118487,
    "start_time": "2021-11-17T21:25:51.994Z"
   },
   {
    "duration": 73477,
    "start_time": "2021-11-17T21:28:23.678Z"
   },
   {
    "duration": 313728,
    "start_time": "2021-11-17T21:31:14.562Z"
   },
   {
    "duration": 1829,
    "start_time": "2021-11-17T21:36:35.820Z"
   },
   {
    "duration": 2573,
    "start_time": "2021-11-17T21:36:44.060Z"
   },
   {
    "duration": 1670,
    "start_time": "2021-11-17T21:36:58.680Z"
   },
   {
    "duration": 6,
    "start_time": "2021-11-17T21:37:38.655Z"
   },
   {
    "duration": 4530,
    "start_time": "2021-11-17T21:37:38.671Z"
   },
   {
    "duration": 10,
    "start_time": "2021-11-17T21:37:43.203Z"
   },
   {
    "duration": 39,
    "start_time": "2021-11-17T21:37:43.231Z"
   },
   {
    "duration": 58,
    "start_time": "2021-11-17T21:37:43.273Z"
   },
   {
    "duration": 18,
    "start_time": "2021-11-17T21:37:43.334Z"
   },
   {
    "duration": 4474,
    "start_time": "2021-11-17T21:37:43.355Z"
   },
   {
    "duration": 5,
    "start_time": "2021-11-17T21:37:47.831Z"
   },
   {
    "duration": 293,
    "start_time": "2021-11-17T21:37:47.841Z"
   },
   {
    "duration": 168,
    "start_time": "2021-11-17T21:37:48.141Z"
   },
   {
    "duration": 234,
    "start_time": "2021-11-17T21:37:48.312Z"
   },
   {
    "duration": 24,
    "start_time": "2021-11-17T21:37:48.549Z"
   },
   {
    "duration": 17,
    "start_time": "2021-11-17T21:37:48.576Z"
   },
   {
    "duration": 47,
    "start_time": "2021-11-17T21:37:48.595Z"
   },
   {
    "duration": 98,
    "start_time": "2021-11-17T21:37:48.645Z"
   },
   {
    "duration": 65,
    "start_time": "2021-11-17T21:37:48.830Z"
   },
   {
    "duration": 209,
    "start_time": "2021-11-17T21:37:48.898Z"
   },
   {
    "duration": 33,
    "start_time": "2021-11-17T21:37:49.109Z"
   },
   {
    "duration": 86,
    "start_time": "2021-11-17T21:37:49.145Z"
   },
   {
    "duration": 113,
    "start_time": "2021-11-17T21:37:49.235Z"
   },
   {
    "duration": 97,
    "start_time": "2021-11-17T21:37:49.351Z"
   },
   {
    "duration": 733,
    "start_time": "2021-11-17T21:37:49.451Z"
   },
   {
    "duration": 644,
    "start_time": "2021-11-17T21:37:50.187Z"
   },
   {
    "duration": 1529,
    "start_time": "2021-11-17T21:37:50.835Z"
   },
   {
    "duration": 1557,
    "start_time": "2021-11-17T21:37:52.367Z"
   },
   {
    "duration": 1628,
    "start_time": "2021-11-17T21:41:28.159Z"
   },
   {
    "duration": 1787,
    "start_time": "2021-11-17T21:41:32.287Z"
   },
   {
    "duration": 166,
    "start_time": "2021-11-17T21:41:39.408Z"
   },
   {
    "duration": 1475,
    "start_time": "2021-11-17T21:41:42.469Z"
   },
   {
    "duration": 1050,
    "start_time": "2021-11-17T21:41:47.548Z"
   },
   {
    "duration": 1188,
    "start_time": "2021-11-17T21:41:51.877Z"
   },
   {
    "duration": 33,
    "start_time": "2021-11-17T21:41:56.056Z"
   },
   {
    "duration": 49,
    "start_time": "2021-11-17T21:41:59.423Z"
   },
   {
    "duration": 63,
    "start_time": "2021-11-17T21:42:03.894Z"
   },
   {
    "duration": 96,
    "start_time": "2021-11-17T21:42:07.191Z"
   },
   {
    "duration": 150,
    "start_time": "2021-11-17T21:42:10.137Z"
   },
   {
    "duration": 3022,
    "start_time": "2021-11-17T21:42:15.201Z"
   },
   {
    "duration": 1488,
    "start_time": "2021-11-17T21:42:21.108Z"
   },
   {
    "duration": 272,
    "start_time": "2021-11-17T21:43:28.450Z"
   },
   {
    "duration": 2063,
    "start_time": "2021-11-17T21:43:52.437Z"
   },
   {
    "duration": 4531,
    "start_time": "2021-11-17T21:44:53.782Z"
   },
   {
    "duration": 13573,
    "start_time": "2021-11-17T21:45:08.409Z"
   },
   {
    "duration": 296,
    "start_time": "2021-11-17T21:45:59.748Z"
   },
   {
    "duration": 12483,
    "start_time": "2021-11-17T21:46:08.831Z"
   },
   {
    "duration": 17947,
    "start_time": "2021-11-17T21:46:41.638Z"
   },
   {
    "duration": 16,
    "start_time": "2021-11-17T21:47:37.559Z"
   },
   {
    "duration": 18647,
    "start_time": "2021-11-17T21:48:02.160Z"
   },
   {
    "duration": 18364,
    "start_time": "2021-11-17T21:48:48.097Z"
   },
   {
    "duration": 57469,
    "start_time": "2021-11-17T21:50:17.820Z"
   },
   {
    "duration": 172622,
    "start_time": "2021-11-17T21:52:31.357Z"
   },
   {
    "duration": 188,
    "start_time": "2021-11-17T21:56:31.357Z"
   },
   {
    "duration": 187,
    "start_time": "2021-11-17T21:56:39.011Z"
   },
   {
    "duration": 1722,
    "start_time": "2021-11-17T21:56:44.221Z"
   },
   {
    "duration": 1712,
    "start_time": "2021-11-17T21:56:49.270Z"
   },
   {
    "duration": 194,
    "start_time": "2021-11-17T21:56:55.944Z"
   },
   {
    "duration": 40550,
    "start_time": "2021-11-17T21:58:51.649Z"
   },
   {
    "duration": 14972,
    "start_time": "2021-11-17T22:01:18.950Z"
   },
   {
    "duration": 98126,
    "start_time": "2021-11-17T22:02:14.633Z"
   },
   {
    "duration": 500,
    "start_time": "2021-11-17T22:03:55.230Z"
   },
   {
    "duration": 1985494,
    "start_time": "2021-11-17T22:05:28.828Z"
   },
   {
    "duration": 1148,
    "start_time": "2021-11-17T22:42:15.750Z"
   },
   {
    "duration": 1570,
    "start_time": "2021-11-17T22:42:35.784Z"
   },
   {
    "duration": 19,
    "start_time": "2021-11-17T22:42:47.896Z"
   },
   {
    "duration": 370861,
    "start_time": "2021-11-17T22:43:03.495Z"
   },
   {
    "duration": 1477,
    "start_time": "2021-11-17T23:08:40.051Z"
   },
   {
    "duration": 1869,
    "start_time": "2021-11-17T23:08:48.014Z"
   },
   {
    "duration": 1215,
    "start_time": "2021-11-18T08:28:02.191Z"
   },
   {
    "duration": 2757,
    "start_time": "2021-11-18T08:28:03.408Z"
   },
   {
    "duration": 7,
    "start_time": "2021-11-18T08:28:06.167Z"
   },
   {
    "duration": 27,
    "start_time": "2021-11-18T08:28:06.176Z"
   },
   {
    "duration": 45,
    "start_time": "2021-11-18T08:28:06.204Z"
   },
   {
    "duration": 12,
    "start_time": "2021-11-18T08:28:06.251Z"
   },
   {
    "duration": 2719,
    "start_time": "2021-11-18T08:28:06.265Z"
   },
   {
    "duration": 3,
    "start_time": "2021-11-18T08:28:08.986Z"
   },
   {
    "duration": 163,
    "start_time": "2021-11-18T08:28:08.991Z"
   },
   {
    "duration": 153,
    "start_time": "2021-11-18T08:28:09.245Z"
   },
   {
    "duration": 166,
    "start_time": "2021-11-18T08:28:09.400Z"
   },
   {
    "duration": 22,
    "start_time": "2021-11-18T08:28:09.568Z"
   },
   {
    "duration": 7,
    "start_time": "2021-11-18T08:28:09.592Z"
   },
   {
    "duration": 25,
    "start_time": "2021-11-18T08:28:09.601Z"
   },
   {
    "duration": 43,
    "start_time": "2021-11-18T08:28:09.627Z"
   },
   {
    "duration": 211,
    "start_time": "2021-11-18T08:28:09.672Z"
   },
   {
    "duration": 127,
    "start_time": "2021-11-18T08:28:09.885Z"
   },
   {
    "duration": 15,
    "start_time": "2021-11-18T08:28:10.013Z"
   },
   {
    "duration": 117,
    "start_time": "2021-11-18T08:28:10.030Z"
   },
   {
    "duration": 107,
    "start_time": "2021-11-18T08:28:10.150Z"
   },
   {
    "duration": 36,
    "start_time": "2021-11-18T08:28:10.259Z"
   },
   {
    "duration": 491,
    "start_time": "2021-11-18T08:28:10.297Z"
   },
   {
    "duration": 407,
    "start_time": "2021-11-18T08:28:10.791Z"
   },
   {
    "duration": 233202,
    "start_time": "2021-11-18T08:28:11.200Z"
   },
   {
    "duration": 1106,
    "start_time": "2021-11-18T08:32:04.404Z"
   },
   {
    "duration": 1015,
    "start_time": "2021-11-18T08:32:05.512Z"
   },
   {
    "duration": 16,
    "start_time": "2021-11-18T08:32:06.529Z"
   },
   {
    "duration": 782,
    "start_time": "2021-11-18T09:51:00.383Z"
   },
   {
    "duration": 743,
    "start_time": "2021-11-18T09:51:46.626Z"
   },
   {
    "duration": 1000,
    "start_time": "2021-11-18T09:51:49.226Z"
   },
   {
    "duration": 14,
    "start_time": "2021-11-18T09:54:39.325Z"
   },
   {
    "duration": 285,
    "start_time": "2021-11-18T09:56:46.704Z"
   },
   {
    "duration": 5,
    "start_time": "2021-11-18T10:00:34.897Z"
   },
   {
    "duration": 356,
    "start_time": "2021-11-18T10:00:36.791Z"
   },
   {
    "duration": 4,
    "start_time": "2021-11-18T10:00:52.612Z"
   },
   {
    "duration": 308,
    "start_time": "2021-11-18T10:00:54.637Z"
   },
   {
    "duration": 85,
    "start_time": "2021-11-18T10:01:06.262Z"
   },
   {
    "duration": 186,
    "start_time": "2021-11-18T10:01:44.600Z"
   },
   {
    "duration": 5,
    "start_time": "2021-11-18T10:03:16.599Z"
   },
   {
    "duration": 3045,
    "start_time": "2021-11-18T10:03:16.606Z"
   },
   {
    "duration": 7,
    "start_time": "2021-11-18T10:03:19.653Z"
   },
   {
    "duration": 27,
    "start_time": "2021-11-18T10:03:19.662Z"
   },
   {
    "duration": 60,
    "start_time": "2021-11-18T10:03:19.690Z"
   },
   {
    "duration": 13,
    "start_time": "2021-11-18T10:03:19.753Z"
   },
   {
    "duration": 3466,
    "start_time": "2021-11-18T10:03:19.768Z"
   },
   {
    "duration": 4,
    "start_time": "2021-11-18T10:03:25.790Z"
   },
   {
    "duration": 408,
    "start_time": "2021-11-18T10:03:27.549Z"
   },
   {
    "duration": 87,
    "start_time": "2021-11-18T10:03:30.058Z"
   },
   {
    "duration": 244,
    "start_time": "2021-11-18T10:03:32.064Z"
   },
   {
    "duration": 1154,
    "start_time": "2021-11-18T16:52:12.678Z"
   },
   {
    "duration": 2654,
    "start_time": "2021-11-18T16:52:13.834Z"
   },
   {
    "duration": 9,
    "start_time": "2021-11-18T16:52:16.490Z"
   },
   {
    "duration": 43,
    "start_time": "2021-11-18T16:52:16.501Z"
   },
   {
    "duration": 19,
    "start_time": "2021-11-18T16:52:16.546Z"
   },
   {
    "duration": 12,
    "start_time": "2021-11-18T16:52:16.567Z"
   },
   {
    "duration": 2635,
    "start_time": "2021-11-18T16:52:16.581Z"
   },
   {
    "duration": 4,
    "start_time": "2021-11-18T16:52:19.219Z"
   },
   {
    "duration": 419,
    "start_time": "2021-11-18T16:52:19.225Z"
   },
   {
    "duration": 80,
    "start_time": "2021-11-18T16:52:19.647Z"
   },
   {
    "duration": 183,
    "start_time": "2021-11-18T16:52:19.728Z"
   },
   {
    "duration": 32,
    "start_time": "2021-11-18T16:52:19.913Z"
   },
   {
    "duration": 8,
    "start_time": "2021-11-18T16:52:19.947Z"
   },
   {
    "duration": 14,
    "start_time": "2021-11-18T16:52:19.956Z"
   },
   {
    "duration": 181,
    "start_time": "2021-11-18T16:52:19.971Z"
   },
   {
    "duration": 56,
    "start_time": "2021-11-18T16:52:20.154Z"
   },
   {
    "duration": 147,
    "start_time": "2021-11-18T16:52:20.212Z"
   },
   {
    "duration": 12,
    "start_time": "2021-11-18T16:52:20.361Z"
   },
   {
    "duration": 72,
    "start_time": "2021-11-18T16:52:20.374Z"
   },
   {
    "duration": 105,
    "start_time": "2021-11-18T16:52:20.449Z"
   },
   {
    "duration": 38,
    "start_time": "2021-11-18T16:52:20.555Z"
   },
   {
    "duration": 4,
    "start_time": "2021-11-18T17:00:08.516Z"
   },
   {
    "duration": 602,
    "start_time": "2021-11-18T17:00:09.980Z"
   },
   {
    "duration": 4,
    "start_time": "2021-11-18T17:01:25.714Z"
   },
   {
    "duration": 417,
    "start_time": "2021-11-18T17:01:50.159Z"
   },
   {
    "duration": 318,
    "start_time": "2021-11-18T17:01:59.227Z"
   },
   {
    "duration": 4,
    "start_time": "2021-11-18T17:02:07.478Z"
   },
   {
    "duration": 317,
    "start_time": "2021-11-18T17:02:08.831Z"
   },
   {
    "duration": 596,
    "start_time": "2021-11-18T17:03:38.905Z"
   },
   {
    "duration": 71,
    "start_time": "2021-11-18T17:03:48.335Z"
   },
   {
    "duration": 146,
    "start_time": "2021-11-18T17:03:55.150Z"
   },
   {
    "duration": 19,
    "start_time": "2021-11-18T17:04:48.443Z"
   },
   {
    "duration": 19,
    "start_time": "2021-11-18T17:04:55.525Z"
   },
   {
    "duration": 18,
    "start_time": "2021-11-18T17:04:58.573Z"
   },
   {
    "duration": 85,
    "start_time": "2021-11-18T17:05:32.630Z"
   },
   {
    "duration": 109,
    "start_time": "2021-11-18T17:05:44.697Z"
   },
   {
    "duration": 101,
    "start_time": "2021-11-18T17:05:46.144Z"
   },
   {
    "duration": 45,
    "start_time": "2021-11-18T17:05:47.935Z"
   },
   {
    "duration": 102,
    "start_time": "2021-11-18T17:05:48.869Z"
   },
   {
    "duration": 20,
    "start_time": "2021-11-18T17:06:15.385Z"
   },
   {
    "duration": 18,
    "start_time": "2021-11-18T17:06:22.264Z"
   },
   {
    "duration": 19,
    "start_time": "2021-11-18T17:06:26.782Z"
   },
   {
    "duration": 19,
    "start_time": "2021-11-18T17:06:30.860Z"
   },
   {
    "duration": 20,
    "start_time": "2021-11-18T17:07:00.037Z"
   },
   {
    "duration": 18,
    "start_time": "2021-11-18T17:07:02.810Z"
   },
   {
    "duration": 19,
    "start_time": "2021-11-18T17:07:05.461Z"
   },
   {
    "duration": 18,
    "start_time": "2021-11-18T17:07:08.941Z"
   },
   {
    "duration": 17,
    "start_time": "2021-11-18T17:07:11.832Z"
   },
   {
    "duration": 18,
    "start_time": "2021-11-18T17:07:15.501Z"
   },
   {
    "duration": 117,
    "start_time": "2021-11-18T17:07:34.031Z"
   },
   {
    "duration": 22,
    "start_time": "2021-11-18T17:07:35.492Z"
   },
   {
    "duration": 47,
    "start_time": "2021-11-18T17:07:36.646Z"
   },
   {
    "duration": 687,
    "start_time": "2021-11-18T17:09:10.504Z"
   },
   {
    "duration": 913,
    "start_time": "2021-11-18T17:09:34.880Z"
   },
   {
    "duration": 674,
    "start_time": "2021-11-18T17:09:49.940Z"
   },
   {
    "duration": 670,
    "start_time": "2021-11-18T17:09:58.747Z"
   },
   {
    "duration": 906,
    "start_time": "2021-11-18T17:10:09.776Z"
   },
   {
    "duration": 19788,
    "start_time": "2021-11-18T17:14:47.311Z"
   },
   {
    "duration": 69729,
    "start_time": "2021-11-18T17:15:08.469Z"
   },
   {
    "duration": 19488,
    "start_time": "2021-11-18T17:45:27.569Z"
   },
   {
    "duration": 71066,
    "start_time": "2021-11-18T17:45:50.299Z"
   },
   {
    "duration": 121,
    "start_time": "2021-11-18T18:21:53.551Z"
   },
   {
    "duration": 116,
    "start_time": "2021-11-18T18:22:19.316Z"
   },
   {
    "duration": 992,
    "start_time": "2021-11-18T18:22:24.564Z"
   },
   {
    "duration": 116,
    "start_time": "2021-11-18T18:22:31.868Z"
   },
   {
    "duration": 794,
    "start_time": "2021-11-18T18:22:36.088Z"
   },
   {
    "duration": 756,
    "start_time": "2021-11-18T18:22:39.745Z"
   },
   {
    "duration": 117,
    "start_time": "2021-11-18T18:23:43.929Z"
   },
   {
    "duration": 885,
    "start_time": "2021-11-18T18:24:04.005Z"
   },
   {
    "duration": 870,
    "start_time": "2021-11-18T18:24:10.729Z"
   },
   {
    "duration": 639348,
    "start_time": "2021-11-18T18:25:03.126Z"
   },
   {
    "duration": 222,
    "start_time": "2021-11-18T18:44:16.100Z"
   },
   {
    "duration": 485,
    "start_time": "2021-11-18T18:45:36.217Z"
   },
   {
    "duration": 527,
    "start_time": "2021-11-18T18:45:54.685Z"
   },
   {
    "duration": 479,
    "start_time": "2021-11-18T18:47:06.119Z"
   },
   {
    "duration": 500,
    "start_time": "2021-11-18T18:47:46.568Z"
   },
   {
    "duration": 491,
    "start_time": "2021-11-18T18:48:32.279Z"
   },
   {
    "duration": 527,
    "start_time": "2021-11-18T18:49:14.956Z"
   },
   {
    "duration": 514,
    "start_time": "2021-11-18T18:49:30.117Z"
   },
   {
    "duration": 505,
    "start_time": "2021-11-18T18:49:48.406Z"
   },
   {
    "duration": 517,
    "start_time": "2021-11-18T18:49:57.647Z"
   },
   {
    "duration": 508,
    "start_time": "2021-11-18T18:50:20.579Z"
   },
   {
    "duration": 573,
    "start_time": "2021-11-18T18:50:43.316Z"
   },
   {
    "duration": 315,
    "start_time": "2021-11-18T18:51:30.032Z"
   },
   {
    "duration": 263,
    "start_time": "2021-11-18T18:51:37.073Z"
   },
   {
    "duration": 413,
    "start_time": "2021-11-18T18:52:01.825Z"
   },
   {
    "duration": 387,
    "start_time": "2021-11-18T18:52:13.608Z"
   },
   {
    "duration": 882,
    "start_time": "2021-11-18T18:53:17.993Z"
   },
   {
    "duration": 383,
    "start_time": "2021-11-18T18:53:43.425Z"
   },
   {
    "duration": 584,
    "start_time": "2021-11-18T18:53:53.443Z"
   },
   {
    "duration": 577,
    "start_time": "2021-11-18T18:54:01.173Z"
   },
   {
    "duration": 888,
    "start_time": "2021-11-18T18:54:09.618Z"
   },
   {
    "duration": 583,
    "start_time": "2021-11-18T18:54:32.156Z"
   },
   {
    "duration": 459,
    "start_time": "2021-11-18T18:54:54.606Z"
   },
   {
    "duration": 447,
    "start_time": "2021-11-18T18:54:58.869Z"
   },
   {
    "duration": 461,
    "start_time": "2021-11-18T18:55:23.783Z"
   },
   {
    "duration": 655,
    "start_time": "2021-11-18T18:55:36.269Z"
   },
   {
    "duration": 724,
    "start_time": "2021-11-18T18:55:45.748Z"
   },
   {
    "duration": 459,
    "start_time": "2021-11-18T18:58:25.001Z"
   },
   {
    "duration": 754,
    "start_time": "2021-11-18T18:58:36.271Z"
   },
   {
    "duration": 977,
    "start_time": "2021-11-18T18:59:18.104Z"
   },
   {
    "duration": 1201,
    "start_time": "2021-11-18T19:01:16.612Z"
   },
   {
    "duration": 1390,
    "start_time": "2021-11-18T19:01:20.801Z"
   },
   {
    "duration": 944,
    "start_time": "2021-11-18T19:01:24.746Z"
   },
   {
    "duration": 914,
    "start_time": "2021-11-18T19:01:53.304Z"
   },
   {
    "duration": 1021,
    "start_time": "2021-11-18T19:03:36.878Z"
   },
   {
    "duration": 1020,
    "start_time": "2021-11-18T19:03:52.685Z"
   },
   {
    "duration": 1182,
    "start_time": "2021-11-18T19:04:02.762Z"
   },
   {
    "duration": 994,
    "start_time": "2021-11-18T19:04:08.790Z"
   },
   {
    "duration": 1033,
    "start_time": "2021-11-18T19:04:15.015Z"
   },
   {
    "duration": 1344,
    "start_time": "2021-11-18T19:05:19.098Z"
   },
   {
    "duration": 91,
    "start_time": "2021-11-18T19:06:20.472Z"
   },
   {
    "duration": 1659,
    "start_time": "2021-11-18T19:06:24.595Z"
   },
   {
    "duration": 1196,
    "start_time": "2021-11-18T19:07:00.754Z"
   },
   {
    "duration": 1294,
    "start_time": "2021-11-18T19:07:24.761Z"
   },
   {
    "duration": 1284,
    "start_time": "2021-11-18T19:07:53.266Z"
   },
   {
    "duration": 999,
    "start_time": "2021-11-18T19:08:07.360Z"
   },
   {
    "duration": 1793,
    "start_time": "2021-11-18T19:08:44.356Z"
   },
   {
    "duration": 2214,
    "start_time": "2021-11-18T19:09:14.439Z"
   },
   {
    "duration": 2071,
    "start_time": "2021-11-18T19:11:34.229Z"
   },
   {
    "duration": 7,
    "start_time": "2021-11-18T19:14:14.643Z"
   },
   {
    "duration": 1128,
    "start_time": "2021-11-18T19:14:34.548Z"
   },
   {
    "duration": 1168,
    "start_time": "2021-11-18T19:15:27.408Z"
   },
   {
    "duration": 1249,
    "start_time": "2021-11-18T19:15:54.161Z"
   },
   {
    "duration": 1161,
    "start_time": "2021-11-18T19:16:10.307Z"
   },
   {
    "duration": 4,
    "start_time": "2021-11-18T19:25:02.339Z"
   },
   {
    "duration": 457,
    "start_time": "2021-11-18T19:25:28.641Z"
   },
   {
    "duration": 479,
    "start_time": "2021-11-18T19:25:35.029Z"
   },
   {
    "duration": 5,
    "start_time": "2021-11-18T19:27:22.884Z"
   },
   {
    "duration": 986,
    "start_time": "2021-11-18T19:27:29.898Z"
   },
   {
    "duration": 944,
    "start_time": "2021-11-18T19:27:46.460Z"
   },
   {
    "duration": 4,
    "start_time": "2021-11-18T19:28:06.986Z"
   },
   {
    "duration": 787,
    "start_time": "2021-11-18T19:28:15.531Z"
   },
   {
    "duration": 5,
    "start_time": "2021-11-18T19:28:27.529Z"
   },
   {
    "duration": 946,
    "start_time": "2021-11-18T19:28:33.559Z"
   },
   {
    "duration": 980,
    "start_time": "2021-11-18T19:28:45.617Z"
   },
   {
    "duration": 1031,
    "start_time": "2021-11-18T19:28:57.855Z"
   },
   {
    "duration": 1462,
    "start_time": "2021-11-18T19:31:22.755Z"
   },
   {
    "duration": 1296,
    "start_time": "2021-11-18T19:32:50.026Z"
   },
   {
    "duration": 1443,
    "start_time": "2021-11-18T19:33:07.847Z"
   },
   {
    "duration": 1466,
    "start_time": "2021-11-18T19:33:30.126Z"
   },
   {
    "duration": 1510,
    "start_time": "2021-11-18T19:33:34.908Z"
   },
   {
    "duration": 1442,
    "start_time": "2021-11-18T19:33:48.965Z"
   },
   {
    "duration": 1232,
    "start_time": "2021-11-18T19:33:59.973Z"
   },
   {
    "duration": 1209,
    "start_time": "2021-11-18T19:34:10.936Z"
   },
   {
    "duration": 1213,
    "start_time": "2021-11-18T19:34:20.920Z"
   },
   {
    "duration": 1438,
    "start_time": "2021-11-18T19:34:37.220Z"
   },
   {
    "duration": 4,
    "start_time": "2021-11-18T19:35:19.531Z"
   },
   {
    "duration": 1077,
    "start_time": "2021-11-18T19:35:28.603Z"
   },
   {
    "duration": 6,
    "start_time": "2021-11-18T19:35:50.480Z"
   },
   {
    "duration": 2520,
    "start_time": "2021-11-18T19:35:55.210Z"
   },
   {
    "duration": 1114,
    "start_time": "2021-11-18T19:36:03.030Z"
   },
   {
    "duration": 5,
    "start_time": "2021-11-18T19:36:28.875Z"
   },
   {
    "duration": 5,
    "start_time": "2021-11-18T19:36:31.996Z"
   },
   {
    "duration": 5,
    "start_time": "2021-11-18T19:36:35.850Z"
   },
   {
    "duration": 986,
    "start_time": "2021-11-18T19:36:37.106Z"
   },
   {
    "duration": 547,
    "start_time": "2021-11-18T19:36:50.853Z"
   },
   {
    "duration": 601,
    "start_time": "2021-11-18T19:36:54.404Z"
   },
   {
    "duration": 979,
    "start_time": "2021-11-18T19:37:18.438Z"
   },
   {
    "duration": 7,
    "start_time": "2021-11-18T19:37:44.617Z"
   },
   {
    "duration": 169,
    "start_time": "2021-11-18T19:38:04.340Z"
   },
   {
    "duration": 477,
    "start_time": "2021-11-18T19:38:06.118Z"
   },
   {
    "duration": 306,
    "start_time": "2021-11-18T19:38:13.364Z"
   },
   {
    "duration": 367,
    "start_time": "2021-11-18T19:38:15.530Z"
   },
   {
    "duration": 21,
    "start_time": "2021-11-18T19:38:26.143Z"
   },
   {
    "duration": 407,
    "start_time": "2021-11-18T19:38:27.393Z"
   },
   {
    "duration": 318,
    "start_time": "2021-11-18T19:38:28.995Z"
   },
   {
    "duration": 347,
    "start_time": "2021-11-18T19:38:30.467Z"
   },
   {
    "duration": 678,
    "start_time": "2021-11-18T19:39:06.680Z"
   },
   {
    "duration": 975,
    "start_time": "2021-11-18T19:39:10.911Z"
   },
   {
    "duration": 6,
    "start_time": "2021-11-18T19:39:33.079Z"
   },
   {
    "duration": 2613,
    "start_time": "2021-11-18T19:39:33.087Z"
   },
   {
    "duration": 8,
    "start_time": "2021-11-18T19:39:35.702Z"
   },
   {
    "duration": 40,
    "start_time": "2021-11-18T19:39:35.712Z"
   },
   {
    "duration": 20,
    "start_time": "2021-11-18T19:39:35.753Z"
   },
   {
    "duration": 11,
    "start_time": "2021-11-18T19:39:35.775Z"
   },
   {
    "duration": 2589,
    "start_time": "2021-11-18T19:39:35.788Z"
   },
   {
    "duration": 5,
    "start_time": "2021-11-18T19:39:38.380Z"
   },
   {
    "duration": 1019,
    "start_time": "2021-11-18T19:39:38.387Z"
   },
   {
    "duration": 603,
    "start_time": "2021-11-18T19:39:39.408Z"
   },
   {
    "duration": 685,
    "start_time": "2021-11-18T19:39:40.013Z"
   },
   {
    "duration": 7,
    "start_time": "2021-11-18T19:39:40.700Z"
   },
   {
    "duration": 41,
    "start_time": "2021-11-18T19:39:40.709Z"
   },
   {
    "duration": 478,
    "start_time": "2021-11-18T19:39:40.752Z"
   },
   {
    "duration": 295,
    "start_time": "2021-11-18T19:39:41.232Z"
   },
   {
    "duration": 394,
    "start_time": "2021-11-18T19:39:41.529Z"
   },
   {
    "duration": 30,
    "start_time": "2021-11-18T19:39:41.925Z"
   },
   {
    "duration": 470,
    "start_time": "2021-11-18T19:39:41.956Z"
   },
   {
    "duration": 277,
    "start_time": "2021-11-18T19:39:42.428Z"
   },
   {
    "duration": 292,
    "start_time": "2021-11-18T19:39:42.707Z"
   },
   {
    "duration": 1059,
    "start_time": "2021-11-18T19:39:58.407Z"
   },
   {
    "duration": 1431,
    "start_time": "2021-11-18T19:40:08.555Z"
   },
   {
    "duration": 992,
    "start_time": "2021-11-18T19:40:35.000Z"
   },
   {
    "duration": 1431,
    "start_time": "2021-11-18T19:40:57.857Z"
   },
   {
    "duration": 1260,
    "start_time": "2021-11-18T19:41:40.204Z"
   },
   {
    "duration": 273,
    "start_time": "2021-11-18T19:41:58.396Z"
   },
   {
    "duration": 1433,
    "start_time": "2021-11-18T19:42:08.077Z"
   },
   {
    "duration": 1015,
    "start_time": "2021-11-18T19:43:57.338Z"
   },
   {
    "duration": 977,
    "start_time": "2021-11-18T19:44:12.214Z"
   },
   {
    "duration": 974,
    "start_time": "2021-11-18T19:44:25.321Z"
   },
   {
    "duration": 1107,
    "start_time": "2021-11-18T19:47:40.698Z"
   },
   {
    "duration": 1030,
    "start_time": "2021-11-18T19:48:04.264Z"
   },
   {
    "duration": 1127,
    "start_time": "2021-11-18T19:49:14.308Z"
   },
   {
    "duration": 1023,
    "start_time": "2021-11-18T19:49:36.412Z"
   },
   {
    "duration": 1053,
    "start_time": "2021-11-18T19:50:24.784Z"
   },
   {
    "duration": 1240,
    "start_time": "2021-11-18T19:50:28.107Z"
   },
   {
    "duration": 86,
    "start_time": "2021-11-18T19:50:33.310Z"
   },
   {
    "duration": 938,
    "start_time": "2021-11-18T19:51:23.001Z"
   },
   {
    "duration": 4,
    "start_time": "2021-11-18T19:52:15.360Z"
   },
   {
    "duration": 2365,
    "start_time": "2021-11-18T19:52:21.336Z"
   },
   {
    "duration": 1279,
    "start_time": "2021-11-18T20:15:34.373Z"
   },
   {
    "duration": 5,
    "start_time": "2021-11-18T20:15:55.261Z"
   },
   {
    "duration": 2667,
    "start_time": "2021-11-18T20:15:55.268Z"
   },
   {
    "duration": 7,
    "start_time": "2021-11-18T20:15:57.945Z"
   },
   {
    "duration": 24,
    "start_time": "2021-11-18T20:15:57.954Z"
   },
   {
    "duration": 19,
    "start_time": "2021-11-18T20:15:57.980Z"
   },
   {
    "duration": 45,
    "start_time": "2021-11-18T20:15:58.000Z"
   },
   {
    "duration": 2864,
    "start_time": "2021-11-18T20:15:58.047Z"
   },
   {
    "duration": 4,
    "start_time": "2021-11-18T20:16:00.914Z"
   },
   {
    "duration": 884,
    "start_time": "2021-11-18T20:16:00.920Z"
   },
   {
    "duration": 621,
    "start_time": "2021-11-18T20:16:01.806Z"
   },
   {
    "duration": 887,
    "start_time": "2021-11-18T20:16:02.428Z"
   },
   {
    "duration": 10,
    "start_time": "2021-11-18T20:16:03.317Z"
   },
   {
    "duration": 21,
    "start_time": "2021-11-18T20:16:03.345Z"
   },
   {
    "duration": 432,
    "start_time": "2021-11-18T20:16:03.368Z"
   },
   {
    "duration": 303,
    "start_time": "2021-11-18T20:16:03.801Z"
   },
   {
    "duration": 399,
    "start_time": "2021-11-18T20:16:04.106Z"
   },
   {
    "duration": 19,
    "start_time": "2021-11-18T20:16:04.507Z"
   },
   {
    "duration": 460,
    "start_time": "2021-11-18T20:16:04.545Z"
   },
   {
    "duration": 294,
    "start_time": "2021-11-18T20:16:05.007Z"
   },
   {
    "duration": 306,
    "start_time": "2021-11-18T20:16:05.302Z"
   },
   {
    "duration": 628556,
    "start_time": "2021-11-18T20:16:05.610Z"
   },
   {
    "duration": 1045,
    "start_time": "2021-11-18T20:26:34.168Z"
   },
   {
    "duration": 7,
    "start_time": "2021-11-18T20:26:35.244Z"
   },
   {
    "duration": 1024,
    "start_time": "2021-11-18T20:26:35.253Z"
   },
   {
    "duration": 1299,
    "start_time": "2021-11-18T20:26:36.279Z"
   },
   {
    "duration": 350,
    "start_time": "2021-11-19T11:47:48.342Z"
   },
   {
    "duration": 1630,
    "start_time": "2021-11-19T11:47:50.456Z"
   },
   {
    "duration": 4817,
    "start_time": "2021-11-19T11:47:52.089Z"
   },
   {
    "duration": 5016,
    "start_time": "2021-11-19T11:48:07.822Z"
   },
   {
    "duration": 4693,
    "start_time": "2021-11-19T11:48:18.295Z"
   },
   {
    "duration": 11,
    "start_time": "2021-11-19T11:50:03.028Z"
   },
   {
    "duration": 26,
    "start_time": "2021-11-19T11:50:25.624Z"
   },
   {
    "duration": 395,
    "start_time": "2021-11-19T11:50:45.891Z"
   },
   {
    "duration": 27,
    "start_time": "2021-11-19T11:50:50.553Z"
   },
   {
    "duration": 393,
    "start_time": "2021-11-19T11:52:33.976Z"
   },
   {
    "duration": 304,
    "start_time": "2021-11-19T11:52:43.663Z"
   },
   {
    "duration": 17,
    "start_time": "2021-11-19T11:55:18.088Z"
   },
   {
    "duration": 26,
    "start_time": "2021-11-19T11:55:23.620Z"
   },
   {
    "duration": 38,
    "start_time": "2021-11-19T11:55:34.015Z"
   },
   {
    "duration": 286,
    "start_time": "2021-11-19T11:59:24.683Z"
   },
   {
    "duration": 483,
    "start_time": "2021-11-19T11:59:27.201Z"
   },
   {
    "duration": 25,
    "start_time": "2021-11-19T11:59:36.465Z"
   },
   {
    "duration": 35,
    "start_time": "2021-11-19T11:59:37.493Z"
   },
   {
    "duration": 30,
    "start_time": "2021-11-19T11:59:46.354Z"
   },
   {
    "duration": 86,
    "start_time": "2021-11-19T12:01:56.470Z"
   },
   {
    "duration": 9,
    "start_time": "2021-11-19T12:02:47.911Z"
   },
   {
    "duration": 4694,
    "start_time": "2021-11-19T12:02:47.923Z"
   },
   {
    "duration": 30,
    "start_time": "2021-11-19T12:02:52.620Z"
   },
   {
    "duration": 32,
    "start_time": "2021-11-19T12:02:52.653Z"
   },
   {
    "duration": 65,
    "start_time": "2021-11-19T12:02:52.688Z"
   },
   {
    "duration": 17,
    "start_time": "2021-11-19T12:02:52.755Z"
   },
   {
    "duration": 4747,
    "start_time": "2021-11-19T12:02:52.774Z"
   },
   {
    "duration": 7,
    "start_time": "2021-11-19T12:02:57.525Z"
   },
   {
    "duration": 1126,
    "start_time": "2021-11-19T12:02:57.536Z"
   },
   {
    "duration": 821,
    "start_time": "2021-11-19T12:02:58.665Z"
   },
   {
    "duration": 1076,
    "start_time": "2021-11-19T12:02:59.489Z"
   },
   {
    "duration": 12,
    "start_time": "2021-11-19T12:03:00.567Z"
   },
   {
    "duration": 49,
    "start_time": "2021-11-19T12:03:00.582Z"
   },
   {
    "duration": 544,
    "start_time": "2021-11-19T12:03:00.633Z"
   },
   {
    "duration": 422,
    "start_time": "2021-11-19T12:03:01.180Z"
   },
   {
    "duration": 589,
    "start_time": "2021-11-19T12:03:01.605Z"
   },
   {
    "duration": 40,
    "start_time": "2021-11-19T12:03:02.197Z"
   },
   {
    "duration": 533,
    "start_time": "2021-11-19T12:03:02.240Z"
   },
   {
    "duration": 409,
    "start_time": "2021-11-19T12:03:02.776Z"
   },
   {
    "duration": 431,
    "start_time": "2021-11-19T12:03:03.188Z"
   },
   {
    "duration": 1002339,
    "start_time": "2021-11-19T12:03:03.628Z"
   },
   {
    "duration": 1542,
    "start_time": "2021-11-19T12:19:45.969Z"
   },
   {
    "duration": 13,
    "start_time": "2021-11-19T12:19:47.516Z"
   },
   {
    "duration": 1580,
    "start_time": "2021-11-19T12:19:47.532Z"
   },
   {
    "duration": 2069,
    "start_time": "2021-11-19T12:19:49.115Z"
   },
   {
    "duration": 243,
    "start_time": "2021-11-20T13:56:23.790Z"
   },
   {
    "duration": 203,
    "start_time": "2021-11-20T14:00:17.113Z"
   },
   {
    "duration": 1524,
    "start_time": "2021-11-20T14:00:19.240Z"
   },
   {
    "duration": 2465,
    "start_time": "2021-11-20T14:00:20.766Z"
   },
   {
    "duration": 2412,
    "start_time": "2021-11-20T14:00:26.558Z"
   },
   {
    "duration": 2831,
    "start_time": "2021-11-20T14:01:39.575Z"
   },
   {
    "duration": 20,
    "start_time": "2021-11-20T14:14:29.972Z"
   },
   {
    "duration": 271,
    "start_time": "2021-11-20T14:19:19.109Z"
   },
   {
    "duration": 5,
    "start_time": "2021-11-20T14:19:28.168Z"
   },
   {
    "duration": 2750,
    "start_time": "2021-11-20T14:19:28.176Z"
   },
   {
    "duration": 16,
    "start_time": "2021-11-20T14:19:30.928Z"
   },
   {
    "duration": 47,
    "start_time": "2021-11-20T14:19:30.946Z"
   },
   {
    "duration": 22,
    "start_time": "2021-11-20T14:19:30.994Z"
   },
   {
    "duration": 2676,
    "start_time": "2021-11-20T14:19:33.066Z"
   },
   {
    "duration": 13,
    "start_time": "2021-11-20T14:20:01.086Z"
   },
   {
    "duration": 17,
    "start_time": "2021-11-20T14:22:26.484Z"
   },
   {
    "duration": 6743,
    "start_time": "2021-11-20T14:34:51.776Z"
   },
   {
    "duration": 857,
    "start_time": "2021-11-20T14:35:20.942Z"
   },
   {
    "duration": 15,
    "start_time": "2021-11-20T14:35:40.070Z"
   },
   {
    "duration": 20,
    "start_time": "2021-11-20T14:35:41.338Z"
   },
   {
    "duration": 19,
    "start_time": "2021-11-20T14:35:44.399Z"
   },
   {
    "duration": 25,
    "start_time": "2021-11-20T14:35:50.394Z"
   },
   {
    "duration": 3039,
    "start_time": "2021-11-20T14:36:04.861Z"
   },
   {
    "duration": 225,
    "start_time": "2021-11-20T14:36:29.561Z"
   },
   {
    "duration": 1601,
    "start_time": "2021-11-20T14:36:33.917Z"
   },
   {
    "duration": 15,
    "start_time": "2021-11-20T14:36:39.631Z"
   },
   {
    "duration": 22,
    "start_time": "2021-11-20T14:36:41.904Z"
   },
   {
    "duration": 22,
    "start_time": "2021-11-20T14:36:44.596Z"
   },
   {
    "duration": 20,
    "start_time": "2021-11-20T14:37:05.455Z"
   },
   {
    "duration": 227,
    "start_time": "2021-11-20T14:37:15.047Z"
   },
   {
    "duration": 225,
    "start_time": "2021-11-20T14:37:24.676Z"
   },
   {
    "duration": 23,
    "start_time": "2021-11-20T14:37:33.907Z"
   },
   {
    "duration": 2499,
    "start_time": "2021-11-20T14:37:40.888Z"
   },
   {
    "duration": 14,
    "start_time": "2021-11-20T14:38:11.044Z"
   },
   {
    "duration": 5,
    "start_time": "2021-11-20T14:38:15.959Z"
   },
   {
    "duration": 437,
    "start_time": "2021-11-20T14:38:28.253Z"
   },
   {
    "duration": 484,
    "start_time": "2021-11-20T14:38:57.158Z"
   },
   {
    "duration": 458,
    "start_time": "2021-11-20T14:39:09.601Z"
   },
   {
    "duration": 226,
    "start_time": "2021-11-20T14:39:29.706Z"
   },
   {
    "duration": 15,
    "start_time": "2021-11-20T14:39:36.561Z"
   },
   {
    "duration": 21,
    "start_time": "2021-11-20T14:39:37.744Z"
   },
   {
    "duration": 23,
    "start_time": "2021-11-20T14:39:38.868Z"
   },
   {
    "duration": 2609,
    "start_time": "2021-11-20T14:39:40.470Z"
   },
   {
    "duration": 22,
    "start_time": "2021-11-20T14:39:43.081Z"
   },
   {
    "duration": 4,
    "start_time": "2021-11-20T14:39:47.542Z"
   },
   {
    "duration": 457,
    "start_time": "2021-11-20T14:39:49.199Z"
   },
   {
    "duration": 15,
    "start_time": "2021-11-20T14:40:03.897Z"
   },
   {
    "duration": 21,
    "start_time": "2021-11-20T14:40:05.558Z"
   },
   {
    "duration": 19,
    "start_time": "2021-11-20T14:40:08.299Z"
   },
   {
    "duration": 2555,
    "start_time": "2021-11-20T14:40:31.147Z"
   },
   {
    "duration": 10,
    "start_time": "2021-11-20T14:40:33.704Z"
   },
   {
    "duration": 5,
    "start_time": "2021-11-20T14:40:37.106Z"
   },
   {
    "duration": 874,
    "start_time": "2021-11-20T14:40:38.168Z"
   },
   {
    "duration": 227,
    "start_time": "2021-11-20T14:41:18.895Z"
   },
   {
    "duration": 15,
    "start_time": "2021-11-20T14:41:21.421Z"
   },
   {
    "duration": 21,
    "start_time": "2021-11-20T14:41:22.928Z"
   },
   {
    "duration": 25,
    "start_time": "2021-11-20T14:41:24.406Z"
   },
   {
    "duration": 2581,
    "start_time": "2021-11-20T14:41:26.202Z"
   },
   {
    "duration": 11,
    "start_time": "2021-11-20T14:41:28.788Z"
   },
   {
    "duration": 4,
    "start_time": "2021-11-20T14:41:32.071Z"
   },
   {
    "duration": 926,
    "start_time": "2021-11-20T14:41:33.726Z"
   },
   {
    "duration": 16,
    "start_time": "2021-11-20T14:41:47.557Z"
   },
   {
    "duration": 22,
    "start_time": "2021-11-20T14:41:48.520Z"
   },
   {
    "duration": 19,
    "start_time": "2021-11-20T14:41:49.783Z"
   },
   {
    "duration": 2595,
    "start_time": "2021-11-20T14:41:55.545Z"
   },
   {
    "duration": 11,
    "start_time": "2021-11-20T14:41:59.779Z"
   },
   {
    "duration": 5,
    "start_time": "2021-11-20T14:42:01.596Z"
   },
   {
    "duration": 827,
    "start_time": "2021-11-20T14:42:03.311Z"
   },
   {
    "duration": 5,
    "start_time": "2021-11-20T14:58:36.816Z"
   },
   {
    "duration": 895,
    "start_time": "2021-11-20T14:58:38.477Z"
   },
   {
    "duration": 6,
    "start_time": "2021-11-20T15:07:34.414Z"
   },
   {
    "duration": 991,
    "start_time": "2021-11-20T15:07:35.919Z"
   },
   {
    "duration": 71,
    "start_time": "2021-11-20T15:09:19.257Z"
   },
   {
    "duration": 587,
    "start_time": "2021-11-20T15:09:29.142Z"
   },
   {
    "duration": 7,
    "start_time": "2021-11-20T15:11:13.232Z"
   },
   {
    "duration": 856,
    "start_time": "2021-11-20T15:16:51.693Z"
   },
   {
    "duration": 586,
    "start_time": "2021-11-20T15:16:53.822Z"
   },
   {
    "duration": 649,
    "start_time": "2021-11-20T15:16:55.289Z"
   },
   {
    "duration": 616,
    "start_time": "2021-11-20T15:17:11.625Z"
   },
   {
    "duration": 699,
    "start_time": "2021-11-20T15:17:19.107Z"
   },
   {
    "duration": 5,
    "start_time": "2021-11-20T15:32:56.159Z"
   },
   {
    "duration": 2514,
    "start_time": "2021-11-20T15:32:56.166Z"
   },
   {
    "duration": 20,
    "start_time": "2021-11-20T15:32:58.682Z"
   },
   {
    "duration": 21,
    "start_time": "2021-11-20T15:32:58.704Z"
   },
   {
    "duration": 19,
    "start_time": "2021-11-20T15:32:58.726Z"
   },
   {
    "duration": 2667,
    "start_time": "2021-11-20T15:32:58.747Z"
   },
   {
    "duration": 11,
    "start_time": "2021-11-20T15:33:01.416Z"
   },
   {
    "duration": 12,
    "start_time": "2021-11-20T15:33:01.429Z"
   },
   {
    "duration": 16,
    "start_time": "2021-11-20T15:33:01.443Z"
   },
   {
    "duration": 881,
    "start_time": "2021-11-20T15:33:01.461Z"
   },
   {
    "duration": 620,
    "start_time": "2021-11-20T15:33:02.344Z"
   },
   {
    "duration": 839,
    "start_time": "2021-11-20T15:33:02.966Z"
   },
   {
    "duration": 18,
    "start_time": "2021-11-20T15:33:03.807Z"
   },
   {
    "duration": 409,
    "start_time": "2021-11-20T15:33:03.826Z"
   },
   {
    "duration": 322,
    "start_time": "2021-11-20T15:33:04.237Z"
   },
   {
    "duration": 403,
    "start_time": "2021-11-20T15:33:04.561Z"
   },
   {
    "duration": 495,
    "start_time": "2021-11-20T15:41:33.704Z"
   },
   {
    "duration": 19,
    "start_time": "2021-11-20T15:46:50.749Z"
   },
   {
    "duration": 487,
    "start_time": "2021-11-20T15:48:20.875Z"
   },
   {
    "duration": 255,
    "start_time": "2021-11-20T15:48:23.609Z"
   },
   {
    "duration": 323,
    "start_time": "2021-11-20T15:48:27.221Z"
   },
   {
    "duration": 253,
    "start_time": "2021-11-20T15:56:38.338Z"
   },
   {
    "duration": 256,
    "start_time": "2021-11-20T15:57:37.458Z"
   },
   {
    "duration": 444,
    "start_time": "2021-11-20T15:57:40.790Z"
   },
   {
    "duration": 954,
    "start_time": "2021-11-20T15:57:53.144Z"
   },
   {
    "duration": 686,
    "start_time": "2021-11-20T15:58:19.468Z"
   },
   {
    "duration": 5,
    "start_time": "2021-11-20T15:58:36.804Z"
   },
   {
    "duration": 2478,
    "start_time": "2021-11-20T15:58:36.811Z"
   },
   {
    "duration": 17,
    "start_time": "2021-11-20T15:58:39.291Z"
   },
   {
    "duration": 22,
    "start_time": "2021-11-20T15:58:39.310Z"
   },
   {
    "duration": 17,
    "start_time": "2021-11-20T15:58:39.334Z"
   },
   {
    "duration": 2577,
    "start_time": "2021-11-20T15:58:39.388Z"
   },
   {
    "duration": 21,
    "start_time": "2021-11-20T15:58:41.967Z"
   },
   {
    "duration": 5,
    "start_time": "2021-11-20T15:58:41.990Z"
   },
   {
    "duration": 12,
    "start_time": "2021-11-20T15:58:41.996Z"
   },
   {
    "duration": 949,
    "start_time": "2021-11-20T15:58:42.010Z"
   },
   {
    "duration": 607,
    "start_time": "2021-11-20T15:58:42.960Z"
   },
   {
    "duration": 792,
    "start_time": "2021-11-20T15:58:43.569Z"
   },
   {
    "duration": 30,
    "start_time": "2021-11-20T15:58:44.362Z"
   },
   {
    "duration": 462,
    "start_time": "2021-11-20T15:58:44.394Z"
   },
   {
    "duration": 310,
    "start_time": "2021-11-20T15:58:44.858Z"
   },
   {
    "duration": 395,
    "start_time": "2021-11-20T15:58:45.169Z"
   },
   {
    "duration": 35,
    "start_time": "2021-11-20T15:58:45.565Z"
   },
   {
    "duration": 447,
    "start_time": "2021-11-20T15:58:45.602Z"
   },
   {
    "duration": 289,
    "start_time": "2021-11-20T15:58:46.052Z"
   },
   {
    "duration": 304,
    "start_time": "2021-11-20T15:58:46.342Z"
   },
   {
    "duration": 645,
    "start_time": "2021-11-20T16:00:14.305Z"
   },
   {
    "duration": 169,
    "start_time": "2021-11-20T16:00:27.026Z"
   },
   {
    "duration": 5,
    "start_time": "2021-11-20T16:00:44.973Z"
   },
   {
    "duration": 172,
    "start_time": "2021-11-20T16:00:49.937Z"
   },
   {
    "duration": 9,
    "start_time": "2021-11-20T16:01:02.975Z"
   },
   {
    "duration": 10,
    "start_time": "2021-11-20T16:01:07.400Z"
   },
   {
    "duration": 153,
    "start_time": "2021-11-20T16:01:30.544Z"
   },
   {
    "duration": 5,
    "start_time": "2021-11-20T16:01:57.138Z"
   },
   {
    "duration": 4,
    "start_time": "2021-11-20T16:02:05.393Z"
   },
   {
    "duration": 219,
    "start_time": "2021-11-20T16:02:10.393Z"
   },
   {
    "duration": 221,
    "start_time": "2021-11-20T16:02:22.527Z"
   },
   {
    "duration": 252,
    "start_time": "2021-11-20T16:02:29.955Z"
   },
   {
    "duration": 223,
    "start_time": "2021-11-20T16:02:35.703Z"
   },
   {
    "duration": 216,
    "start_time": "2021-11-20T16:03:09.396Z"
   },
   {
    "duration": 210,
    "start_time": "2021-11-20T16:03:34.275Z"
   },
   {
    "duration": 591899,
    "start_time": "2021-11-20T16:04:17.392Z"
   },
   {
    "duration": 990,
    "start_time": "2021-11-20T16:15:14.423Z"
   },
   {
    "duration": 6,
    "start_time": "2021-11-20T16:15:35.938Z"
   },
   {
    "duration": 966,
    "start_time": "2021-11-20T16:15:37.906Z"
   },
   {
    "duration": 8,
    "start_time": "2021-11-20T16:28:46.453Z"
   },
   {
    "duration": 10,
    "start_time": "2021-11-20T16:37:42.198Z"
   },
   {
    "duration": 1012,
    "start_time": "2021-11-20T16:37:43.675Z"
   },
   {
    "duration": 1072,
    "start_time": "2021-11-20T16:37:51.377Z"
   },
   {
    "duration": 1075,
    "start_time": "2021-11-20T17:04:09.257Z"
   },
   {
    "duration": 6,
    "start_time": "2021-11-20T17:04:37.148Z"
   },
   {
    "duration": 935,
    "start_time": "2021-11-20T17:04:38.864Z"
   },
   {
    "duration": 5,
    "start_time": "2021-11-20T17:04:43.781Z"
   },
   {
    "duration": 871,
    "start_time": "2021-11-20T17:08:15.823Z"
   },
   {
    "duration": 872,
    "start_time": "2021-11-20T17:08:27.678Z"
   },
   {
    "duration": 925,
    "start_time": "2021-11-20T17:08:44.071Z"
   },
   {
    "duration": 942,
    "start_time": "2021-11-20T17:09:04.901Z"
   },
   {
    "duration": 1007,
    "start_time": "2021-11-20T17:09:19.753Z"
   },
   {
    "duration": 872,
    "start_time": "2021-11-20T17:09:28.881Z"
   },
   {
    "duration": 843,
    "start_time": "2021-11-20T17:09:45.011Z"
   },
   {
    "duration": 6,
    "start_time": "2021-11-20T17:10:39.302Z"
   },
   {
    "duration": 6,
    "start_time": "2021-11-20T17:11:00.531Z"
   },
   {
    "duration": 6,
    "start_time": "2021-11-20T17:11:49.011Z"
   },
   {
    "duration": 1550,
    "start_time": "2021-11-20T17:11:55.393Z"
   },
   {
    "duration": 6,
    "start_time": "2021-11-20T17:12:12.052Z"
   },
   {
    "duration": 1652,
    "start_time": "2021-11-20T17:12:13.523Z"
   },
   {
    "duration": 5,
    "start_time": "2021-11-20T17:13:11.298Z"
   },
   {
    "duration": 1389,
    "start_time": "2021-11-20T17:13:13.647Z"
   },
   {
    "duration": 5,
    "start_time": "2021-11-20T17:13:24.312Z"
   },
   {
    "duration": 1254,
    "start_time": "2021-11-20T17:13:25.652Z"
   },
   {
    "duration": 1272,
    "start_time": "2021-11-20T17:13:44.068Z"
   },
   {
    "duration": 569,
    "start_time": "2021-11-20T17:14:03.445Z"
   },
   {
    "duration": 1279,
    "start_time": "2021-11-20T17:14:13.988Z"
   },
   {
    "duration": 1290,
    "start_time": "2021-11-20T17:14:33.865Z"
   },
   {
    "duration": 842,
    "start_time": "2021-11-20T17:15:06.465Z"
   },
   {
    "duration": 623,
    "start_time": "2021-11-20T17:15:19.133Z"
   },
   {
    "duration": 632,
    "start_time": "2021-11-20T17:15:24.569Z"
   },
   {
    "duration": 627,
    "start_time": "2021-11-20T17:15:33.493Z"
   },
   {
    "duration": 704,
    "start_time": "2021-11-20T17:15:39.601Z"
   },
   {
    "duration": 666,
    "start_time": "2021-11-20T17:15:47.433Z"
   },
   {
    "duration": 1333,
    "start_time": "2021-11-20T17:16:14.603Z"
   },
   {
    "duration": 628,
    "start_time": "2021-11-20T17:17:13.467Z"
   },
   {
    "duration": 1754,
    "start_time": "2021-11-20T17:17:45.636Z"
   },
   {
    "duration": 941,
    "start_time": "2021-11-20T17:18:15.745Z"
   },
   {
    "duration": 1713,
    "start_time": "2021-11-20T17:18:55.854Z"
   },
   {
    "duration": 4,
    "start_time": "2021-11-20T18:10:11.417Z"
   },
   {
    "duration": 2466,
    "start_time": "2021-11-20T18:10:11.423Z"
   },
   {
    "duration": 14,
    "start_time": "2021-11-20T18:10:13.891Z"
   },
   {
    "duration": 40,
    "start_time": "2021-11-20T18:10:13.907Z"
   },
   {
    "duration": 32,
    "start_time": "2021-11-20T18:10:13.949Z"
   },
   {
    "duration": 2675,
    "start_time": "2021-11-20T18:10:13.982Z"
   },
   {
    "duration": 10,
    "start_time": "2021-11-20T18:10:16.659Z"
   },
   {
    "duration": 36,
    "start_time": "2021-11-20T18:10:16.671Z"
   },
   {
    "duration": 58,
    "start_time": "2021-11-20T18:10:16.708Z"
   },
   {
    "duration": 968,
    "start_time": "2021-11-20T18:10:16.767Z"
   },
   {
    "duration": 583,
    "start_time": "2021-11-20T18:10:17.737Z"
   },
   {
    "duration": 713,
    "start_time": "2021-11-20T18:10:18.322Z"
   },
   {
    "duration": 17,
    "start_time": "2021-11-20T18:10:19.036Z"
   },
   {
    "duration": 502,
    "start_time": "2021-11-20T18:10:19.054Z"
   },
   {
    "duration": 284,
    "start_time": "2021-11-20T18:10:19.558Z"
   },
   {
    "duration": 359,
    "start_time": "2021-11-20T18:10:19.843Z"
   },
   {
    "duration": 18,
    "start_time": "2021-11-20T18:10:20.203Z"
   },
   {
    "duration": 432,
    "start_time": "2021-11-20T18:10:20.223Z"
   },
   {
    "duration": 278,
    "start_time": "2021-11-20T18:10:20.658Z"
   },
   {
    "duration": 294,
    "start_time": "2021-11-20T18:10:20.937Z"
   },
   {
    "duration": 586172,
    "start_time": "2021-11-20T18:10:21.233Z"
   },
   {
    "duration": 941,
    "start_time": "2021-11-20T18:20:07.407Z"
   },
   {
    "duration": 4,
    "start_time": "2021-11-20T18:20:08.350Z"
   },
   {
    "duration": 1297,
    "start_time": "2021-11-20T18:20:08.356Z"
   },
   {
    "duration": 4,
    "start_time": "2021-11-20T18:20:09.654Z"
   },
   {
    "duration": 1290,
    "start_time": "2021-11-20T18:20:09.659Z"
   },
   {
    "duration": 1114,
    "start_time": "2021-11-21T06:14:52.679Z"
   },
   {
    "duration": 2696,
    "start_time": "2021-11-21T06:14:53.795Z"
   },
   {
    "duration": 16,
    "start_time": "2021-11-21T06:14:56.495Z"
   },
   {
    "duration": 20,
    "start_time": "2021-11-21T06:14:56.513Z"
   },
   {
    "duration": 17,
    "start_time": "2021-11-21T06:14:56.535Z"
   },
   {
    "duration": 2855,
    "start_time": "2021-11-21T06:14:56.553Z"
   },
   {
    "duration": 11,
    "start_time": "2021-11-21T06:14:59.410Z"
   },
   {
    "duration": 5,
    "start_time": "2021-11-21T06:14:59.422Z"
   },
   {
    "duration": 12,
    "start_time": "2021-11-21T06:14:59.428Z"
   },
   {
    "duration": 823,
    "start_time": "2021-11-21T06:14:59.441Z"
   },
   {
    "duration": 603,
    "start_time": "2021-11-21T06:15:00.266Z"
   },
   {
    "duration": 797,
    "start_time": "2021-11-21T06:15:00.871Z"
   },
   {
    "duration": 31,
    "start_time": "2021-11-21T06:15:01.670Z"
   },
   {
    "duration": 458,
    "start_time": "2021-11-21T06:15:01.703Z"
   },
   {
    "duration": 308,
    "start_time": "2021-11-21T06:15:02.163Z"
   },
   {
    "duration": 392,
    "start_time": "2021-11-21T06:15:02.473Z"
   },
   {
    "duration": 36,
    "start_time": "2021-11-21T06:15:02.867Z"
   },
   {
    "duration": 458,
    "start_time": "2021-11-21T06:15:02.905Z"
   },
   {
    "duration": 298,
    "start_time": "2021-11-21T06:15:03.365Z"
   },
   {
    "duration": 297,
    "start_time": "2021-11-21T06:15:03.665Z"
   },
   {
    "duration": 8,
    "start_time": "2021-11-21T06:15:03.964Z"
   },
   {
    "duration": 591478,
    "start_time": "2021-11-21T06:15:03.991Z"
   },
   {
    "duration": 1004,
    "start_time": "2021-11-21T06:24:55.470Z"
   },
   {
    "duration": 17,
    "start_time": "2021-11-21T06:24:56.476Z"
   },
   {
    "duration": 1321,
    "start_time": "2021-11-21T06:24:56.494Z"
   },
   {
    "duration": 6,
    "start_time": "2021-11-21T06:24:57.816Z"
   },
   {
    "duration": 1344,
    "start_time": "2021-11-21T06:24:57.824Z"
   },
   {
    "duration": 1176,
    "start_time": "2021-11-21T07:38:32.409Z"
   },
   {
    "duration": 2712,
    "start_time": "2021-11-21T07:38:33.587Z"
   },
   {
    "duration": 19,
    "start_time": "2021-11-21T07:38:36.302Z"
   },
   {
    "duration": 49,
    "start_time": "2021-11-21T07:38:36.323Z"
   },
   {
    "duration": 20,
    "start_time": "2021-11-21T07:38:36.374Z"
   },
   {
    "duration": 2756,
    "start_time": "2021-11-21T07:38:36.396Z"
   },
   {
    "duration": 6809,
    "start_time": "2021-11-21T07:38:39.154Z"
   },
   {
    "duration": 240,
    "start_time": "2021-11-21T07:39:12.213Z"
   },
   {
    "duration": 239,
    "start_time": "2021-11-21T07:39:39.856Z"
   },
   {
    "duration": 3003,
    "start_time": "2021-11-21T07:39:58.737Z"
   },
   {
    "duration": 24,
    "start_time": "2021-11-21T07:40:40.047Z"
   },
   {
    "duration": 26,
    "start_time": "2021-11-21T07:40:50.225Z"
   },
   {
    "duration": 265,
    "start_time": "2021-11-21T07:42:00.001Z"
   },
   {
    "duration": 23,
    "start_time": "2021-11-21T07:42:18.250Z"
   },
   {
    "duration": 5,
    "start_time": "2021-11-21T07:47:53.131Z"
   },
   {
    "duration": 2680,
    "start_time": "2021-11-21T07:47:53.138Z"
   },
   {
    "duration": 17,
    "start_time": "2021-11-21T07:47:55.820Z"
   },
   {
    "duration": 39,
    "start_time": "2021-11-21T07:47:55.839Z"
   },
   {
    "duration": 20,
    "start_time": "2021-11-21T07:47:55.879Z"
   },
   {
    "duration": 2878,
    "start_time": "2021-11-21T07:47:55.901Z"
   },
   {
    "duration": 28,
    "start_time": "2021-11-21T07:47:58.781Z"
   },
   {
    "duration": 6,
    "start_time": "2021-11-21T07:47:58.811Z"
   },
   {
    "duration": 12,
    "start_time": "2021-11-21T07:47:58.820Z"
   },
   {
    "duration": 990,
    "start_time": "2021-11-21T07:47:58.864Z"
   },
   {
    "duration": 601,
    "start_time": "2021-11-21T07:47:59.864Z"
   },
   {
    "duration": 883,
    "start_time": "2021-11-21T07:48:00.466Z"
   },
   {
    "duration": 28,
    "start_time": "2021-11-21T07:48:01.351Z"
   },
   {
    "duration": 482,
    "start_time": "2021-11-21T07:48:01.381Z"
   },
   {
    "duration": 279,
    "start_time": "2021-11-21T07:48:01.865Z"
   },
   {
    "duration": 383,
    "start_time": "2021-11-21T07:48:02.146Z"
   },
   {
    "duration": 36,
    "start_time": "2021-11-21T07:48:02.530Z"
   },
   {
    "duration": 458,
    "start_time": "2021-11-21T07:48:02.567Z"
   },
   {
    "duration": 298,
    "start_time": "2021-11-21T07:48:03.027Z"
   },
   {
    "duration": 317,
    "start_time": "2021-11-21T07:48:03.326Z"
   },
   {
    "duration": 18,
    "start_time": "2021-11-21T07:48:03.645Z"
   },
   {
    "duration": 158,
    "start_time": "2021-11-21T07:50:10.209Z"
   },
   {
    "duration": 166,
    "start_time": "2021-11-21T07:50:17.419Z"
   },
   {
    "duration": 194339,
    "start_time": "2021-11-21T07:50:31.156Z"
   },
   {
    "duration": 204686,
    "start_time": "2021-11-21T07:54:08.405Z"
   },
   {
    "duration": 5,
    "start_time": "2021-11-21T11:03:32.138Z"
   },
   {
    "duration": 198,
    "start_time": "2021-11-21T11:03:39.462Z"
   },
   {
    "duration": 2333,
    "start_time": "2021-11-21T11:03:46.812Z"
   },
   {
    "duration": 4194,
    "start_time": "2021-11-21T11:03:53.574Z"
   },
   {
    "duration": 458,
    "start_time": "2021-11-21T11:15:21.904Z"
   },
   {
    "duration": 21,
    "start_time": "2021-11-21T11:15:26.639Z"
   },
   {
    "duration": 27,
    "start_time": "2021-11-21T11:15:36.650Z"
   },
   {
    "duration": 6,
    "start_time": "2021-11-21T11:15:58.502Z"
   },
   {
    "duration": 2923,
    "start_time": "2021-11-21T11:15:58.510Z"
   },
   {
    "duration": 29,
    "start_time": "2021-11-21T11:16:04.106Z"
   },
   {
    "duration": 20,
    "start_time": "2021-11-21T11:17:10.867Z"
   },
   {
    "duration": 23,
    "start_time": "2021-11-21T11:18:04.408Z"
   },
   {
    "duration": 309,
    "start_time": "2021-11-21T11:21:49.924Z"
   },
   {
    "duration": 229,
    "start_time": "2021-11-21T11:21:59.524Z"
   },
   {
    "duration": 24,
    "start_time": "2021-11-21T11:22:24.832Z"
   },
   {
    "duration": 23,
    "start_time": "2021-11-21T11:22:36.888Z"
   },
   {
    "duration": 21,
    "start_time": "2021-11-21T11:22:48.841Z"
   },
   {
    "duration": 88,
    "start_time": "2021-11-21T11:28:40.960Z"
   },
   {
    "duration": 277,
    "start_time": "2021-11-21T11:29:05.221Z"
   },
   {
    "duration": 242,
    "start_time": "2021-11-21T11:29:23.122Z"
   },
   {
    "duration": 239,
    "start_time": "2021-11-21T11:29:46.622Z"
   },
   {
    "duration": 3144,
    "start_time": "2021-11-21T11:30:02.824Z"
   },
   {
    "duration": 108,
    "start_time": "2021-11-21T11:30:16.984Z"
   },
   {
    "duration": 2871,
    "start_time": "2021-11-21T11:30:42.108Z"
   },
   {
    "duration": 302,
    "start_time": "2021-11-21T11:32:27.098Z"
   },
   {
    "duration": 7145,
    "start_time": "2021-11-21T11:32:50.848Z"
   },
   {
    "duration": 246,
    "start_time": "2021-11-21T11:33:34.567Z"
   },
   {
    "duration": 539,
    "start_time": "2021-11-21T11:35:03.641Z"
   },
   {
    "duration": 554,
    "start_time": "2021-11-21T11:35:25.942Z"
   },
   {
    "duration": 582,
    "start_time": "2021-11-21T11:36:02.904Z"
   },
   {
    "duration": 537,
    "start_time": "2021-11-21T11:36:21.588Z"
   },
   {
    "duration": 553,
    "start_time": "2021-11-21T11:36:26.981Z"
   },
   {
    "duration": 1038,
    "start_time": "2021-11-21T11:37:29.465Z"
   },
   {
    "duration": 1023,
    "start_time": "2021-11-21T11:37:34.950Z"
   },
   {
    "duration": 7299,
    "start_time": "2021-11-21T12:11:43.420Z"
   },
   {
    "duration": 7649,
    "start_time": "2021-11-21T12:12:05.928Z"
   },
   {
    "duration": 1691,
    "start_time": "2021-11-21T12:12:23.848Z"
   },
   {
    "duration": 1814,
    "start_time": "2021-11-21T12:12:32.713Z"
   },
   {
    "duration": 1774,
    "start_time": "2021-11-21T12:12:37.891Z"
   },
   {
    "duration": 1750,
    "start_time": "2021-11-21T12:12:47.383Z"
   },
   {
    "duration": 1955,
    "start_time": "2021-11-21T12:13:17.671Z"
   },
   {
    "duration": 6398,
    "start_time": "2021-11-21T12:13:34.617Z"
   },
   {
    "duration": 7003,
    "start_time": "2021-11-21T12:14:54.136Z"
   },
   {
    "duration": 95,
    "start_time": "2021-11-21T12:15:53.802Z"
   },
   {
    "duration": 1817,
    "start_time": "2021-11-21T12:16:03.898Z"
   },
   {
    "duration": 1944,
    "start_time": "2021-11-21T12:16:27.698Z"
   },
   {
    "duration": 1802,
    "start_time": "2021-11-21T12:16:52.461Z"
   },
   {
    "duration": 1771,
    "start_time": "2021-11-21T12:17:05.917Z"
   },
   {
    "duration": 1974,
    "start_time": "2021-11-21T12:17:49.890Z"
   },
   {
    "duration": 2140,
    "start_time": "2021-11-21T12:19:05.859Z"
   },
   {
    "duration": 1779,
    "start_time": "2021-11-21T12:20:08.339Z"
   },
   {
    "duration": 1999,
    "start_time": "2021-11-21T12:20:42.993Z"
   },
   {
    "duration": 2031,
    "start_time": "2021-11-21T12:21:40.140Z"
   },
   {
    "duration": 1916,
    "start_time": "2021-11-21T12:22:12.407Z"
   },
   {
    "duration": 8129,
    "start_time": "2021-11-21T12:22:41.184Z"
   },
   {
    "duration": 8256,
    "start_time": "2021-11-21T12:23:58.168Z"
   },
   {
    "duration": 1993,
    "start_time": "2021-11-21T12:24:26.327Z"
   },
   {
    "duration": 1792,
    "start_time": "2021-11-21T12:24:47.345Z"
   },
   {
    "duration": 1835,
    "start_time": "2021-11-21T12:24:54.851Z"
   },
   {
    "duration": 1854,
    "start_time": "2021-11-21T12:27:03.715Z"
   },
   {
    "duration": 1880,
    "start_time": "2021-11-21T12:27:27.330Z"
   },
   {
    "duration": 1882,
    "start_time": "2021-11-21T12:27:47.102Z"
   },
   {
    "duration": 1816,
    "start_time": "2021-11-21T12:27:56.128Z"
   },
   {
    "duration": 2007,
    "start_time": "2021-11-21T12:28:29.958Z"
   },
   {
    "duration": 1853,
    "start_time": "2021-11-21T12:28:44.177Z"
   },
   {
    "duration": 1841,
    "start_time": "2021-11-21T12:29:01.010Z"
   },
   {
    "duration": 2055,
    "start_time": "2021-11-21T12:29:18.047Z"
   },
   {
    "duration": 2026,
    "start_time": "2021-11-21T12:29:24.015Z"
   },
   {
    "duration": 2085,
    "start_time": "2021-11-21T12:29:36.359Z"
   },
   {
    "duration": 154,
    "start_time": "2021-11-21T12:29:38.291Z"
   },
   {
    "duration": 1948,
    "start_time": "2021-11-21T12:29:44.265Z"
   },
   {
    "duration": 1768,
    "start_time": "2021-11-21T12:30:07.012Z"
   },
   {
    "duration": 1776,
    "start_time": "2021-11-21T12:30:15.128Z"
   },
   {
    "duration": 1718,
    "start_time": "2021-11-21T12:31:05.423Z"
   },
   {
    "duration": 1745,
    "start_time": "2021-11-21T12:32:57.701Z"
   },
   {
    "duration": 30,
    "start_time": "2021-11-21T12:34:17.251Z"
   },
   {
    "duration": 1742,
    "start_time": "2021-11-21T12:34:21.396Z"
   },
   {
    "duration": 27,
    "start_time": "2021-11-21T12:34:31.394Z"
   },
   {
    "duration": 27,
    "start_time": "2021-11-21T12:34:42.952Z"
   },
   {
    "duration": 17,
    "start_time": "2021-11-21T12:34:57.301Z"
   },
   {
    "duration": 1727,
    "start_time": "2021-11-21T12:35:41.572Z"
   },
   {
    "duration": 1745,
    "start_time": "2021-11-21T12:35:46.176Z"
   },
   {
    "duration": 1718,
    "start_time": "2021-11-21T12:37:18.491Z"
   },
   {
    "duration": 2065,
    "start_time": "2021-11-21T12:40:59.207Z"
   },
   {
    "duration": 1821,
    "start_time": "2021-11-21T12:41:05.985Z"
   },
   {
    "duration": 16,
    "start_time": "2021-11-21T12:41:11.507Z"
   },
   {
    "duration": 249,
    "start_time": "2021-11-21T12:41:43.042Z"
   },
   {
    "duration": 13,
    "start_time": "2021-11-21T12:41:51.333Z"
   },
   {
    "duration": 268,
    "start_time": "2021-11-21T12:42:24.177Z"
   },
   {
    "duration": 247,
    "start_time": "2021-11-21T12:42:33.244Z"
   },
   {
    "duration": 12,
    "start_time": "2021-11-21T12:42:52.194Z"
   },
   {
    "duration": 1804,
    "start_time": "2021-11-21T12:43:24.125Z"
   },
   {
    "duration": 1935,
    "start_time": "2021-11-21T12:43:35.988Z"
   },
   {
    "duration": 6,
    "start_time": "2021-11-21T12:43:41.892Z"
   },
   {
    "duration": 2963,
    "start_time": "2021-11-21T12:43:41.902Z"
   },
   {
    "duration": 1746,
    "start_time": "2021-11-21T12:43:47.234Z"
   },
   {
    "duration": 6,
    "start_time": "2021-11-21T12:45:07.107Z"
   },
   {
    "duration": 2985,
    "start_time": "2021-11-21T12:45:07.117Z"
   },
   {
    "duration": 1736,
    "start_time": "2021-11-21T12:45:13.392Z"
   },
   {
    "duration": 30,
    "start_time": "2021-11-21T12:45:24.374Z"
   },
   {
    "duration": 11,
    "start_time": "2021-11-21T12:45:26.398Z"
   },
   {
    "duration": 5,
    "start_time": "2021-11-21T12:45:56.916Z"
   },
   {
    "duration": 3051,
    "start_time": "2021-11-21T12:45:56.923Z"
   },
   {
    "duration": 1781,
    "start_time": "2021-11-21T12:46:01.103Z"
   },
   {
    "duration": 29,
    "start_time": "2021-11-21T12:46:02.886Z"
   },
   {
    "duration": 11,
    "start_time": "2021-11-21T12:46:05.244Z"
   },
   {
    "duration": 15,
    "start_time": "2021-11-21T12:46:58.667Z"
   },
   {
    "duration": 1842,
    "start_time": "2021-11-21T12:47:48.672Z"
   },
   {
    "duration": 8,
    "start_time": "2021-11-21T12:47:57.680Z"
   },
   {
    "duration": 36,
    "start_time": "2021-11-21T12:48:11.445Z"
   },
   {
    "duration": 21,
    "start_time": "2021-11-21T12:48:14.809Z"
   },
   {
    "duration": 3237,
    "start_time": "2021-11-21T12:50:42.378Z"
   },
   {
    "duration": 28,
    "start_time": "2021-11-21T12:51:55.808Z"
   },
   {
    "duration": 8,
    "start_time": "2021-11-21T12:52:08.966Z"
   },
   {
    "duration": 12,
    "start_time": "2021-11-21T12:52:11.224Z"
   },
   {
    "duration": 1056,
    "start_time": "2021-11-21T12:52:30.397Z"
   },
   {
    "duration": 674,
    "start_time": "2021-11-21T12:52:41.496Z"
   },
   {
    "duration": 709,
    "start_time": "2021-11-21T12:52:51.930Z"
   },
   {
    "duration": 104,
    "start_time": "2021-11-21T13:29:02.093Z"
   },
   {
    "duration": 1069,
    "start_time": "2021-11-21T13:29:08.311Z"
   },
   {
    "duration": 4080,
    "start_time": "2021-11-21T13:29:18.833Z"
   },
   {
    "duration": 3828,
    "start_time": "2021-11-21T13:29:40.045Z"
   },
   {
    "duration": 4135,
    "start_time": "2021-11-21T13:31:53.840Z"
   },
   {
    "duration": 85,
    "start_time": "2021-11-21T13:33:43.771Z"
   },
   {
    "duration": 1072,
    "start_time": "2021-11-21T13:33:48.446Z"
   },
   {
    "duration": 10205,
    "start_time": "2021-11-21T13:34:12.066Z"
   },
   {
    "duration": 4,
    "start_time": "2021-11-21T13:34:49.231Z"
   },
   {
    "duration": 10057,
    "start_time": "2021-11-21T13:36:19.382Z"
   },
   {
    "duration": 2071,
    "start_time": "2021-11-21T13:43:13.816Z"
   },
   {
    "duration": 1692,
    "start_time": "2021-11-21T13:43:41.107Z"
   },
   {
    "duration": 1344,
    "start_time": "2021-11-21T13:43:45.898Z"
   },
   {
    "duration": 1408,
    "start_time": "2021-11-21T13:44:00.645Z"
   },
   {
    "duration": 1760,
    "start_time": "2021-11-21T13:44:30.242Z"
   },
   {
    "duration": 21094,
    "start_time": "2021-11-21T13:45:07.106Z"
   },
   {
    "duration": 4564,
    "start_time": "2021-11-21T13:45:41.540Z"
   },
   {
    "duration": 6,
    "start_time": "2021-11-21T13:46:10.979Z"
   },
   {
    "duration": 3129,
    "start_time": "2021-11-21T13:46:10.988Z"
   },
   {
    "duration": 2071,
    "start_time": "2021-11-21T13:46:14.119Z"
   },
   {
    "duration": 8,
    "start_time": "2021-11-21T13:46:16.192Z"
   },
   {
    "duration": 31,
    "start_time": "2021-11-21T13:46:16.203Z"
   },
   {
    "duration": 42,
    "start_time": "2021-11-21T13:46:16.236Z"
   },
   {
    "duration": 3188,
    "start_time": "2021-11-21T13:46:16.280Z"
   },
   {
    "duration": 28,
    "start_time": "2021-11-21T13:46:19.471Z"
   },
   {
    "duration": 88,
    "start_time": "2021-11-21T13:46:19.501Z"
   },
   {
    "duration": 246,
    "start_time": "2021-11-21T13:46:19.346Z"
   },
   {
    "duration": 243,
    "start_time": "2021-11-21T13:46:19.349Z"
   },
   {
    "duration": 240,
    "start_time": "2021-11-21T13:46:19.353Z"
   },
   {
    "duration": 4279,
    "start_time": "2021-11-21T13:46:24.484Z"
   },
   {
    "duration": 4,
    "start_time": "2021-11-21T13:46:35.044Z"
   },
   {
    "duration": 1107,
    "start_time": "2021-11-21T13:51:12.711Z"
   },
   {
    "duration": 4162,
    "start_time": "2021-11-21T13:51:38.384Z"
   },
   {
    "duration": 5,
    "start_time": "2021-11-21T13:52:00.238Z"
   },
   {
    "duration": 467,
    "start_time": "2021-11-21T13:55:32.310Z"
   },
   {
    "duration": 951,
    "start_time": "2021-11-21T13:55:35.700Z"
   },
   {
    "duration": 11511,
    "start_time": "2021-11-21T13:55:38.767Z"
   },
   {
    "duration": 10744,
    "start_time": "2021-11-21T13:56:26.527Z"
   },
   {
    "duration": 230,
    "start_time": "2021-11-21T13:58:05.879Z"
   },
   {
    "duration": 4,
    "start_time": "2021-11-21T13:58:09.153Z"
   },
   {
    "duration": 242,
    "start_time": "2021-11-21T13:58:16.917Z"
   },
   {
    "duration": 4,
    "start_time": "2021-11-21T13:58:19.832Z"
   },
   {
    "duration": 242,
    "start_time": "2021-11-21T13:58:22.981Z"
   },
   {
    "duration": 4,
    "start_time": "2021-11-21T13:58:26.805Z"
   },
   {
    "duration": 234,
    "start_time": "2021-11-21T14:01:17.866Z"
   },
   {
    "duration": 503,
    "start_time": "2021-11-21T14:01:27.233Z"
   },
   {
    "duration": 15571,
    "start_time": "2021-11-21T14:02:07.758Z"
   },
   {
    "duration": 18088,
    "start_time": "2021-11-21T14:03:13.645Z"
   },
   {
    "duration": 14842,
    "start_time": "2021-11-21T14:05:27.078Z"
   },
   {
    "duration": 1247,
    "start_time": "2021-11-21T14:05:48.267Z"
   },
   {
    "duration": 116685,
    "start_time": "2021-11-21T14:09:07.657Z"
   },
   {
    "duration": 1124,
    "start_time": "2021-11-21T14:11:52.241Z"
   },
   {
    "duration": 17807,
    "start_time": "2021-11-21T14:12:05.925Z"
   },
   {
    "duration": 10812,
    "start_time": "2021-11-21T14:14:14.921Z"
   },
   {
    "duration": 3694,
    "start_time": "2021-11-21T14:14:50.241Z"
   },
   {
    "duration": 16026,
    "start_time": "2021-11-21T14:15:01.801Z"
   },
   {
    "duration": 7,
    "start_time": "2021-11-21T14:21:33.869Z"
   },
   {
    "duration": 2794,
    "start_time": "2021-11-21T14:21:33.878Z"
   },
   {
    "duration": 1626,
    "start_time": "2021-11-21T14:21:36.674Z"
   },
   {
    "duration": 7,
    "start_time": "2021-11-21T14:21:38.302Z"
   },
   {
    "duration": 29,
    "start_time": "2021-11-21T14:21:38.311Z"
   },
   {
    "duration": 35,
    "start_time": "2021-11-21T14:21:38.341Z"
   },
   {
    "duration": 2849,
    "start_time": "2021-11-21T14:21:38.378Z"
   },
   {
    "duration": 38,
    "start_time": "2021-11-21T14:21:41.229Z"
   },
   {
    "duration": 110,
    "start_time": "2021-11-21T14:21:41.269Z"
   },
   {
    "duration": 255,
    "start_time": "2021-11-21T14:21:41.126Z"
   },
   {
    "duration": 237,
    "start_time": "2021-11-21T14:21:41.145Z"
   },
   {
    "duration": 225,
    "start_time": "2021-11-21T14:21:41.159Z"
   },
   {
    "duration": 211,
    "start_time": "2021-11-21T14:21:41.175Z"
   },
   {
    "duration": 196,
    "start_time": "2021-11-21T14:21:41.191Z"
   },
   {
    "duration": 181,
    "start_time": "2021-11-21T14:21:41.208Z"
   },
   {
    "duration": 166,
    "start_time": "2021-11-21T14:21:41.225Z"
   },
   {
    "duration": 151,
    "start_time": "2021-11-21T14:21:41.241Z"
   },
   {
    "duration": 147,
    "start_time": "2021-11-21T14:21:41.247Z"
   },
   {
    "duration": 145,
    "start_time": "2021-11-21T14:21:41.250Z"
   },
   {
    "duration": 139,
    "start_time": "2021-11-21T14:21:41.258Z"
   },
   {
    "duration": 135,
    "start_time": "2021-11-21T14:21:41.263Z"
   },
   {
    "duration": 134,
    "start_time": "2021-11-21T14:21:41.266Z"
   },
   {
    "duration": 132,
    "start_time": "2021-11-21T14:21:41.269Z"
   },
   {
    "duration": 128,
    "start_time": "2021-11-21T14:21:41.275Z"
   },
   {
    "duration": 122,
    "start_time": "2021-11-21T14:21:41.282Z"
   },
   {
    "duration": 118,
    "start_time": "2021-11-21T14:21:41.287Z"
   },
   {
    "duration": 113,
    "start_time": "2021-11-21T14:21:41.294Z"
   },
   {
    "duration": 112,
    "start_time": "2021-11-21T14:21:41.297Z"
   },
   {
    "duration": 110,
    "start_time": "2021-11-21T14:21:41.300Z"
   },
   {
    "duration": 108,
    "start_time": "2021-11-21T14:21:41.304Z"
   },
   {
    "duration": 6,
    "start_time": "2021-11-21T14:22:17.840Z"
   },
   {
    "duration": 6,
    "start_time": "2021-11-21T14:22:22.419Z"
   },
   {
    "duration": 2875,
    "start_time": "2021-11-21T14:22:22.429Z"
   },
   {
    "duration": 1662,
    "start_time": "2021-11-21T14:22:25.306Z"
   },
   {
    "duration": 7,
    "start_time": "2021-11-21T14:22:26.970Z"
   },
   {
    "duration": 23,
    "start_time": "2021-11-21T14:22:26.979Z"
   },
   {
    "duration": 19,
    "start_time": "2021-11-21T14:22:27.004Z"
   },
   {
    "duration": 2925,
    "start_time": "2021-11-21T14:22:27.025Z"
   },
   {
    "duration": 32,
    "start_time": "2021-11-21T14:22:29.952Z"
   },
   {
    "duration": 6,
    "start_time": "2021-11-21T14:22:29.986Z"
   },
   {
    "duration": 31,
    "start_time": "2021-11-21T14:22:29.994Z"
   },
   {
    "duration": 18274,
    "start_time": "2021-11-21T14:22:30.027Z"
   },
   {
    "duration": 4064,
    "start_time": "2021-11-21T14:22:48.304Z"
   },
   {
    "duration": 4,
    "start_time": "2021-11-21T14:22:52.370Z"
   },
   {
    "duration": 3742,
    "start_time": "2021-11-21T14:22:52.376Z"
   },
   {
    "duration": 3,
    "start_time": "2021-11-21T14:22:56.120Z"
   },
   {
    "duration": 39,
    "start_time": "2021-11-21T14:22:56.125Z"
   },
   {
    "duration": 458,
    "start_time": "2021-11-21T14:22:56.166Z"
   },
   {
    "duration": 346,
    "start_time": "2021-11-21T14:22:56.625Z"
   },
   {
    "duration": 516,
    "start_time": "2021-11-21T14:22:56.973Z"
   },
   {
    "duration": 26,
    "start_time": "2021-11-21T14:22:57.491Z"
   },
   {
    "duration": 444,
    "start_time": "2021-11-21T14:22:57.519Z"
   },
   {
    "duration": 480,
    "start_time": "2021-11-21T14:22:57.965Z"
   },
   {
    "duration": 375,
    "start_time": "2021-11-21T14:22:58.448Z"
   },
   {
    "duration": 2,
    "start_time": "2021-11-21T14:22:58.827Z"
   },
   {
    "duration": 197413,
    "start_time": "2021-11-21T14:22:58.832Z"
   },
   {
    "duration": 2569,
    "start_time": "2021-11-21T14:26:16.246Z"
   },
   {
    "duration": 5,
    "start_time": "2021-11-21T14:26:18.817Z"
   },
   {
    "duration": 4506,
    "start_time": "2021-11-21T14:26:18.823Z"
   },
   {
    "duration": 4,
    "start_time": "2021-11-21T14:26:23.331Z"
   },
   {
    "duration": 4665,
    "start_time": "2021-11-21T14:26:23.337Z"
   },
   {
    "duration": 4556,
    "start_time": "2021-11-21T14:26:45.878Z"
   },
   {
    "duration": 2323,
    "start_time": "2021-11-21T14:27:04.387Z"
   },
   {
    "duration": 7036,
    "start_time": "2021-11-21T14:27:27.974Z"
   },
   {
    "duration": 26550,
    "start_time": "2021-11-21T14:27:46.213Z"
   },
   {
    "duration": 4521,
    "start_time": "2021-11-21T14:28:26.422Z"
   },
   {
    "duration": 4285,
    "start_time": "2021-11-21T14:30:05.949Z"
   },
   {
    "duration": 785,
    "start_time": "2021-11-21T14:30:22.835Z"
   },
   {
    "duration": 12898,
    "start_time": "2021-11-21T14:30:30.247Z"
   },
   {
    "duration": 13127,
    "start_time": "2021-11-21T14:30:51.714Z"
   },
   {
    "duration": 5459,
    "start_time": "2021-11-21T14:31:50.886Z"
   },
   {
    "duration": 178851,
    "start_time": "2021-11-21T14:33:50.928Z"
   },
   {
    "duration": 535712,
    "start_time": "2021-11-21T15:30:41.474Z"
   },
   {
    "duration": 470492,
    "start_time": "2021-11-21T15:46:25.302Z"
   },
   {
    "duration": 82757,
    "start_time": "2021-11-21T16:44:04.408Z"
   },
   {
    "duration": 154666,
    "start_time": "2021-11-21T16:45:48.812Z"
   },
   {
    "duration": 2585,
    "start_time": "2021-11-21T16:49:21.943Z"
   },
   {
    "duration": 5,
    "start_time": "2021-11-21T16:49:29.900Z"
   },
   {
    "duration": 5342,
    "start_time": "2021-11-21T16:49:31.262Z"
   },
   {
    "duration": 5,
    "start_time": "2021-11-21T16:49:38.323Z"
   },
   {
    "duration": 4557,
    "start_time": "2021-11-21T16:49:41.725Z"
   },
   {
    "duration": 6,
    "start_time": "2021-11-21T17:03:37.902Z"
   },
   {
    "duration": 2837,
    "start_time": "2021-11-21T17:03:37.910Z"
   },
   {
    "duration": 216,
    "start_time": "2021-11-21T17:03:44.928Z"
   },
   {
    "duration": 310,
    "start_time": "2021-11-21T17:05:47.672Z"
   },
   {
    "duration": 5418,
    "start_time": "2021-11-21T17:06:15.946Z"
   },
   {
    "duration": 217,
    "start_time": "2021-11-21T17:06:43.374Z"
   },
   {
    "duration": 41931,
    "start_time": "2021-11-21T17:07:24.831Z"
   },
   {
    "duration": 5821,
    "start_time": "2021-11-21T17:08:35.489Z"
   },
   {
    "duration": 446,
    "start_time": "2021-11-21T17:08:40.866Z"
   },
   {
    "duration": 6,
    "start_time": "2021-11-21T17:08:52.336Z"
   },
   {
    "duration": 217,
    "start_time": "2021-11-21T17:09:22.835Z"
   },
   {
    "duration": 6,
    "start_time": "2021-11-21T17:09:28.744Z"
   },
   {
    "duration": 2860,
    "start_time": "2021-11-21T17:09:28.752Z"
   },
   {
    "duration": 216,
    "start_time": "2021-11-21T17:09:37.010Z"
   },
   {
    "duration": 5,
    "start_time": "2021-11-21T17:10:08.225Z"
   },
   {
    "duration": 2872,
    "start_time": "2021-11-21T17:10:08.232Z"
   },
   {
    "duration": 372,
    "start_time": "2021-11-21T17:10:14.996Z"
   },
   {
    "duration": 251,
    "start_time": "2021-11-21T17:10:24.838Z"
   },
   {
    "duration": 8,
    "start_time": "2021-11-21T17:10:31.660Z"
   },
   {
    "duration": 23,
    "start_time": "2021-11-21T17:10:49.389Z"
   },
   {
    "duration": 20,
    "start_time": "2021-11-21T17:10:53.879Z"
   },
   {
    "duration": 3124,
    "start_time": "2021-11-21T17:10:56.881Z"
   },
   {
    "duration": 26,
    "start_time": "2021-11-21T17:11:05.535Z"
   },
   {
    "duration": 5,
    "start_time": "2021-11-21T17:11:11.355Z"
   },
   {
    "duration": 8,
    "start_time": "2021-11-21T17:11:13.700Z"
   },
   {
    "duration": 406,
    "start_time": "2021-11-21T17:11:18.100Z"
   },
   {
    "duration": 6,
    "start_time": "2021-11-21T17:12:32.418Z"
   },
   {
    "duration": 2804,
    "start_time": "2021-11-21T17:12:32.425Z"
   },
   {
    "duration": 470,
    "start_time": "2021-11-21T17:12:51.136Z"
   },
   {
    "duration": 8287,
    "start_time": "2021-11-21T17:13:15.834Z"
   },
   {
    "duration": 9,
    "start_time": "2021-11-21T17:13:27.615Z"
   },
   {
    "duration": 23,
    "start_time": "2021-11-21T17:13:29.347Z"
   },
   {
    "duration": 20,
    "start_time": "2021-11-21T17:13:30.848Z"
   },
   {
    "duration": 2937,
    "start_time": "2021-11-21T17:13:33.040Z"
   },
   {
    "duration": 25,
    "start_time": "2021-11-21T17:13:35.979Z"
   },
   {
    "duration": 5,
    "start_time": "2021-11-21T17:13:37.076Z"
   },
   {
    "duration": 8,
    "start_time": "2021-11-21T17:13:38.710Z"
   },
   {
    "duration": 19264,
    "start_time": "2021-11-21T17:13:40.189Z"
   },
   {
    "duration": 3912,
    "start_time": "2021-11-21T17:14:05.233Z"
   },
   {
    "duration": 4,
    "start_time": "2021-11-21T17:14:30.324Z"
   },
   {
    "duration": 3772,
    "start_time": "2021-11-21T17:14:52.458Z"
   },
   {
    "duration": 3,
    "start_time": "2021-11-21T17:15:16.198Z"
   },
   {
    "duration": 21,
    "start_time": "2021-11-21T17:15:43.245Z"
   },
   {
    "duration": 11717,
    "start_time": "2021-11-21T17:15:48.548Z"
   },
   {
    "duration": 23,
    "start_time": "2021-11-21T17:16:04.910Z"
   },
   {
    "duration": 5539,
    "start_time": "2021-11-21T17:16:07.178Z"
   },
   {
    "duration": 90767,
    "start_time": "2021-11-21T17:16:34.449Z"
   },
   {
    "duration": 29,
    "start_time": "2021-11-21T17:18:58.769Z"
   },
   {
    "duration": 5,
    "start_time": "2021-11-21T17:19:04.062Z"
   },
   {
    "duration": 18529,
    "start_time": "2021-11-21T17:19:11.603Z"
   },
   {
    "duration": 3932,
    "start_time": "2021-11-21T17:19:36.012Z"
   },
   {
    "duration": 4,
    "start_time": "2021-11-21T17:19:48.624Z"
   },
   {
    "duration": 3616,
    "start_time": "2021-11-21T17:19:54.322Z"
   },
   {
    "duration": 4,
    "start_time": "2021-11-21T17:20:05.486Z"
   },
   {
    "duration": 20,
    "start_time": "2021-11-21T17:20:16.393Z"
   },
   {
    "duration": 422,
    "start_time": "2021-11-21T17:20:39.902Z"
   },
   {
    "duration": 442,
    "start_time": "2021-11-21T17:20:42.594Z"
   },
   {
    "duration": 11169,
    "start_time": "2021-11-21T17:20:51.559Z"
   },
   {
    "duration": 21,
    "start_time": "2021-11-21T17:21:11.411Z"
   },
   {
    "duration": 453,
    "start_time": "2021-11-21T17:21:15.069Z"
   },
   {
    "duration": 246,
    "start_time": "2021-11-21T17:21:19.987Z"
   },
   {
    "duration": 5113,
    "start_time": "2021-11-21T17:21:22.630Z"
   },
   {
    "duration": 59483,
    "start_time": "2021-11-21T17:22:20.028Z"
   },
   {
    "duration": 715,
    "start_time": "2021-11-21T17:23:41.077Z"
   },
   {
    "duration": 482,
    "start_time": "2021-11-21T17:24:06.868Z"
   },
   {
    "duration": 1459,
    "start_time": "2021-11-21T17:24:40.075Z"
   },
   {
    "duration": 78,
    "start_time": "2021-11-21T17:25:27.391Z"
   },
   {
    "duration": 487,
    "start_time": "2021-11-21T17:25:31.717Z"
   },
   {
    "duration": 5,
    "start_time": "2021-11-21T17:25:43.575Z"
   },
   {
    "duration": 784,
    "start_time": "2021-11-21T17:25:45.811Z"
   },
   {
    "duration": 4,
    "start_time": "2021-11-21T17:25:56.695Z"
   },
   {
    "duration": 648,
    "start_time": "2021-11-21T17:26:00.396Z"
   },
   {
    "duration": 6,
    "start_time": "2021-11-21T17:26:46.455Z"
   },
   {
    "duration": 774,
    "start_time": "2021-11-21T17:26:47.657Z"
   },
   {
    "duration": 6,
    "start_time": "2021-11-21T17:27:01.263Z"
   },
   {
    "duration": 3143,
    "start_time": "2021-11-21T17:27:01.271Z"
   },
   {
    "duration": 413,
    "start_time": "2021-11-21T17:27:04.416Z"
   },
   {
    "duration": 3617,
    "start_time": "2021-11-21T17:27:04.831Z"
   },
   {
    "duration": 491,
    "start_time": "2021-11-21T17:27:07.960Z"
   },
   {
    "duration": 463,
    "start_time": "2021-11-21T17:27:07.989Z"
   },
   {
    "duration": 460,
    "start_time": "2021-11-21T17:27:07.993Z"
   },
   {
    "duration": 454,
    "start_time": "2021-11-21T17:27:08.001Z"
   },
   {
    "duration": 452,
    "start_time": "2021-11-21T17:27:08.004Z"
   },
   {
    "duration": 446,
    "start_time": "2021-11-21T17:27:08.011Z"
   },
   {
    "duration": 445,
    "start_time": "2021-11-21T17:27:08.014Z"
   },
   {
    "duration": 434,
    "start_time": "2021-11-21T17:27:08.026Z"
   },
   {
    "duration": 431,
    "start_time": "2021-11-21T17:27:08.031Z"
   },
   {
    "duration": 428,
    "start_time": "2021-11-21T17:27:08.035Z"
   },
   {
    "duration": 427,
    "start_time": "2021-11-21T17:27:08.038Z"
   },
   {
    "duration": 424,
    "start_time": "2021-11-21T17:27:08.042Z"
   },
   {
    "duration": 422,
    "start_time": "2021-11-21T17:27:08.045Z"
   },
   {
    "duration": 420,
    "start_time": "2021-11-21T17:27:08.049Z"
   },
   {
    "duration": 418,
    "start_time": "2021-11-21T17:27:08.052Z"
   },
   {
    "duration": 417,
    "start_time": "2021-11-21T17:27:08.055Z"
   },
   {
    "duration": 414,
    "start_time": "2021-11-21T17:27:08.059Z"
   },
   {
    "duration": 399,
    "start_time": "2021-11-21T17:27:08.075Z"
   },
   {
    "duration": 397,
    "start_time": "2021-11-21T17:27:08.079Z"
   },
   {
    "duration": 395,
    "start_time": "2021-11-21T17:27:08.082Z"
   },
   {
    "duration": 394,
    "start_time": "2021-11-21T17:27:08.085Z"
   },
   {
    "duration": 392,
    "start_time": "2021-11-21T17:27:08.089Z"
   },
   {
    "duration": 389,
    "start_time": "2021-11-21T17:27:08.093Z"
   },
   {
    "duration": 386,
    "start_time": "2021-11-21T17:27:08.097Z"
   },
   {
    "duration": 384,
    "start_time": "2021-11-21T17:27:08.100Z"
   },
   {
    "duration": 382,
    "start_time": "2021-11-21T17:27:08.103Z"
   },
   {
    "duration": 380,
    "start_time": "2021-11-21T17:27:08.107Z"
   },
   {
    "duration": 377,
    "start_time": "2021-11-21T17:27:08.111Z"
   },
   {
    "duration": 374,
    "start_time": "2021-11-21T17:27:08.115Z"
   },
   {
    "duration": 370,
    "start_time": "2021-11-21T17:27:08.120Z"
   },
   {
    "duration": 5,
    "start_time": "2021-11-21T17:28:29.031Z"
   },
   {
    "duration": 3163,
    "start_time": "2021-11-21T17:28:29.038Z"
   },
   {
    "duration": 416,
    "start_time": "2021-11-21T17:28:32.203Z"
   },
   {
    "duration": 7,
    "start_time": "2021-11-21T17:28:32.621Z"
   },
   {
    "duration": 43,
    "start_time": "2021-11-21T17:28:32.630Z"
   },
   {
    "duration": 25,
    "start_time": "2021-11-21T17:28:32.676Z"
   },
   {
    "duration": 3061,
    "start_time": "2021-11-21T17:28:32.703Z"
   },
   {
    "duration": 31,
    "start_time": "2021-11-21T17:28:35.767Z"
   },
   {
    "duration": 7,
    "start_time": "2021-11-21T17:28:35.799Z"
   },
   {
    "duration": 11,
    "start_time": "2021-11-21T17:28:35.808Z"
   },
   {
    "duration": 16142,
    "start_time": "2021-11-21T17:28:35.822Z"
   },
   {
    "duration": 4285,
    "start_time": "2021-11-21T17:28:51.966Z"
   },
   {
    "duration": 6,
    "start_time": "2021-11-21T17:28:56.264Z"
   },
   {
    "duration": 18,
    "start_time": "2021-11-21T17:28:56.272Z"
   },
   {
    "duration": 4079,
    "start_time": "2021-11-21T17:28:56.292Z"
   },
   {
    "duration": 4,
    "start_time": "2021-11-21T17:29:00.373Z"
   },
   {
    "duration": 41,
    "start_time": "2021-11-21T17:29:00.379Z"
   },
   {
    "duration": 41,
    "start_time": "2021-11-21T17:29:00.422Z"
   },
   {
    "duration": 502,
    "start_time": "2021-11-21T17:29:00.467Z"
   },
   {
    "duration": 313,
    "start_time": "2021-11-21T17:29:00.971Z"
   },
   {
    "duration": 11778,
    "start_time": "2021-11-21T17:29:01.287Z"
   },
   {
    "duration": 26,
    "start_time": "2021-11-21T17:29:13.067Z"
   },
   {
    "duration": 614,
    "start_time": "2021-11-21T17:29:13.095Z"
   },
   {
    "duration": 307,
    "start_time": "2021-11-21T17:29:13.710Z"
   },
   {
    "duration": 5263,
    "start_time": "2021-11-21T17:29:14.019Z"
   },
   {
    "duration": 3,
    "start_time": "2021-11-21T17:29:19.284Z"
   },
   {
    "duration": 60177,
    "start_time": "2021-11-21T17:29:19.289Z"
   },
   {
    "duration": 563,
    "start_time": "2021-11-21T17:30:19.470Z"
   },
   {
    "duration": 461,
    "start_time": "2021-11-21T17:30:19.575Z"
   },
   {
    "duration": 460,
    "start_time": "2021-11-21T17:30:19.578Z"
   },
   {
    "duration": 457,
    "start_time": "2021-11-21T17:30:19.582Z"
   },
   {
    "duration": 453,
    "start_time": "2021-11-21T17:30:19.588Z"
   },
   {
    "duration": 535,
    "start_time": "2021-11-21T17:30:57.069Z"
   },
   {
    "duration": 5,
    "start_time": "2021-11-21T17:31:12.799Z"
   },
   {
    "duration": 776,
    "start_time": "2021-11-21T17:31:17.577Z"
   },
   {
    "duration": 520,
    "start_time": "2021-11-21T17:32:13.218Z"
   },
   {
    "duration": 275,
    "start_time": "2021-11-21T17:33:06.721Z"
   },
   {
    "duration": 234,
    "start_time": "2021-11-21T17:33:58.955Z"
   },
   {
    "duration": 1073,
    "start_time": "2021-11-21T17:34:15.797Z"
   },
   {
    "duration": 645,
    "start_time": "2021-11-21T17:34:36.091Z"
   },
   {
    "duration": 1092,
    "start_time": "2021-11-21T17:35:05.954Z"
   },
   {
    "duration": 5,
    "start_time": "2021-11-21T17:35:15.201Z"
   },
   {
    "duration": 1382,
    "start_time": "2021-11-21T17:35:16.758Z"
   },
   {
    "duration": 1442,
    "start_time": "2021-11-21T17:35:23.807Z"
   },
   {
    "duration": 318,
    "start_time": "2021-11-21T17:35:48.909Z"
   },
   {
    "duration": 5456,
    "start_time": "2021-11-21T17:36:15.381Z"
   },
   {
    "duration": 306556,
    "start_time": "2021-11-21T17:36:41.949Z"
   },
   {
    "duration": 60483,
    "start_time": "2021-11-21T17:43:34.093Z"
   },
   {
    "duration": 496,
    "start_time": "2021-11-21T17:45:22.667Z"
   },
   {
    "duration": 242,
    "start_time": "2021-11-21T17:46:01.570Z"
   },
   {
    "duration": 23,
    "start_time": "2021-11-21T17:46:09.809Z"
   },
   {
    "duration": 235,
    "start_time": "2021-11-21T17:46:18.951Z"
   },
   {
    "duration": 7,
    "start_time": "2021-11-21T17:46:22.990Z"
   },
   {
    "duration": 1080,
    "start_time": "2021-11-21T17:47:09.438Z"
   },
   {
    "duration": 5,
    "start_time": "2021-11-21T17:47:16.630Z"
   },
   {
    "duration": 1471,
    "start_time": "2021-11-21T17:47:18.892Z"
   },
   {
    "duration": 1649,
    "start_time": "2021-11-21T17:47:23.102Z"
   },
   {
    "duration": 5739,
    "start_time": "2021-11-21T17:48:12.970Z"
   },
   {
    "duration": 1580,
    "start_time": "2021-11-21T17:48:24.100Z"
   },
   {
    "duration": 6,
    "start_time": "2021-11-21T17:49:39.785Z"
   },
   {
    "duration": 845,
    "start_time": "2021-11-21T17:54:44.699Z"
   },
   {
    "duration": 4296,
    "start_time": "2021-11-21T17:55:00.484Z"
   },
   {
    "duration": 48666,
    "start_time": "2021-11-21T18:14:54.483Z"
   },
   {
    "duration": 4,
    "start_time": "2021-11-21T18:18:37.387Z"
   },
   {
    "duration": 4,
    "start_time": "2021-11-21T18:18:41.312Z"
   },
   {
    "duration": 6,
    "start_time": "2021-11-21T18:18:59.248Z"
   },
   {
    "duration": 3180,
    "start_time": "2021-11-21T18:18:59.256Z"
   },
   {
    "duration": 508,
    "start_time": "2021-11-21T18:19:02.437Z"
   },
   {
    "duration": 19,
    "start_time": "2021-11-21T18:19:02.947Z"
   },
   {
    "duration": 37,
    "start_time": "2021-11-21T18:19:02.968Z"
   },
   {
    "duration": 22,
    "start_time": "2021-11-21T18:19:03.006Z"
   },
   {
    "duration": 1839,
    "start_time": "2021-11-21T18:19:03.033Z"
   },
   {
    "duration": 480,
    "start_time": "2021-11-21T18:19:04.395Z"
   },
   {
    "duration": 475,
    "start_time": "2021-11-21T18:19:04.402Z"
   },
   {
    "duration": 469,
    "start_time": "2021-11-21T18:19:04.409Z"
   },
   {
    "duration": 465,
    "start_time": "2021-11-21T18:19:04.414Z"
   },
   {
    "duration": 461,
    "start_time": "2021-11-21T18:19:04.419Z"
   },
   {
    "duration": 458,
    "start_time": "2021-11-21T18:19:04.423Z"
   },
   {
    "duration": 454,
    "start_time": "2021-11-21T18:19:04.428Z"
   },
   {
    "duration": 450,
    "start_time": "2021-11-21T18:19:04.433Z"
   },
   {
    "duration": 448,
    "start_time": "2021-11-21T18:19:04.436Z"
   },
   {
    "duration": 444,
    "start_time": "2021-11-21T18:19:04.441Z"
   },
   {
    "duration": 441,
    "start_time": "2021-11-21T18:19:04.445Z"
   },
   {
    "duration": 438,
    "start_time": "2021-11-21T18:19:04.449Z"
   },
   {
    "duration": 432,
    "start_time": "2021-11-21T18:19:04.456Z"
   },
   {
    "duration": 427,
    "start_time": "2021-11-21T18:19:04.462Z"
   },
   {
    "duration": 423,
    "start_time": "2021-11-21T18:19:04.467Z"
   },
   {
    "duration": 421,
    "start_time": "2021-11-21T18:19:04.470Z"
   },
   {
    "duration": 420,
    "start_time": "2021-11-21T18:19:04.473Z"
   },
   {
    "duration": 417,
    "start_time": "2021-11-21T18:19:04.477Z"
   },
   {
    "duration": 414,
    "start_time": "2021-11-21T18:19:04.481Z"
   },
   {
    "duration": 411,
    "start_time": "2021-11-21T18:19:04.485Z"
   },
   {
    "duration": 367,
    "start_time": "2021-11-21T18:19:04.530Z"
   },
   {
    "duration": 361,
    "start_time": "2021-11-21T18:19:04.536Z"
   },
   {
    "duration": 356,
    "start_time": "2021-11-21T18:19:04.542Z"
   },
   {
    "duration": 353,
    "start_time": "2021-11-21T18:19:04.546Z"
   },
   {
    "duration": 6,
    "start_time": "2021-11-21T18:19:09.902Z"
   },
   {
    "duration": 4764,
    "start_time": "2021-11-21T18:19:09.910Z"
   },
   {
    "duration": 422,
    "start_time": "2021-11-21T18:19:14.677Z"
   },
   {
    "duration": 8,
    "start_time": "2021-11-21T18:19:15.100Z"
   },
   {
    "duration": 26,
    "start_time": "2021-11-21T18:19:15.109Z"
   },
   {
    "duration": 38,
    "start_time": "2021-11-21T18:19:15.136Z"
   },
   {
    "duration": 3136,
    "start_time": "2021-11-21T18:19:15.177Z"
   },
   {
    "duration": 25,
    "start_time": "2021-11-21T18:19:18.316Z"
   },
   {
    "duration": 22,
    "start_time": "2021-11-21T18:19:18.342Z"
   },
   {
    "duration": 17,
    "start_time": "2021-11-21T18:19:18.366Z"
   },
   {
    "duration": 13546,
    "start_time": "2021-11-21T18:19:18.384Z"
   },
   {
    "duration": 4471,
    "start_time": "2021-11-21T18:19:31.932Z"
   },
   {
    "duration": 5,
    "start_time": "2021-11-21T18:19:36.405Z"
   },
   {
    "duration": 4201,
    "start_time": "2021-11-21T18:19:36.412Z"
   },
   {
    "duration": 6,
    "start_time": "2021-11-21T18:19:40.615Z"
   },
   {
    "duration": 39,
    "start_time": "2021-11-21T18:19:40.623Z"
   },
   {
    "duration": 477,
    "start_time": "2021-11-21T18:19:40.664Z"
   },
   {
    "duration": 455,
    "start_time": "2021-11-21T18:19:41.142Z"
   },
   {
    "duration": 13542,
    "start_time": "2021-11-21T18:19:41.601Z"
   },
   {
    "duration": 39,
    "start_time": "2021-11-21T18:19:55.145Z"
   },
   {
    "duration": 454,
    "start_time": "2021-11-21T18:19:55.186Z"
   },
   {
    "duration": 293,
    "start_time": "2021-11-21T18:19:55.641Z"
   },
   {
    "duration": 5481,
    "start_time": "2021-11-21T18:19:55.935Z"
   },
   {
    "duration": 3,
    "start_time": "2021-11-21T18:20:01.419Z"
   },
   {
    "duration": 53353,
    "start_time": "2021-11-21T18:20:01.423Z"
   },
   {
    "duration": 1197,
    "start_time": "2021-11-21T18:20:54.778Z"
   },
   {
    "duration": 9,
    "start_time": "2021-11-21T18:20:55.977Z"
   },
   {
    "duration": 1778,
    "start_time": "2021-11-21T18:20:55.989Z"
   },
   {
    "duration": 6,
    "start_time": "2021-11-21T18:20:57.769Z"
   },
   {
    "duration": 1524,
    "start_time": "2021-11-21T18:20:57.777Z"
   },
   {
    "duration": 4,
    "start_time": "2021-11-21T18:20:59.304Z"
   },
   {
    "duration": 6,
    "start_time": "2021-11-21T18:33:17.523Z"
   },
   {
    "duration": 2973,
    "start_time": "2021-11-21T18:33:17.531Z"
   },
   {
    "duration": 403,
    "start_time": "2021-11-21T18:33:20.505Z"
   },
   {
    "duration": 8,
    "start_time": "2021-11-21T18:33:20.909Z"
   },
   {
    "duration": 23,
    "start_time": "2021-11-21T18:33:20.918Z"
   },
   {
    "duration": 30,
    "start_time": "2021-11-21T18:33:20.963Z"
   },
   {
    "duration": 3132,
    "start_time": "2021-11-21T18:33:20.996Z"
   },
   {
    "duration": 39,
    "start_time": "2021-11-21T18:33:24.130Z"
   },
   {
    "duration": 6,
    "start_time": "2021-11-21T18:33:24.170Z"
   },
   {
    "duration": 24,
    "start_time": "2021-11-21T18:33:24.178Z"
   },
   {
    "duration": 13241,
    "start_time": "2021-11-21T18:33:24.204Z"
   },
   {
    "duration": 3955,
    "start_time": "2021-11-21T18:33:37.447Z"
   },
   {
    "duration": 5,
    "start_time": "2021-11-21T18:33:41.404Z"
   },
   {
    "duration": 4222,
    "start_time": "2021-11-21T18:33:41.411Z"
   },
   {
    "duration": 4,
    "start_time": "2021-11-21T18:33:45.634Z"
   },
   {
    "duration": 41,
    "start_time": "2021-11-21T18:33:45.640Z"
   },
   {
    "duration": 465,
    "start_time": "2021-11-21T18:33:45.683Z"
   },
   {
    "duration": 314,
    "start_time": "2021-11-21T18:33:46.150Z"
   },
   {
    "duration": 12378,
    "start_time": "2021-11-21T18:33:46.468Z"
   },
   {
    "duration": 38,
    "start_time": "2021-11-21T18:33:58.848Z"
   },
   {
    "duration": 468,
    "start_time": "2021-11-21T18:33:58.888Z"
   },
   {
    "duration": 286,
    "start_time": "2021-11-21T18:33:59.364Z"
   },
   {
    "duration": 5230,
    "start_time": "2021-11-21T18:33:59.651Z"
   },
   {
    "duration": 3,
    "start_time": "2021-11-21T18:34:04.883Z"
   },
   {
    "duration": 48525,
    "start_time": "2021-11-21T18:34:04.888Z"
   },
   {
    "duration": 1036,
    "start_time": "2021-11-21T18:34:53.415Z"
   },
   {
    "duration": 7,
    "start_time": "2021-11-21T18:34:54.464Z"
   },
   {
    "duration": 1502,
    "start_time": "2021-11-21T18:34:54.472Z"
   },
   {
    "duration": 5,
    "start_time": "2021-11-21T18:34:55.977Z"
   },
   {
    "duration": 1493,
    "start_time": "2021-11-21T18:34:55.985Z"
   },
   {
    "duration": 1160,
    "start_time": "2021-11-22T05:10:12.165Z"
   },
   {
    "duration": 2669,
    "start_time": "2021-11-22T05:10:13.329Z"
   },
   {
    "duration": 383,
    "start_time": "2021-11-22T05:10:16.000Z"
   },
   {
    "duration": 7,
    "start_time": "2021-11-22T05:10:16.385Z"
   },
   {
    "duration": 33,
    "start_time": "2021-11-22T05:10:16.393Z"
   },
   {
    "duration": 26,
    "start_time": "2021-11-22T05:10:16.428Z"
   },
   {
    "duration": 2951,
    "start_time": "2021-11-22T05:10:16.456Z"
   },
   {
    "duration": 30,
    "start_time": "2021-11-22T05:10:19.410Z"
   },
   {
    "duration": 5,
    "start_time": "2021-11-22T05:10:19.442Z"
   },
   {
    "duration": 12,
    "start_time": "2021-11-22T05:10:19.449Z"
   },
   {
    "duration": 12912,
    "start_time": "2021-11-22T05:10:19.463Z"
   },
   {
    "duration": 4138,
    "start_time": "2021-11-22T05:10:32.377Z"
   },
   {
    "duration": 5,
    "start_time": "2021-11-22T05:10:36.517Z"
   },
   {
    "duration": 3653,
    "start_time": "2021-11-22T05:10:36.523Z"
   },
   {
    "duration": 4,
    "start_time": "2021-11-22T05:10:40.178Z"
   },
   {
    "duration": 39,
    "start_time": "2021-11-22T05:10:40.183Z"
   },
   {
    "duration": 443,
    "start_time": "2021-11-22T05:10:40.224Z"
   },
   {
    "duration": 303,
    "start_time": "2021-11-22T05:10:40.669Z"
   },
   {
    "duration": 11762,
    "start_time": "2021-11-22T05:10:41.006Z"
   },
   {
    "duration": 18,
    "start_time": "2021-11-22T05:10:52.770Z"
   },
   {
    "duration": 560,
    "start_time": "2021-11-22T05:10:52.807Z"
   },
   {
    "duration": 307,
    "start_time": "2021-11-22T05:10:53.369Z"
   },
   {
    "duration": 4995,
    "start_time": "2021-11-22T05:10:53.678Z"
   },
   {
    "duration": 3,
    "start_time": "2021-11-22T05:10:58.675Z"
   },
   {
    "duration": 46904,
    "start_time": "2021-11-22T05:10:58.679Z"
   },
   {
    "duration": 994,
    "start_time": "2021-11-22T05:11:45.587Z"
   },
   {
    "duration": 23,
    "start_time": "2021-11-22T05:11:46.583Z"
   },
   {
    "duration": 1406,
    "start_time": "2021-11-22T05:11:46.608Z"
   },
   {
    "duration": 5,
    "start_time": "2021-11-22T05:11:48.016Z"
   },
   {
    "duration": 1450,
    "start_time": "2021-11-22T05:11:48.023Z"
   },
   {
    "duration": 1630,
    "start_time": "2021-11-22T13:01:36.634Z"
   },
   {
    "duration": 414,
    "start_time": "2021-11-22T13:03:19.879Z"
   },
   {
    "duration": 11,
    "start_time": "2021-11-22T13:03:27.434Z"
   },
   {
    "duration": 10,
    "start_time": "2021-11-22T13:03:58.768Z"
   },
   {
    "duration": 11,
    "start_time": "2021-11-22T13:04:18.169Z"
   }
  ],
  "kernelspec": {
   "display_name": "Python 3",
   "language": "python",
   "name": "python3"
  },
  "language_info": {
   "codemirror_mode": {
    "name": "ipython",
    "version": 3
   },
   "file_extension": ".py",
   "mimetype": "text/x-python",
   "name": "python",
   "nbconvert_exporter": "python",
   "pygments_lexer": "ipython3",
   "version": "3.8.8"
  },
  "toc": {
   "base_numbering": 1,
   "nav_menu": {},
   "number_sections": false,
   "sideBar": true,
   "skip_h1_title": false,
   "title_cell": "Содержание",
   "title_sidebar": "Contents",
   "toc_cell": true,
   "toc_position": {
    "height": "calc(100% - 180px)",
    "left": "10px",
    "top": "150px",
    "width": "366.188px"
   },
   "toc_section_display": true,
   "toc_window_display": true
  }
 },
 "nbformat": 4,
 "nbformat_minor": 2
}
